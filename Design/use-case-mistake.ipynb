{
  "cells": [
    {
      "cell_type": "markdown",
      "metadata": {
        "id": "8om5lQDIlKEn"
      },
      "source": [
        "![](https://i0.wp.com/thinhnotes.com/wp-content/uploads/2019/06/Use-case-diagram-va-5-sai-lam-thuong-gap-header.png?fit=945%2C594&ssl=1)"
      ]
    },
    {
      "cell_type": "markdown",
      "metadata": {
        "id": "PU3aOATold9s"
      },
      "source": [
        "Hê lô anh em. Ở kỳ trước mình đã nói về BPMN – một đồ nghề khá hữu dụng của BA. Hôm nay mình sẽ tiếp tục nói về 1 trong những đồ nghề khác cũng cực kỳ quan trọng không kém, đó chính là Use Case.\n",
        "\n",
        "Bản thân mình thời gian đầu dùng Use Case cũng gặp rất nhiều khó khăn. Một mớ bồng bông câu hỏi cứ lởn quởn trong đầu: bản chất của Use Case là gì, dùng cho mục đích nào, vẽ vậy đúng hay chưa, có chi tiết quá không, hoặc thậm chí vẽ Use Case xong cũng chẳng biết để làm gì???\n",
        "\n",
        "Do đó bài này mình sẽ note về những thứ mình học được, làm được và dĩ nhiên quan trọng nhất là những sai lầm mà mình từng mắc phải khi làm Use Case"
      ]
    },
    {
      "cell_type": "markdown",
      "metadata": {
        "id": "3lZUuYTJlllC"
      },
      "source": [
        "## Vấn đề phân rã Use Case bằng quan hệ Include\n",
        "\n",
        "Thực sự không có quy tắc nào rõ ràng cho việc khi nào cần tách Use Case ra thành các Use Case nhỏ và cho nó một mối quan hệ Include cả.\n",
        "\n",
        "Việc tách hay không tách phụ thuộc duy nhất vào người vẽ. Và lý do lớn nhất để mối quan hệ Include ra đời là giúp cho các Use Case của chúng ta DỄ QUẢN LÝ hơn; làm cho Use Case Diagram trông có vẻ nguy hiểm hơn mà thôi 😎\n",
        "\n",
        "Và anh em chỉ nên tách Use Case khi nó có độ phức tạp lớn và những thứ tách ra được có thể được tận dụng ở các Use Case sau này.\n",
        "\n",
        "Độ phức tạp lớn thì khi tách ra mình mới có được những Use Case vừa phải, đủ để diễn đạt dễ hiểu cho các stakeholders. Còn tận dụng được ở các Use Case sau là sao?"
      ]
    },
    {
      "cell_type": "markdown",
      "metadata": {
        "id": "_FcCD4vFltfK"
      },
      "source": [
        "![](https://i0.wp.com/thinhnotes.com/wp-content/uploads/2019/06/Use-Case-Include8-Thinhnotes.png?resize=676%2C419&ssl=1)"
      ]
    },
    {
      "cell_type": "markdown",
      "metadata": {
        "id": "rGm1uIB-l3jZ"
      },
      "source": [
        "Ví dụ Use Case A gồm 2 Use Case nhỏ bên trong là X và Y. Do đó Use Case A được tách thành Use Case X và Use Case Y.\n",
        "\n",
        "Tương tự, Use Case B gồm Use Case Y bên trong, nên được tách thành Use Case Y.\n",
        "\n",
        "Nhưng, Use Case C gồm Use Case X và Use Case Z bên trong, nhưng chỉ có Use Case X là được tách ra cho mối quan hệ Include. Vì có thể Use Case Z “không đáng” để tách ra thành một Use Case nhỏ hơn.\n",
        "\n",
        "Chúng ta tách Use Case X từ Use Case A để Use Case C có thể tận dụng được mà không cần vẽ lại. Tương tự, tách Use Cas Y từ Use Case B để Use Case A có thể tận dụng mà cũng không cần vẽ lại.\n",
        "\n",
        "Điều này giúp Use Case Diagram của chúng ta trở nên chặt chẽ, logic và gọn nhẹ hơn rất nhiều.\n",
        "\n",
        "Còn Use Case Z, vì nó không được “dùng lại” ở một Use Case bất kỳ nào sau đó, nên người vẽ có thể cân nhắc có tách nó ra hay không!\n",
        "\n",
        "Nếu Use Case đó đủ lớn và khá là high-level, thì có lẽ chúng ta nên tách. Còn nếu ngược lại, Use Case đã rõ ràng, là một requirement từ phía User cụ thể thì không đáng để anh em tách nó ra thành một Use Case nhỏ, chỉ làm hình thêm thêm rối mà thôi."
      ]
    },
    {
      "cell_type": "markdown",
      "metadata": {
        "id": "pit0N9K-l795"
      },
      "source": [
        "![](https://i0.wp.com/thinhnotes.com/wp-content/uploads/2019/06/Use-Case-Include7-Thinhnotes.png?resize=676%2C328&ssl=1)"
      ]
    },
    {
      "cell_type": "markdown",
      "metadata": {
        "id": "k8inyBODmX--"
      },
      "source": [
        " Vẽ Use Case mà thành phân rã chức năng\n",
        "Đây chính xác là lỗi mà mình hay gặp nhất, rất thường xuyên gặp khi vẽ Use Case"
      ]
    },
    {
      "cell_type": "markdown",
      "metadata": {},
      "source": [
        "# Chuyện đặt tên\n",
        "Trong mô hình hóa, chuyện đặt tên là rất-rất-rất quan trọng.\n",
        "\n",
        "Vì đã nói “mô-hình-hóa” tức là chúng ta dùng hình ảnh để nói chuyện, thì khi đó hàm lượng chữ chiếm rất ít. Và chính vì nó ít, nên những gì chúng ta ghi trên diagram phải rất súc tích, cô đọng và có giá trị ngay tức thì.\n",
        "\n",
        "Chỉ cần người đọc họ nhìn vô diagram mà thấy ngay 1 dòng chữ khó hiểu, thì ngay lập tức tụt bà nó hết mood, hết muốn xem tiếp rồi.\n",
        "\n",
        "Có 1 vài lưu ý sau cho anh em:\n",
        "\n",
        "- Actor thì phải đặt tên bằng danh từ, không dùng động từ, và cũng không mệnh đề quan hệ gì hết.\n",
        "- Tên Use Case thì phải ghi rõ ràng, rành mạch, đẹp nhất là dưới format: Verb + Noun.\n",
        "\n",
        "Ví dụ: Đổi điểm thành viên, Chuyển tiền nội địa, Chuyển tiền quốc tế, Duyệt nhận xét bài viết.\n",
        "\n",
        "Việc vẽ Use Case nhằm mục đích diễn tả yêu cầu cho stakeholders hiểu, do đó anh em không được dùng những từ kỹ thuật trong đây, không thể hiện sự nguy hiểm ở đây, người ta đọc zô hông hiểu gì hết là trớt quớt.\n",
        "\n",
        "Và đặc biệt là tránh đặt tên quá dài và không nên dùng kiểu bị động.\n"
      ]
    },
    {
      "cell_type": "markdown",
      "metadata": {},
      "source": [
        "![](https://i0.wp.com/thinhnotes.com/wp-content/uploads/2019/06/Use-Case-Sai-lam1-Thinhnotes.png?resize=676%2C591&ssl=1)"
      ]
    },
    {
      "cell_type": "markdown",
      "metadata": {},
      "source": [
        "# Vẽ Use Case mà thành phân loại chức năng\n",
        "Đây chính xác là lỗi mà mình hay gặp nhất, rất thường xuyên gặp khi vẽ Use Case\n",
        "\n",
        "Ví dụ:\n",
        "\n",
        "![](https://i0.wp.com/thinhnotes.com/wp-content/uploads/2019/06/Top_10_Mistakes_UCM.png?resize=676%2C370&ssl=1)"
      ]
    },
    {
      "cell_type": "markdown",
      "metadata": {},
      "source": [
        "Dấu hiệu nhận biết rõ ràng nhất là khi Use Case Diagram của anh em đầy rẫy chữ “manage”, manage cái này, manage cái kia…\n",
        "\n",
        "- Đầu tiên, chữ \"Manage\" rất rộng nghĩa. Yêu cầu quản lý A gồm 5 việc, thì không có nghĩa yêu cầu quản lý B cũng gồm 5 việc. Nếu nói Manage Gears, Manage Brakes, hay Manage Air Conditioner thì quá tối nghĩa, chả ai hiểu nhằm mục đích sau cùng là để làm gì.\n",
        "\n",
        "- Thứ hai, hình minh họa trên vẽ Use Case nhưng lại chưa mang được góc nhìn của End-Users, tức chưa cho thấy được End-Users muốn đạt được gì sau ngần ấy Use Case được liệt kê ra.\n",
        "\n",
        "Nguyên nhân là do bạn chưa nắm đủ thông tin về yêu cầu của End-Users, ảnh chưa hiểu rõ rốt cuộc thì người dùng họ muốn làm gì trên hệ thống, hay hệ thống phải tương tác những gì với hệ thống khác.\n",
        "\n",
        "Từ đó mới có chuyện anh em nhìn vô Use Case Diagram ở trên mà cảm thấy mông lung như một trò đùa. Do đó, chúng ta chỉ vẽ Use Case khi đã có đủ thông tin cần thiết:\n",
        "\n",
        "End-users muốn làm gì? Nhằm mục đích gì? ==> tương tác giữa end-users và hệ thống\n",
        "Hệ thống phải nhận/ lấy data từ những nguồn nào? ==> tương tác giữa hệ thống với những hệ thống bên ngoài khác.\n",
        "Ngoài ra, khi đã có đủ thông tin nhưng Use Case mình vẽ vẫn bị confuse. Lý do có thể do các Use Case mình vẽ bị lệch các cấp độ Requirement với nhau.\n",
        "\n",
        "Ví dụ Use Case A thì thể hiện Business Requirement, tức là rất high level. Nhưng sang Use Case B và C thì lại nói rất detail tới mức Solution Requirement như."
      ]
    },
    {
      "cell_type": "markdown",
      "metadata": {},
      "source": [
        "![](https://i0.wp.com/thinhnotes.com/wp-content/uploads/2019/06/Use-Case-Sai-lam2-Thinhnotes.png?resize=676%2C344&ssl=1)\n",
        "\n",
        "Để sửa lại Use Case trên, đơn giản mình chỉ cần bỏ Use Case A: Quản lý học viên ra, vì nó là thứ rất chung chung, không thể hiện được mục đích cụ thể, so với 2 Use Case còn lại.\n",
        "\n",
        "Tuy nhiên, chữ “Manage” trong Use Case lại rất công dụng, công dụng đến mức không thể không dùng trong các document mình làm, nó sẽ giúp mình giải quyết vấn đề ở mục số 3.4 phía dưới, đọc tiếp nhé anh em.\n",
        "\n",
        "## 3.3. Rối nùi Use Case\n",
        "Anh em tham khảo một số hình sau sẽ rõ.\n",
        "\n",
        "![](https://i0.wp.com/thinhnotes.com/wp-content/uploads/2019/06/RrfeI.jpg?resize=676%2C441&ssl=1)\n",
        "\n",
        "Vấn đề của hình này là ôm đồm quá nhiều. Dẫn đến quá nhiều Use Case xuất hiện trong cùng một Diagram, đã vậy cũng không có Boundary of System rõ ràng.\n",
        "\n",
        "Như anh em thấy, Use Case này vẽ rất sai ở những điểm như sau:\n",
        "\n",
        "- Xác định sai Use Case (nên mới nhiều UC như vậy): những thứ như single, double, num of guest… rõ ràng đâu phải là một Use Case, đâu phải là một sự tương tác.\n",
        "- Đặt tên Use Case sai: quá nhiều cụm danh từ cho Use Case.\n",
        "- Không có Boundary of System.\n",
        "- Những Use Case có extend không ghi chú cụ thể điều kiện khi nào thì UC extend xảy ra.\n",
        "Một note nhỏ quan trọng cho anh em, Use Case Diagram sạch đẹp là chỉ nên có trên dưới 10 Use Case trong đó. Các Use Case còn lại anh em hãy dùng Boundary of System để phân chia theo phân hệ một cách hợp lý nhất có thể.\n",
        "![](https://i0.wp.com/thinhnotes.com/wp-content/uploads/2019/06/usecase-uml_thumb.jpg?resize=676%2C515&ssl=1)\n",
        "\n",
        "Hình này rõ ràng là quá thứ dữ. Thật ra trường hợp này cũng khá phổ biến, mình trước kia bị hoài. Mấu chốt đến từ một số điều sau:\n",
        "\n",
        "Một số Use Case đặt tên sai\n",
        "Chưa tận dụng các Relationship để thể hiện, khiến cho các Use Case quá rời rạc nhau, và trông rất không hợp logic.\n",
        "Người vẽ không dùng Boundary of System để phân nhóm, giới hạn các Use Case.\n",
        "Và đặc biệt, người vẽ quá chú trọng đến các chức năng cơ bản nhất, đó là: CRUD – Create/Read/Update/Delete.\n",
        "\n",
        "## 3.4. Quá chi tiết các chức năng CRUD\n",
        "\n",
        "CRUD là viết tắt của Create (khởi tạo) , Read (đọc) hoặc Report (báo cáo), Update (cập nhật), Delete (xóa). Đây là những chức năng thao tác thường xuyên lên dữ liệu của hệ thống. Điểm đặc biết \n",
        "Như ví dụ trên, mỗi thực thể là một lần CRUD. Như vậy quá tốn effort, trong khi 96,69% là ở phân hệ nào, hay dữ liệu nào, anh em cũng đều cần phải CRUD dữ liệu hết.\n",
        "\n",
        "Điều này tạo ra một sự lặp đi lặp lại ở các Use Case Diagram, nhưng không thể hiện được gì nhiều cho người xem. Để giải quyết vấn đề này, anh em có thể có làm 1 trong 2 cách sau.\n",
        "\n",
        " \n",
        "\n",
        "Cách 1\n",
        "\n",
        "Thêm một dòng note trước đoạn mô tả Use Case trong tài liệu: “Toàn bộ dữ liệu đều có chức năng Thêm/ Đọc/ Sửa/ Xóa và chịu tác động bởi sự phân quyền từ phía Quản trị hệ thống” hoặc đại loại vậy. Để cho các stakeholder biết được rằng hệ thống có chức năng CRUD các dữ liệu này.\n",
        "\n",
        "Nhưng nên nhớ CRUD ở đây là đứng từ góc nhìn End-Users: hệ thống có cho phép End-Users CRUD dữ liệu hay không?\n",
        "\n",
        "Ví dụ hệ thống CRM lấy dữ liệu khuyến mãi từ hệ thống ERP. Thì về bản chất CRM phải có khả năng Create dữ liệu khuyến mãi, thì mới lấy dữ liệu khuyến mãi từ ERP về được.\n",
        "\n",
        "Nhưng theo góc nhìn của End-Users, thì không một người dùng nào (kể cả System Admin) có thể tạo thủ công dữ liệu khuyến mãi trên CRM, mà End-Users họ chỉ Đọc/ Sửa/ Xóa dữ liệu được lấy về này thôi.\n",
        "\n",
        "Do đó ở đây anh em cần mô tả rõ là có phải tất cả dữ liệu đều cho phép End-Users CRUD được hay không (không tính phân quyền)."
      ]
    },
    {
      "cell_type": "markdown",
      "metadata": {},
      "source": []
    }
  ],
  "metadata": {
    "colab": {
      "provenance": []
    },
    "kernelspec": {
      "display_name": "Python 3",
      "name": "python3"
    },
    "language_info": {
      "name": "python"
    }
  },
  "nbformat": 4,
  "nbformat_minor": 0
}
