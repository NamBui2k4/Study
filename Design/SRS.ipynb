{
 "cells": [
  {
   "cell_type": "markdown",
   "metadata": {},
   "source": [
    "Bài viết được lấy từ nguồn: [itnavi](https://itnavi.com.vn/blog/srs-la-gi)"
   ]
  },
  {
   "cell_type": "markdown",
   "metadata": {},
   "source": [
    "# SRS là gì và tầm quan trọng của tài liệu này trong quy trình sản xuất phần mềm"
   ]
  },
  {
   "cell_type": "markdown",
   "metadata": {},
   "source": [
    "Trong quá trình sản xuất phần mềm, đa số chúng ta luôn đặt câu hỏi \"Phần mềm này hoạt động thế nào ? Nó dùng để làm gì?\". Không chỉ ở phía người dùng mà ngay cả những developer chuyên nghiệp cũng sẽ đặt ra những câu hỏi như thế này, vì phần mềm rất đa dạng lĩnh vực và ngay cả người trong ngành cũng không thể nhìn code một phát hiểu được app chạy thế nào.\n",
    "\n",
    " Đó là lúc chúng ta cần một tài liệu đặc tả có tên là SRS."
   ]
  },
  {
   "cell_type": "markdown",
   "metadata": {},
   "source": [
    "## Tài liệu SRS là gì?\n",
    "Tài liệu SRS là từ viết tắt của Software Requirement Specification, được dịch ra tiếng việt là tài liệu đặc tả yêu cầu. SRS là tài liệu được sử dụng để mô tả chi tiết các yêu cầu chức năng và phi chức năng của hệ thống. Tài liệu này sẽ hỗ trợ đưa ra các tính năng của hệ thống hay dùng cho việc đọc hiểu hệ thống của bên thứ ba liên quan đến công ty."
   ]
  },
  {
   "cell_type": "markdown",
   "metadata": {},
   "source": [
    "![](https://d3hi6wehcrq5by.cloudfront.net/itnavi-blog/2021/04/SRS-l%C3%A0-g%C3%AC-1.jpg)"
   ]
  },
  {
   "cell_type": "markdown",
   "metadata": {},
   "source": [
    "Đây là một tài liệu quan trọng cho đội phát triển (system analyst, business analyst, code) và kiểm thử (tester).Nội dung của SRS là mô tả các chức năng và cấu trúc của hệ thống là FR và NFR. \n",
    "\n",
    "Tài liệu đặc tả yêu cầu SRS còn đóng vai trò là cầu nối liên kết giữa người dùng và nhà sáng tạo và từ đó hệ thống có thể đáp ứng được đúng mục đích và yêu cầu của người sử dụng. Ngoài ra, dựa vào các yêu cầu mà SRS thống kê, ta có thể đánh giá được số lượng scope, thời gian hoàn thành hay những chi phí cần đáp ứng giúp hoàn thành sản phẩm một cách nhanh chóng và dễ dàng hơn."
   ]
  },
  {
   "cell_type": "markdown",
   "metadata": {},
   "source": [
    "## Tầm quan trọng của tài liệu SRS\n",
    "\n",
    "SRS là tài liệu đặc tả vô cùng quan trọng trong quá trình phát triển phần mềm, nó có vai trò:\n",
    "\n",
    "- Giúp cho các bên thứ ba - stakeholders đều hiểu được hệ thống theo cùng một hướng, tránh trường hợp mỗi người một ý.\n",
    "- Giúp cho đội phát triển xây dựng hệ thống một cách chính xác, đặc tả được các tính năng, không đi lạc hướng so với yêu cầu của khách hàng.\n",
    "- SRS giúp nhà kiểm thử hệ thống đọc hiểu từ đó xây dựng nên kịch bản kiểm thử chi tiết nhất.\n",
    "- Giúp cho việc bảo trì hệ thống và cải tiến những chức năng của hệ thống một cách nhanh chóng và dễ dàng."
   ]
  },
  {
   "cell_type": "markdown",
   "metadata": {},
   "source": [
    "![](https://d3hi6wehcrq5by.cloudfront.net/itnavi-blog/2021/04/SRS-l%C3%A0-g%C3%AC-2.jpg)"
   ]
  },
  {
   "cell_type": "markdown",
   "metadata": {},
   "source": [
    "## Thành phần chính của tài liệu đặc tả yêu cầu SRS\n",
    "\n",
    "Thực ra, có nhiều quan điểm về việc một tài liệu SRS được thiết kế như nào, nhưng nhìn chung thì nó giống như một bài văn lớp 12 có ba phần\n",
    "mở-thân-kết, các phần có thể khác nhau ở một vài chữ nhưng vẫn đảm bảo bố cục như thế này. Nghĩa là chúng ta có thể chỉnh sửa sao cũng được miễn là nó phù hợp với tiêu chuẩn của người đọc tài liệu (nhất là các developer)\n",
    "\n",
    "Mình sẽ nói qua các phần chính của một SRS mà theo quan điểm của mình nó khá phù hợp với mọi người.\n",
    "\n",
    "### 1. Phần giới thiệu - Introduction\n",
    "\n",
    "Đây là phần đầu tiên của tài liệu, bao gồm các nội dung:\n",
    "\n",
    "- Purpose - mục đích:  mô tả mục đích và phạm vi của tài liệu SRS. Nó giúp người đọc hiểu rõ tài liệu này đề cập đến sản phẩm nào và chi tiết ra sao.\n",
    "- Convention - quy ước: đưa ra các quy ước về thuật ngữ, ký hiệu trong tài liệu, giúp người đọc dễ hiểu nội dung\n",
    "- Intended Audience and Reading Suggestions: Xác định xem người nào phù hợp để đọc tài liệu (thường là developer, project manager, marketing staff, user, testers,...)\n",
    "- Product Scope: mô tả ngắn gọn thông tin và mục đích của phần mềm.\n",
    "- References: đính kèm các tài liệu tham khảo từ link khác (nếu có)."
   ]
  },
  {
   "cell_type": "markdown",
   "metadata": {},
   "source": []
  },
  {
   "cell_type": "markdown",
   "metadata": {},
   "source": [
    "### 2.\tPhần tổng quan - Overall Description"
   ]
  },
  {
   "cell_type": "markdown",
   "metadata": {},
   "source": [
    "- Product Perspective - bối cản sản phẩm: \n",
    "  + Mô tả bối cảnh ra đời phần mềm. Ví dụ: App này nằm ở dòng sản phẩm nào, là phiên bản thay thế cho app nào, hay là một app hoàn toàn mới,... \n",
    "\n",
    "  + Nếu đây chỉ là một phần nhỏ của hệ thống lớn thì liên hệ nó với hệ thống đó. Có thể dùng diagram để mô tả quan hệ giữa chúng"
   ]
  },
  {
   "cell_type": "markdown",
   "metadata": {},
   "source": [
    "- User Classes and Characteristics: Phân loại các nhóm người sẽ dùng sản phẩm của mình. Có thể phân loại dựa trên tần suất sử dụng, các chức năng sản phẩm sẽ được sử dụng, chuyên môn kỹ thuật, mức độ bảo mật hoặc quyền hạn, trình độ học vấn hoặc kinh nghiệm,...\n",
    "\n",
    "Ví dụ: Một ứng dụng di động để quản lý tài chính cá nhân thì sẽ có 3 nhóm người dùng: Người dùng thường xuyên, Người dùng thỉnh thoảng, Người dùng hiếm khi."
   ]
  },
  {
   "cell_type": "markdown",
   "metadata": {},
   "source": [
    "- Operating Environment: Môi trường hoạt động của ứng dụng, hiểu đơn giản là nền tảng app, phần cứng như thế nào, hệ điều hành, phiên bản ra sao, có liên kết với các phần mềm khác không"
   ]
  },
  {
   "cell_type": "markdown",
   "metadata": {},
   "source": [
    "- Design and Implementation Constraints (Ràng buộc thiết kế và triển khai): mô tả các yếu tố giới hạn khả năng lựa chọn của các nhà phát triển khi thiết kế và triển khai phần mềm. Nó giúp các nhà phát triển hiểu rõ những hạn chế cần được lưu ý trong quá trình phát triển.\n",
    "\n",
    "Chúng có thể bao gồm: chính sách của công ty hoặc quy định; hạn chế về phần cứng (yêu cầu thời gian, yêu cầu bộ nhớ); giao diện với các ứng dụng khác; công nghệ, công cụ và cơ sở dữ liệu cụ thể cần được sử dụng; hoạt động song song; yêu cầu ngôn ngữ; giao thức truyền thông; các cân nhắc về bảo mật; quy ước thiết kế hoặc tiêu chuẩn lập trình (ví dụ: nếu tổ chức của khách hàng sẽ chịu trách nhiệm bảo trì phần mềm được cung cấp)."
   ]
  },
  {
   "cell_type": "markdown",
   "metadata": {},
   "source": []
  }
 ],
 "metadata": {
  "language_info": {
   "name": "python"
  }
 },
 "nbformat": 4,
 "nbformat_minor": 2
}
