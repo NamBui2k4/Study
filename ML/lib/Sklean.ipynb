{
 "cells": [
  {
   "cell_type": "markdown",
   "metadata": {},
   "source": [
    "## Machine learning: the problem setting\n",
    "\n",
    "In general, an ML problem considers a set of n samples of data and then tries to predict properties of unknown data. If each sample is more than a single number and, for instance, a multi-dimensional entry (aka multivariate data), it is said to have several attributes or features.\n",
    "\n",
    "We know that there are few categories of problems:\n",
    "* supervised learning,\n",
    "* classification\n",
    "* regression\n",
    "* unsupervised learning\n",
    "\n",
    "__Training set and testing set__\n",
    "\n",
    "Machine learning is about learning some properties of a data set and then testing those properties against another data set. A common practice in machine learning is to evaluate an algorithm by splitting a data set into two. We call one of those sets the training set, on which we learn some properties; we call the other set the testing set, on which we test the learned properties.\n",
    "\n",
    "To solve these problem, we use scikit-learn.\n",
    "\n"
   ]
  },
  {
   "cell_type": "markdown",
   "metadata": {},
   "source": [
    "# What is Scikit-learn?\n",
    "\n",
    "- simple and efficient tool for data analysis and data mining\n",
    "- built on NumPy, SciPy, and matplotlib\n",
    "- open source, commercially usable berkely software distribution (BSD) licence"
   ]
  },
  {
   "cell_type": "markdown",
   "metadata": {},
   "source": [
    "# What we can achieve using Scikit-learn?\n",
    "\n",
    "For many categories of problem, we get these benefit:\n",
    "- Classification: identifying which category an object belongs to. For example, Spam detection\n",
    "- Regression: predicting an attribute associated with an object. For example, Stock price prediction\n",
    "- Clustering: automatic group of similar object into a set. For example, customer segmentation\n",
    "\n",
    "Further more, we can obtain some advanced features like:\n",
    "- Model selection: comparing, validating, and choosing a model and parameter\n",
    "- Dimentionality reduction: reducing the random variable to consider. For applications, It is used to increase model efficiency\n",
    "- Preprocessing: feature extraction and normalization. With this, we can transform input data as text for use with machine learning algorithms"
   ]
  },
  {
   "cell_type": "markdown",
   "metadata": {},
   "source": [
    "## Start with Scikit-Learn\n",
    "\n",
    "### Install\n",
    "\n",
    "* `pip install -U scikit-learn`\n",
    "  \n",
    "### Import\n",
    "\n",
    "* `import sklearn`\n",
    "  \n",
    "### Scikit Learn Loading Dataset\n",
    "\n",
    "A collection of data is called dataset. It is having the following two components:\n",
    "\n",
    "- Features − The variables of data are called its features. They are also known as predictors, inputs or attributes.\n",
    "\n",
    "  + Feature matrix − It is the collection of features, in case there are more than one.\n",
    "\n",
    "  + Feature Names − It is the list of all the names of the features.\n",
    "\n",
    "- Response − It is the output variable that basically depends upon the feature variables. They are also known as target, label or output.\n",
    "\n",
    "  + Response Vector − It is used to represent response column. Generally, we have just one response column.\n",
    "\n",
    "  + Target Names − It represent the possible values taken by a response vector.\n",
    "\n",
    "Scikit-learn have few example datasets like `iris` and `digits` for classification and the Boston house prices for regression.\n",
    "\n",
    "Let’s start with loading a simple dataset named `Iris`. Let’s see how to load the dataset using scikit-learn.\n"
   ]
  },
  {
   "cell_type": "code",
   "execution_count": 7,
   "metadata": {},
   "outputs": [
    {
     "name": "stdout",
     "output_type": "stream",
     "text": [
      "Feature names: ['sepal length (cm)', 'sepal width (cm)', 'petal length (cm)', 'petal width (cm)']\n",
      "Target names: ['setosa' 'versicolor' 'virginica']\n",
      "\n",
      "First 10 rows of X:\n",
      " [[5.1 3.5 1.4 0.2]\n",
      " [4.9 3.  1.4 0.2]\n",
      " [4.7 3.2 1.3 0.2]\n",
      " [4.6 3.1 1.5 0.2]\n",
      " [5.  3.6 1.4 0.2]\n",
      " [5.4 3.9 1.7 0.4]\n",
      " [4.6 3.4 1.4 0.3]\n",
      " [5.  3.4 1.5 0.2]\n",
      " [4.4 2.9 1.4 0.2]\n",
      " [4.9 3.1 1.5 0.1]]\n"
     ]
    }
   ],
   "source": [
    "from sklearn.datasets import load_iris\n",
    "iris = load_iris()\n",
    "\n",
    "X = iris.data\n",
    "y = iris.target\n",
    "\n",
    "feature_names = iris.feature_names\n",
    "target_names = iris.target_names\n",
    "\n",
    "print(\"Feature names:\", feature_names)\n",
    "print(\"Target names:\", target_names)\n",
    "print(\"\\nFirst 10 rows of X:\\n\", X[:10])\n"
   ]
  },
  {
   "cell_type": "markdown",
   "metadata": {},
   "source": [
    "`Iris` is one of the classic and most studied datasets in the field of machine learning and statistics. It contains the measured characteristics of 150 Iris flowers, belonging to three different species: Iris Setosa, Iris Versicolor, and Iris Virginica. Each flower is described by four characteristics: the length and width of the sepal (sepal), and the length and width of the petals (petal).\n",
    "\n",
    "Using the Iris flower dataset in machine learning helps us understand how a model can learn to recognize and classify real-life objects (in this case flowers) based on measured data about their characteristics. their physical points.\n",
    "\n",
    "![](https://th.bing.com/th/id/OIP.d5wc_Y_h7MEeF8vQhTm5cwAAAA?rs=1&pid=ImgDetMain)"
   ]
  },
  {
   "cell_type": "code",
   "execution_count": null,
   "metadata": {},
   "outputs": [],
   "source": [
    "\n"
   ]
  },
  {
   "cell_type": "markdown",
   "metadata": {},
   "source": [
    "Source: \n",
    "- [scikit-learn](https://scikit-learn.org/stable/tutorial/basic/tutorial.html#machine-learning-the-problem-setting)\n",
    "- [tutorialspoint](https://www.tutorialspoint.com/scikit_learn/scikit_learn_modelling_process.htm)"
   ]
  }
 ],
 "metadata": {
  "kernelspec": {
   "display_name": "Python 3",
   "language": "python",
   "name": "python3"
  },
  "language_info": {
   "codemirror_mode": {
    "name": "ipython",
    "version": 3
   },
   "file_extension": ".py",
   "mimetype": "text/x-python",
   "name": "python",
   "nbconvert_exporter": "python",
   "pygments_lexer": "ipython3",
   "version": "3.10.11"
  }
 },
 "nbformat": 4,
 "nbformat_minor": 2
}
