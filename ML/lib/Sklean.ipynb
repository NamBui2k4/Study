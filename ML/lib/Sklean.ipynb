{
 "cells": [
  {
   "cell_type": "markdown",
   "metadata": {},
   "source": [
    "# Thư Viện Scikit-Learn Trong Python\n",
    "\n",
    "Đã là một nhà phát triển chuyên nghiệp thì việc sử dụng linh hoạt các bộ thư viện trong Python là điều hiển nhiên. Trong đó, thư viện Scikit-learn được áp dụng để đưa ngành học máy vào hệ thống nhằm phục vụ cho việc xử lý các tác vụ sau này trong Python. Tóm lại, chúng tôi sẽ giúp bạn hiểu thêm về thư viện Scikit-learn trong Python ngay trong phạm vi bài viết này."
   ]
  },
  {
   "cell_type": "markdown",
   "metadata": {},
   "source": [
    "## Thư viện Scikit-learn trong Python là gì?\n",
    "Scikit-learn cũng tương tự như các thư viện khác và đóng vai trò quan trọng cho ngôn ngữ lập trình Python. Mục đích chính là xử lý dữ liệu và những thao tác liên quan đến học máy. Nói cách khác, nó hỗ trợ nhiều công cụ cho việc xử lý dữ liệu sơ khởi. Từ đó, giúp bạn lựa chọn mô hình học máy cũng như tối ưu những tham số về sau."
   ]
  },
  {
   "cell_type": "code",
   "execution_count": null,
   "metadata": {
    "vscode": {
     "languageId": "plaintext"
    }
   },
   "outputs": [],
   "source": [
    "import "
   ]
  }
 ],
 "metadata": {
  "language_info": {
   "name": "python"
  }
 },
 "nbformat": 4,
 "nbformat_minor": 2
}
