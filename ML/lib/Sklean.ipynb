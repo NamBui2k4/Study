{
 "cells": [
  {
   "cell_type": "markdown",
   "metadata": {},
   "source": [
    "# Scikit-Learn in Python\n",
    "\n",
    "As an professional developer, working with flexible python's tools is essential to organize, analyze the data. The Scikit-Learn is a powerful library to integrate machine learning in solving data problems. This topic will cover the knowledge of the Scikit-Learn "
   ]
  },
  {
   "cell_type": "markdown",
   "metadata": {},
   "source": [
    "## Machine learning: the problem setting\n",
    "\n",
    "In general, an ML problem considers a set of n samples of data and then tries to predict properties of unknown data. If each sample is more than a single number and, for instance, a multi-dimensional entry (aka multivariate data), it is said to have several attributes or features.\n",
    "\n",
    "We know that there are few categories of problems:\n",
    "* supervised learning,\n",
    "* classification\n",
    "* regression\n",
    "* unsupervised learning\n",
    "\n",
    "__Training set and testing set__\n",
    "\n",
    "Machine learning is about learning some properties of a data set and then testing those properties against another data set. A common practice in machine learning is to evaluate an algorithm by splitting a data set into two. We call one of those sets the training set, on which we learn some properties; we call the other set the testing set, on which we test the learned properties.\n"
   ]
  },
  {
   "cell_type": "markdown",
   "metadata": {},
   "source": [
    "## Start with Scikit-Learn\n",
    "\n",
    "### Install\n",
    "* `pip install -U scikit-learn`\n",
    "  \n",
    "### Import\n",
    "\n",
    "* `import sklearn`\n",
    "  \n",
    "### Scikit Learn Loading Dataset\n",
    "\n",
    "\n",
    "`scikit-learn` comes with a few standard datasets, for instance the `iris` and `digits` datasets for classification and the diabetes dataset for regression\n",
    "\n",
    "Let’s start with loading a dataset to play with. Let’s load a simple dataset named Iris. It is a dataset of a flower, it contains 150 observations about different measurements of the flower. Let’s see how to load the dataset using scikit-learn.\n"
   ]
  },
  {
   "cell_type": "code",
   "execution_count": 3,
   "metadata": {},
   "outputs": [
    {
     "name": "stdout",
     "output_type": "stream",
     "text": [
      "(150, 4)\n"
     ]
    }
   ],
   "source": [
    "# Import scikit learn\n",
    "from sklearn import datasets\n",
    "\n",
    "# Load data\n",
    "iris= datasets.load_iris()\n",
    "\n",
    "# Print shape of data to confirm data is loaded\n",
    "print(iris.data.shape)"
   ]
  }
 ],
 "metadata": {
  "kernelspec": {
   "display_name": "Python 3",
   "language": "python",
   "name": "python3"
  },
  "language_info": {
   "codemirror_mode": {
    "name": "ipython",
    "version": 3
   },
   "file_extension": ".py",
   "mimetype": "text/x-python",
   "name": "python",
   "nbconvert_exporter": "python",
   "pygments_lexer": "ipython3",
   "version": "3.10.12"
  }
 },
 "nbformat": 4,
 "nbformat_minor": 2
}
