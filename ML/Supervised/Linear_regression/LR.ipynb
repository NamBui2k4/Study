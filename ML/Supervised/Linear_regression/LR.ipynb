{
 "cells": [
  {
   "cell_type": "code",
   "execution_count": null,
   "metadata": {},
   "outputs": [],
   "source": [
    "# Hồi quy tuyến tính\n",
    "Thuật toán linear regression giải quyết các bài toán có đầu ra là giá trị thực, ví dụ: dự đoán giá nhà, dự đoán giá cổ phiếu, dự đoán tuổi,..\n",
    "\n",
    "## Bài toán\n",
    "\n",
    "Bạn làm ở công ty bất động sản, bạn có dữ liệu về diện tích và giá nhà, giờ có một ngôi nhà mới bạn muốn ước tính xem giá ngôi nhà đó khoảng bao nhiêu. Trên thực tế thì giá nhà phụ thuộc rất nhiều yếu tố: diện tích, số phòng, gần trung tâm thương mại,.. nhưng để cho bài toán đơn giản giả sử giá nhà chỉ phụ thuộc vào diện tích căn nhà. Bạn có dữ liệu về diện tích và giá bán của 30 căn nhà như sau:\n",
    "\n",
    "|Diện tích(m2)|Giá bán (triệu VNĐ)  |\n",
    "|-------------|---------------------|\n",
    "|30           |448.524              | \n",
    "|32.4138      |509.248              |\n",
    "|34.8276      |535.104              | \n",
    "|37.2414      |551.432              | \n",
    "|39.6552      |623.418              |\n",
    " ...          |.."
   ]
  },
  {
   "cell_type": "markdown",
   "metadata": {},
   "source": []
  }
 ],
 "metadata": {
  "language_info": {
   "name": "python"
  }
 },
 "nbformat": 4,
 "nbformat_minor": 2
}
