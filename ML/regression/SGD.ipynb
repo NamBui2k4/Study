{
 "cells": [
  {
   "cell_type": "markdown",
   "metadata": {},
   "source": [
    "# Stochastic Gradient Descent (SGD)"
   ]
  },
  {
   "cell_type": "markdown",
   "metadata": {},
   "source": [
    "### Nhắc lại thuật toán Gradient Descent"
   ]
  },
  {
   "cell_type": "markdown",
   "metadata": {},
   "source": [
    "Để giải bài toán tìm điểm global optimal của hàm mất mát $J(θ)$ (Hàm mất mát cũng thường được ký hiệu là $J()$ với $θ$ là tập hợp các tham số của mô hình), chúng ta thực hiện các bước :"
   ]
  },
  {
   "cell_type": "markdown",
   "metadata": {},
   "source": [
    "1. khởi tạo $θ=θ_0$. Thường là $(1,1,1...,1)$ hoặc $(0,0,...,0)$\n",
    "2. Cập nhật θ đến khi đạt được kết quả chấp nhận được: $$θ=θ−η × ∇_θJ(θ)$$\n",
    "\n",
    "với $∇_θJ(θ)$ là đạo hàm của hàm mất mát tại θ.\n",
    "\n",
    "Đây chính là thuật toán GD cơ bản. Nếu bạn đọc còn phân vân GD là gì thì hãy nghiên cứu kỹ chương [Gradient Descent](GD.ipynb) để nắm rõ nhé."
   ]
  },
  {
   "cell_type": "markdown",
   "metadata": {},
   "source": [
    "Trong bài viết này, tôi sẽ giới thiệu thêm một biến thể khác của gradient descent được gọi là Stochastic Gradient Descent (SGD)"
   ]
  },
  {
   "cell_type": "markdown",
   "metadata": {},
   "source": [
    "## Ý tưởng thuật toán"
   ]
  },
  {
   "cell_type": "markdown",
   "metadata": {},
   "source": [
    "Trong thuật toán này, tại 1 thời điểm, ta chỉ tính đạo hàm của hàm mất mát dựa trên chỉ một điểm dữ liệu xi rồi cập nhật $θ$ dựa trên đạo hàm này. Việc này được thực hiện với từng điểm trên toàn bộ dữ liệu, sau đó lặp lại quá trình trên. Thuật toán rất đơn giản này trên thực tế lại làm việc rất hiệu quả.\n",
    "\n",
    "Mỗi lần duyệt một lượt qua tất cả các điểm trên toàn bộ dữ liệu được gọi là một epoch. Với GD thông thường thì mỗi epoch ứng với 1 lần cập nhật $θ$, với SGD thì mỗi epoch ứng với N lần cập nhật θ với N là số điểm dữ liệu. \n",
    "\n",
    "Nhìn vào một mặt, việc cập nhật từng điểm một như thế này có thể làm giảm đi tốc độ thực hiện 1 epoch. Nhưng nhìn vào một mặt khác, SGD chỉ yêu cầu một lượng epoch rất nhỏ (thường là 10 cho lần đầu tiên, sau đó khi có dữ liệu mới thì chỉ cần chạy dưới một epoch là đã có nghiệm tốt). Vì vậy SGD phù hợp với các bài toán có lượng cơ sở dữ liệu lớn (chủ yếu là Deep Learning mà chúng ta sẽ thấy trong phần sau của blog) và các bài toán yêu cầu mô hình thay đổi liên tục, tức online learning."
   ]
  },
  {
   "cell_type": "markdown",
   "metadata": {},
   "source": [
    "**Thứ tự lựa chọn điểm dữ liệu**\n",
    "\n",
    "Một điểm cần lưu ý đó là: sau mỗi epoch, chúng ta cần shuffle (xáo trộn) thứ tự của các dữ liệu để đảm bảo tính ngẫu nhiên. Việc này cũng ảnh hưởng tới hiệu năng của SGD.\n",
    "\n",
    "Một cách toán học, quy tắc cập nhật của SGD là:$$θ=θ−η×∇_θJ(θ;xi;yi)$$\n",
    "\n",
    "trong đó $∇_θJ(θ;xi;yi)$ là đạo hàm của hàm mất mát $J(θ;xi;yi)$ tại 1 cặp điểm dữ liệu $(x_i,y_i)$. \n",
    "\n",
    "Chú ý: chúng ta hoàn toàn có thể áp dụng các thuật toán tăng tốc GD như Momentum, AdaGrad,… vào SGD.\n",
    "\n",
    "**Ví dụ với bài toán Linear Regression**\n",
    "\n",
    "Với bài toán Linear Regression, $θ=w$, hàm mất mát tại một điểm dữ liệu là:\n",
    "\n",
    "$$J(w;x_i;y_i)= \\frac{1}{2}(x_i w − y_i)^2$$\n",
    "\n",
    "Đạo hàm theo w tương ứng là:"
   ]
  },
  {
   "cell_type": "markdown",
   "metadata": {},
   "source": [
    "$$∇_wJ(w;x_i;y_i)=x^T_i(x_iw−y_i)$$"
   ]
  },
  {
   "cell_type": "code",
   "execution_count": 7,
   "metadata": {},
   "outputs": [
    {
     "name": "stdout",
     "output_type": "stream",
     "text": [
      "Epoch 1: Loss = 5.5989, w = 1.5813, y = 1.4749\n",
      "Epoch 2: Loss = 4.3558, w = 1.5031, y = 1.4527\n",
      "Epoch 3: Loss = 3.3895, w = 1.4342, y = 1.4331\n",
      "Epoch 4: Loss = 2.6383, w = 1.3734, y = 1.4157\n",
      "Epoch 5: Loss = 2.0543, w = 1.3199, y = 1.4004\n",
      "Epoch 6: Loss = 1.6003, w = 1.2727, y = 1.3868\n",
      "Epoch 7: Loss = 1.2474, w = 1.2311, y = 1.3747\n",
      "Epoch 8: Loss = 0.9730, w = 1.1944, y = 1.3640\n",
      "Epoch 9: Loss = 0.7597, w = 1.1621, y = 1.3546\n",
      "Epoch 10: Loss = 0.5939, w = 1.1336, y = 1.3462\n",
      "Epoch 11: Loss = 0.4650, w = 1.1086, y = 1.3387\n",
      "Epoch 12: Loss = 0.3647, w = 1.0865, y = 1.3320\n",
      "Epoch 13: Loss = 0.2868, w = 1.0670, y = 1.3261\n",
      "Epoch 14: Loss = 0.2262, w = 1.0498, y = 1.3209\n",
      "Epoch 15: Loss = 0.1791, w = 1.0347, y = 1.3162\n",
      "Epoch 16: Loss = 0.1425, w = 1.0214, y = 1.3120\n",
      "Epoch 17: Loss = 0.1140, w = 1.0097, y = 1.3082\n",
      "Epoch 18: Loss = 0.0918, w = 0.9994, y = 1.3048\n",
      "Epoch 19: Loss = 0.0746, w = 0.9903, y = 1.3018\n",
      "Epoch 20: Loss = 0.0612, w = 0.9823, y = 1.2991\n",
      "Epoch 21: Loss = 0.0507, w = 0.9753, y = 1.2966\n",
      "Epoch 22: Loss = 0.0426, w = 0.9691, y = 1.2944\n",
      "Epoch 23: Loss = 0.0363, w = 0.9637, y = 1.2924\n",
      "Epoch 24: Loss = 0.0313, w = 0.9589, y = 1.2905\n",
      "Epoch 25: Loss = 0.0275, w = 0.9547, y = 1.2889\n",
      "Epoch 26: Loss = 0.0245, w = 0.9510, y = 1.2873\n",
      "Epoch 27: Loss = 0.0222, w = 0.9478, y = 1.2859\n",
      "Epoch 28: Loss = 0.0203, w = 0.9450, y = 1.2846\n",
      "Epoch 29: Loss = 0.0189, w = 0.9425, y = 1.2834\n",
      "Epoch 30: Loss = 0.0178, w = 0.9403, y = 1.2823\n",
      "Epoch 31: Loss = 0.0169, w = 0.9384, y = 1.2813\n",
      "Epoch 32: Loss = 0.0162, w = 0.9367, y = 1.2803\n",
      "Epoch 33: Loss = 0.0156, w = 0.9353, y = 1.2794\n",
      "Epoch 34: Loss = 0.0152, w = 0.9340, y = 1.2786\n",
      "Epoch 35: Loss = 0.0149, w = 0.9329, y = 1.2778\n",
      "Epoch 36: Loss = 0.0146, w = 0.9320, y = 1.2770\n",
      "Epoch 37: Loss = 0.0143, w = 0.9311, y = 1.2763\n",
      "Epoch 38: Loss = 0.0142, w = 0.9304, y = 1.2756\n",
      "Epoch 39: Loss = 0.0140, w = 0.9298, y = 1.2749\n",
      "Epoch 40: Loss = 0.0139, w = 0.9293, y = 1.2743\n",
      "Epoch 41: Loss = 0.0137, w = 0.9288, y = 1.2736\n",
      "Epoch 42: Loss = 0.0136, w = 0.9285, y = 1.2730\n",
      "Epoch 43: Loss = 0.0136, w = 0.9281, y = 1.2725\n",
      "Epoch 44: Loss = 0.0135, w = 0.9279, y = 1.2719\n",
      "Epoch 45: Loss = 0.0134, w = 0.9276, y = 1.2713\n",
      "Epoch 46: Loss = 0.0134, w = 0.9275, y = 1.2708\n",
      "Epoch 47: Loss = 0.0133, w = 0.9273, y = 1.2703\n",
      "Epoch 48: Loss = 0.0132, w = 0.9272, y = 1.2697\n",
      "Epoch 49: Loss = 0.0132, w = 0.9271, y = 1.2692\n",
      "Epoch 50: Loss = 0.0131, w = 0.9271, y = 1.2687\n",
      "Epoch 51: Loss = 0.0131, w = 0.9270, y = 1.2682\n",
      "Epoch 52: Loss = 0.0130, w = 0.9270, y = 1.2677\n",
      "Epoch 53: Loss = 0.0130, w = 0.9270, y = 1.2672\n",
      "Epoch 54: Loss = 0.0129, w = 0.9270, y = 1.2668\n",
      "Epoch 55: Loss = 0.0129, w = 0.9270, y = 1.2663\n",
      "Epoch 56: Loss = 0.0128, w = 0.9271, y = 1.2658\n",
      "Epoch 57: Loss = 0.0128, w = 0.9271, y = 1.2653\n",
      "Epoch 58: Loss = 0.0128, w = 0.9272, y = 1.2649\n",
      "Epoch 59: Loss = 0.0127, w = 0.9272, y = 1.2644\n",
      "Epoch 60: Loss = 0.0127, w = 0.9273, y = 1.2639\n",
      "Epoch 61: Loss = 0.0126, w = 0.9274, y = 1.2635\n",
      "Epoch 62: Loss = 0.0126, w = 0.9275, y = 1.2630\n",
      "Epoch 63: Loss = 0.0125, w = 0.9276, y = 1.2626\n",
      "Epoch 64: Loss = 0.0125, w = 0.9277, y = 1.2621\n",
      "Epoch 65: Loss = 0.0125, w = 0.9277, y = 1.2617\n",
      "Epoch 66: Loss = 0.0124, w = 0.9278, y = 1.2612\n",
      "Epoch 67: Loss = 0.0124, w = 0.9279, y = 1.2608\n",
      "Epoch 68: Loss = 0.0123, w = 0.9280, y = 1.2603\n",
      "Epoch 69: Loss = 0.0123, w = 0.9282, y = 1.2599\n",
      "Epoch 70: Loss = 0.0122, w = 0.9283, y = 1.2594\n",
      "Epoch 71: Loss = 0.0122, w = 0.9284, y = 1.2590\n",
      "Epoch 72: Loss = 0.0122, w = 0.9285, y = 1.2585\n",
      "Epoch 73: Loss = 0.0121, w = 0.9286, y = 1.2581\n",
      "Epoch 74: Loss = 0.0121, w = 0.9287, y = 1.2577\n",
      "Epoch 75: Loss = 0.0120, w = 0.9288, y = 1.2572\n",
      "Epoch 76: Loss = 0.0120, w = 0.9289, y = 1.2568\n",
      "Epoch 77: Loss = 0.0120, w = 0.9290, y = 1.2564\n",
      "Epoch 78: Loss = 0.0119, w = 0.9292, y = 1.2559\n",
      "Epoch 79: Loss = 0.0119, w = 0.9293, y = 1.2555\n",
      "Epoch 80: Loss = 0.0118, w = 0.9294, y = 1.2551\n",
      "Epoch 81: Loss = 0.0118, w = 0.9295, y = 1.2546\n",
      "Epoch 82: Loss = 0.0118, w = 0.9296, y = 1.2542\n",
      "Epoch 83: Loss = 0.0117, w = 0.9297, y = 1.2538\n",
      "Epoch 84: Loss = 0.0117, w = 0.9299, y = 1.2533\n",
      "Epoch 85: Loss = 0.0116, w = 0.9300, y = 1.2529\n",
      "Epoch 86: Loss = 0.0116, w = 0.9301, y = 1.2525\n",
      "Epoch 87: Loss = 0.0116, w = 0.9302, y = 1.2521\n",
      "Epoch 88: Loss = 0.0115, w = 0.9303, y = 1.2516\n",
      "Epoch 89: Loss = 0.0115, w = 0.9304, y = 1.2512\n",
      "Epoch 90: Loss = 0.0114, w = 0.9305, y = 1.2508\n",
      "Epoch 91: Loss = 0.0114, w = 0.9307, y = 1.2503\n",
      "Epoch 92: Loss = 0.0114, w = 0.9308, y = 1.2499\n",
      "Epoch 93: Loss = 0.0113, w = 0.9309, y = 1.2495\n",
      "Epoch 94: Loss = 0.0113, w = 0.9310, y = 1.2491\n",
      "Epoch 95: Loss = 0.0113, w = 0.9311, y = 1.2487\n",
      "Epoch 96: Loss = 0.0112, w = 0.9312, y = 1.2482\n",
      "Epoch 97: Loss = 0.0112, w = 0.9314, y = 1.2478\n",
      "Epoch 98: Loss = 0.0111, w = 0.9315, y = 1.2474\n",
      "Epoch 99: Loss = 0.0111, w = 0.9316, y = 1.2470\n",
      "Epoch 100: Loss = 0.0111, w = 0.9317, y = 1.2466\n"
     ]
    },
    {
     "data": {
      "image/png": "[encoded data removed]",
      "text/plain": [
       "<Figure size 640x480 with 1 Axes>"
      ]
     },
     "metadata": {},
     "output_type": "display_data"
    }
   ],
   "source": [
    "import numpy as np\n",
    "import matplotlib.pyplot as plt\n",
    "\n",
    "# Hàm đích: y = wx + y\n",
    "def f(x, w, y):\n",
    "    return w * x + y\n",
    "\n",
    "# Hàm mất mát: Mean Squared Error (MSE)\n",
    "def loss(y_true, y_pred):\n",
    "    return np.mean((y_true - y_pred) ** 2)\n",
    "\n",
    "# Đạo hàm của hàm mất mát theo w và y\n",
    "def gradient(x, y_true, w, y):\n",
    "    y_pred = f(x, w, y)\n",
    "    dw = np.mean((y_pred - y_true) * x)\n",
    "    dy = np.mean(y_pred - y_true)\n",
    "    return dw, dy\n",
    "\n",
    "# Dữ liệu\n",
    "x = np.array([1, 2, 3, 4, 5])\n",
    "y_true = np.array([2, 3, 4, 5, 6])\n",
    "\n",
    "# Tham số SGD\n",
    "learning_rate = 0.01\n",
    "epochs = 100\n",
    "w = 1.67\n",
    "y = 1.5\n",
    "\n",
    "# Huấn luyện mô hình bằng SGD\n",
    "for epoch in range(epochs):\n",
    "    # Tính đạo hàm\n",
    "    dw, dy = gradient(x, y_true, w, y)\n",
    "    \n",
    "    # Cập nhật trọng số\n",
    "    w -= learning_rate * dw\n",
    "    y -= learning_rate * dy\n",
    "    \n",
    "    # Tính toán và in ra loss\n",
    "    y_pred = f(x, w, y)\n",
    "    current_loss = loss(y_true, y_pred)\n",
    "    print(f\"Epoch {epoch+1}: Loss = {current_loss:.4f}, w = {w:.4f}, y = {y:.4f}\")\n",
    "\n",
    "# Vẽ đồ thị dữ liệu và đường hồi quy tương ứng\n",
    "plt.scatter(x, y_true, label='Dữ liệu')\n",
    "plt.plot(x, f(x, w, y), color='red', label='Đường hồi quy')\n",
    "plt.xlabel('X')\n",
    "plt.ylabel('Y')\n",
    "plt.title('Linear Regression with SGD')\n",
    "plt.legend()\n",
    "plt.show()\n"
   ]
  },
  {
   "cell_type": "code",
   "execution_count": 4,
   "metadata": {},
   "outputs": [
    {
     "name": "stdout",
     "output_type": "stream",
     "text": [
      "[25, 26, 39, 22, 22, 35, 23, 21, 16, 24]\n",
      "[26, 10, 32, 36, 33, 23, 22, 14, 41, 49]\n"
     ]
    }
   ],
   "source": [
    "import numpy as np\n",
    "import random\n",
    "\n",
    "a = [random.randint(10,50) for i in range(10)]\n",
    "b = [random.randint(10,50) for i in range(10)]\n",
    "\n",
    "print(a)\n",
    "print(b)"
   ]
  }
 ],
 "metadata": {
  "kernelspec": {
   "display_name": "Python 3",
   "language": "python",
   "name": "python3"
  },
  "language_info": {
   "codemirror_mode": {
    "name": "ipython",
    "version": 3
   },
   "file_extension": ".py",
   "mimetype": "text/x-python",
   "name": "python",
   "nbconvert_exporter": "python",
   "pygments_lexer": "ipython3",
   "version": "3.10.0"
  }
 },
 "nbformat": 4,
 "nbformat_minor": 2
}
