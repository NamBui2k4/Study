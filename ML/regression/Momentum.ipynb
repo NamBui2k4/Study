{
 "cells": [
  {
   "cell_type": "markdown",
   "metadata": {},
   "source": [
    "# Momentum"
   ]
  },
  {
   "cell_type": "markdown",
   "metadata": {},
   "source": [
    "### Nhắc lại thuật toán Gradient Descent"
   ]
  },
  {
   "cell_type": "markdown",
   "metadata": {},
   "source": [
    "Để giải bài toán tìm điểm global optimal của hàm mất mát $J(θ)$ (Hàm mất mát cũng thường được ký hiệu là $J()$ với $θ$ là tập hợp các tham số của mô hình), chúng ta thực hiện các bước :"
   ]
  },
  {
   "cell_type": "markdown",
   "metadata": {},
   "source": [
    "1. khởi tạo $θ=θ_0$. Thường là $(1,1,1...,1)$ hoặc $(0,0,...,0)$\n",
    "2. Cập nhật θ đến khi đạt được kết quả chấp nhận được: $$θ=θ−η×∇_θJ(θ)$$\n",
    "\n",
    "với $∇_θJ(θ)$ là đạo hàm của hàm mất mát tại θ.\n",
    "\n",
    "Đây chính là thuật toán GD cơ bản. Nếu bạn đọc còn phân vân GD là gì thì hãy nghiên cứu kỹ chương [Gradient Descent](/GD.ipynb) để nắm rõ nhé."
   ]
  },
  {
   "cell_type": "markdown",
   "metadata": {},
   "source": [
    "**Gradient dưới góc nhìn vật lý**\n",
    "\n",
    "Thuật toán GD thường được ví với tác dụng của trọng lực lên một hòn bi đặt trên một mặt có dạng như hình một thung lũng giống như hình a) dưới đây. \n",
    "\n",
    "Bất kể ta đặt hòn bi ở A hay B thì cuối cùng hòn bi cũng sẽ lăn xuống và kết thúc ở vị trí C.\n",
    "\n",
    "<img src=\"https://machinelearningcoban.com/assets/GD/momentum.png\" style=\"position: relative; margin-top: 50px; heigh:650px;width:650px; margin-bottom:20px; left:150px\">\n"
   ]
  },
  {
   "cell_type": "markdown",
   "metadata": {},
   "source": [
    "## Đặt vấn đề"
   ]
  },
  {
   "cell_type": "markdown",
   "metadata": {},
   "source": [
    "Tuy nhiên, nếu như bề mặt có hai đáy thung lũng như Hình b) thì tùy vào việc đặt ở A hay B, bi có thể lăn xuống C hoặc D. Trong 2 điểm local minimum thì chúng ta ưu tiên điểm C hơn là điểm D.\n",
    "\n",
    "Mặt khác, nhìn vào hình c), nếu vận tốc ban đầu của bi ở điểm B đủ lớn thì khi nó lăn đến điểm D, theo đà, nó có thể tiếp tục đi lên đỉnh E. Và cứ như thế, nếu vận tốc ban đầu còn lớn hơn nữa, bi có thể vượt dốc xuống C. Đây chính là điều chúng ta mong muốn. Bạn đọc có thể đặt câu hỏi rằng liệu bi lăn từ A tới C có theo đà lăn tới E rồi tới D không. Xin trả lời rằng điều này khó xảy ra hơn vì nếu so với dốc DE thì dốc CE cao hơn nhiều.\n",
    "\n",
    "Dựa trên hiện tượng này, một thuật toán được ra đời nhằm khắc phục việc nghiệm của GD rơi vào một điểm local minimum không mong muốn. Thuật toán đó có tên là Momentum (tức theo đà trong tiếng Việt)."
   ]
  },
  {
   "cell_type": "markdown",
   "metadata": {},
   "source": [
    "## Ý tưởng thuật toán"
   ]
  },
  {
   "cell_type": "markdown",
   "metadata": {},
   "source": [
    "Chúng ta coi vị trí của hòn bi chính là giá trị của hàm mất mát $J(θ)$, khi đó với thuật toán GD, ta có thể cập nhật vị trí của nó bằng công thức $$θ_{t+1}=θ_t−v_t$$ .\n",
    "\n",
    "Trong đó, $v_t$ chính là kết quả khi tính đạo hàm của $J(θ)$ và nó chính là vận tốc của hòn bi đó. Dấu trừ thể hiện việc phải di chuyển ngược với đạo hàm.\n",
    "\n",
    "Tuy nhiên, như đã nói, nếu chỉ tính theo công thức đó thì sẽ xảy ra hiện tượng ở đầu bài. Giải pháp là thay đổi đại lượng $v_t$ sao cho nó mang thêm thông tin của đà, tức vận tốc trước đó $v_{t−1}$ (chúng ta coi như vận tốc ban đầu $v_0=0$). Một cách đơn giản nhất, ta có:\n",
    "\n",
    "$$v_t=γv_t−1+η∇_θJ(θ)$$"
   ]
  },
  {
   "cell_type": "markdown",
   "metadata": {},
   "source": [
    "Trong đó γ thường được chọn là một giá trị khoảng 0.9, $v_t$ là vận tốc tại thời điểm $t$, $∇θJ(θ)$ chính là độ dốc của điểm trước đó."
   ]
  },
  {
   "cell_type": "markdown",
   "metadata": {},
   "source": [
    "Thuật toán đơn giản này tỏ ra rất hiệu quả trong các bài toán thực tế (trong không gian nhiều chiều, cách tính toán cũng hoàn tòan tương tự). Dưới đây là một ví dụ trong không gian một chiều."
   ]
  }
 ],
 "metadata": {
  "language_info": {
   "name": "python"
  }
 },
 "nbformat": 4,
 "nbformat_minor": 2
}
