{
 "cells": [
  {
   "cell_type": "markdown",
   "metadata": {},
   "source": [
    "# Perceptron Learning Algorithm"
   ]
  },
  {
   "cell_type": "markdown",
   "metadata": {},
   "source": [
    "Cứ làm đi, sai đâu sửa đấy, cuối cùng sẽ thành công!\n",
    "\n",
    "Đó chính là ý tưởng chính của một thuật toán rất quan trọng trong Machine Learning - thuật toán Perceptron Learning Algorithm hay PLA."
   ]
  },
  {
   "cell_type": "markdown",
   "metadata": {},
   "source": [
    "## Giới thiệu\n",
    "\n",
    "Perceptron là một thuật toán Classification cho trường hợp đơn giản nhất chỉ có hai class (lớp), hay còn được gọi là binary classification\n",
    "\n",
    "Tuy nhiên, nó là nền tảng cho một mảng lớn quan trọng của Machine Learning là Neural Networks và sau này là Deep Learning.\n"
   ]
  },
  {
   "cell_type": "markdown",
   "metadata": {},
   "source": [
    "## Đặt vấn đề\n",
    "\n",
    "Giả sử chúng ta có tập dữ liệu đã được gán nhãn là các điểm màu xanh và màu đỏ. \n",
    " \n",
    "Bài toán đặt ra là: Hãy xây dựng một classifier (bộ phân loại) để khi có một điểm dữ liệu hình tam giác màu xám mới, ta có thể dự đoán được màu (nhãn) của nó.\n",
    "\n",
    "<img src=\"https://machinelearningcoban.com/assets/pla/pla1.png\" style=\"heigh:400px; width:400px; position:relative; margin-top:50px; left: 180px; margin-bottom:50px\">\n"
   ]
  },
  {
   "cell_type": "markdown",
   "metadata": {},
   "source": [
    "Hiểu theo một cách khác, chúng ta cần tìm lãnh thổ của mỗi class sao cho, với mỗi một điểm mới, ta chỉ cần xác định xem nó nằm vào lãnh thổ của class nào thì nó thuộc class đó. Để tìm lãnh thổ của mỗi class, chúng ta cần đi tìm biên giới (boundary) giữa hai lãnh thổ này. Vậy bài toán classification có thể coi là bài toán đi tìm boundary giữa các class. \n",
    "\n",
    "Và boundary đơn giản nhất trong không gian hai chiều là một đường thằng\n",
    "\n",
    "Hình dưới minh họa một đường thẳng phân chia hai class trong mặt phẳng. Phần có nền màu xanh được coi là lãnh thổ của lớp xanh, phần có nên màu đỏ được coi là lãnh thổ của lớp đỏ. Trong trường hợp này, điểm dữ liệu mới hình tam giác được phân vào class đỏ."
   ]
  },
  {
   "cell_type": "markdown",
   "metadata": {},
   "source": [
    "\n",
    "\n",
    "<img src=\"https://machinelearningcoban.com/assets/pla/pla2.png\" style=\"heigh:400px; width:400px; position:relative; margin-top:50px; left: 180px; margin-bottom:50px\">"
   ]
  },
  {
   "cell_type": "markdown",
   "metadata": {},
   "source": [
    "## Bài toán Perceptron\n",
    "\n",
    "Bài toán Perceptron được phát biểu như sau: Cho hai class được gán nhãn, hãy tìm một đường phẳng sao cho toàn bộ các điểm thuộc class 1 nằm về 1 phía, toàn bộ các điểm thuộc class 2 nằm về phía còn lại của đường phẳng đó. \n",
    "\n",
    "Nếu tồn tại một đường phẳng phân chia hai class thì ta gọi hai class đó là linearly separable."
   ]
  },
  {
   "cell_type": "markdown",
   "metadata": {},
   "source": [
    "##  Thuật toán Perceptron (PLA)"
   ]
  },
  {
   "cell_type": "markdown",
   "metadata": {},
   "source": [
    "Thuật toán PLA là một dạng thuật phân loại đặc biệt, nó sử dụng các kỹ thuật của Gradient Descent và Linear regression. Ý tưởng cơ bản của PLA là xây dựng một hàm mất mát dựa trên một hàm tuyến tính cho trước, sau đó tiến hành tối thiểu hàm mất mát bằng cách lặp lại liên tục việc cập nhật trọng số tới một ví trí tốt hơn. \n",
    "\n",
    "Việc xây dựng hàm mất mát của PLA phải thỏa mãn hàm số phải khả vi (nhằm mục đích có thể tính được đạo hàm bậc nhất) và từ đó sử dụng gradient descent để tìm nghiệm global minimum.\n"
   ]
  },
  {
   "cell_type": "markdown",
   "metadata": {},
   "source": [
    "Nghe qua thì ta thấy thuật toán này có vẻ giống linear regression vì có nhiều công thức toán học, ta sẽ nhầm tưởng nó chỉ áp dụng cho bài toán regression. Nhưng không, thực chất là nó áp dụng cho bài toán classification. Tại sao lại mâu thuẫn như vậy? Lát nữa tôi sẽ giải thích. "
   ]
  },
  {
   "cell_type": "markdown",
   "metadata": {},
   "source": [
    "## Phân tích toán học\n",
    "\n",
    "Dữ liệu của bài toán luôn được cho dưới dạng một bảng có N hàng và d+1 cột. \n",
    "\n",
    "Tại sao lại là d+1 cột mà không phải d cột ? Theo nguyên tắc phân chia dữ liệu trong học máy thì chúng ta sẽ lấy cột một cột đại diện cho đầu ra mà ta muốn dự đoán (ta gọi nó là vector phản hồi) và các cột còn lại được gom thành một ma trận đặc trưng. Khi thực hiện điều này, ma trận đặc trưng sẽ có kích thước $N×d$ và vector phản hồi sẽ có kích thước là $N×1$. Chúng ta luôn muốn đảm bảo rằng luôn có một cột được chừa lại nên đây là lý do tại sao lại có d + 1 cọt\n",
    "\n",
    "Xét ma trận đặc trưng $X=(x_1,x_2,…,x_d) ∈R^{N×d}$ chứa các đặc trưng (cột) $x_i$. Mỗi một đặc trưng này chứa các điểm dữ liệu.\n",
    "\n",
    "Tập dữ liệu đầu ra $y=(y_1,y_2,…,y_N)$ được gọi là vector phản hồi"
   ]
  },
  {
   "cell_type": "markdown",
   "metadata": {},
   "source": [
    "**Xây dựng hàm tuyến tính**"
   ]
  },
  {
   "cell_type": "markdown",
   "metadata": {},
   "source": [
    "Giống như Hồi quy tuyến tính, giả sử tồn tại một linearly separable là một đường thẳng có phương trình:\n",
    "\n",
    "$$z =w_1x_1+⋯+w_dx_d+w_0=w^Tx =0   \\quad(1)$$ \n",
    "\n"
   ]
  },
  {
   "cell_type": "markdown",
   "metadata": {},
   "source": [
    "Lưu ý, chúng ta mở rộng $x$ bằng cách thêm phần tử $x_0=1$ lên trước các điểm $x_1,x_2,...,x_d $ tương tự như trong Linear Regression. Điều này lý giải tại sao phương trình (1) xuất hiện $w_0$ đóng vai trò như một bias. "
   ]
  },
  {
   "cell_type": "markdown",
   "metadata": {},
   "source": [
    "Để cho đơn giản, chúng ta hãy cùng làm việc với trường hợp mỗi điểm dữ liệu có số chiều d+1=2. \n",
    "\n",
    "Phường trình đường thẳng lúc này có thể là $z= w_1x_1+w_2x_2+w_0=0$. \n",
    "\n",
    "Nghiệm của nó được biểu diễn bằng đồ thị đưới đây:"
   ]
  },
  {
   "cell_type": "markdown",
   "metadata": {},
   "source": [
    "<img src=\"https://machinelearningcoban.com/assets/pla/pla4.png\" style=\"position: relative; margin-top: 20px; heigh:450px;width:450px; margin-bottom:20px; left:350px\">\n"
   ]
  },
  {
   "cell_type": "markdown",
   "metadata": {},
   "source": [
    "Nhận xét rằng đường thẳng của phương trình (1) chia mặt phẳng thành 2 nửa, nửa nền xanh mang dấu dương (+) và nửa nền đỏ mang dấu âm (-). Điều đó cũng có nghĩa là $z ≥0$ nếu $(x_1, x_2)$ nằm ở nền xanh, và $z < 0$ nếu $(x_1, x_2)$ nằm nền đỏ.\n",
    "\n",
    "Mặt khác, vì bài toán mang tính chất binary classification nên các đầu ra $y_i$ sẽ luôn tuân theo quy tắc:\n",
    "- $y_i=1$  nếu vector $(x_{1}, x_{2})$  thuộc class 1 (xanh) \n",
    "- $y_i=−1$ nếu vector $(x_{1}, x_{2})$  thuộc class 2 (đỏ).\n",
    "\n",
    "Vậy thì lúc này, ta có thể cho rằng dấu (+) có thể đại diện cho trường hợp $y_i=1$ và dấu (-) đại diện cho trường hợp $y_i=-1$. \n",
    "\n",
    "Như vậy, ta có quy luật xác định đầu ra dự đoán là :\n",
    "$$label(x_1, x_2) = 1 \\quad \\text{if} \\quad z ≥0 \\quad ,otherwise−1$$"
   ]
  },
  {
   "cell_type": "markdown",
   "metadata": {},
   "source": [
    "Từ quy luật trên, ta có thể thiết lập một hàm số xác định dấu dựa trên $z$ :\n",
    "\n",
    "$$\\text{sign}(z) = \\begin{cases}\n",
    "1 & \\text{nếu } z ≥ 0\\\\\n",
    "-1 & \\text{nếu } z < 0\n",
    "\\end{cases}$$"
   ]
  },
  {
   "cell_type": "markdown",
   "metadata": {},
   "source": [
    "Đây chính là lý do ở đầu bài viết tôi có nói rằng PLA mặc dù có cái gì đó \"giống\" regression nhưng thực chất là nó áp dụng cho bài toán classification. Vì sự hiện diện của hàm sign nên đầu ra mà chúng ta dự đoán chỉ có -1 hoặc 1 thôi, chúng không phải giá trị thực và không hề liên tục trên bất kỳ điểm nào.\n",
    "\n",
    "Hàm sign này còn được gọi là một hàm kích hoạt (activation function). Thuật ngữ \"activation\" thường được đề cập trong mô hình neuron network. Và tôi cũng đã nói rồi, PLA chính là nền tảng cho Neural Networks và Deep Learning nên sau này nếu các bạn có áp dụng PLA để nghiên cứu về nn thì hãy nghĩ ngay: activation function chính là sign."
   ]
  },
  {
   "cell_type": "markdown",
   "metadata": {},
   "source": [
    "**Xây dựng hàm mất mát - loss function**"
   ]
  },
  {
   "cell_type": "markdown",
   "metadata": {},
   "source": [
    "Trong thuật toán PLA, sự mất mát không nằm ở chênh lệch giữa giá trị thực tế và giá trị dự đoán vì đây vẫn là bài toán classification, nó thể hiện ở hiện tượng misclassified (phân lớp lỗi). Tức là các điểm dữ liệu bị đặt sai chỗ trong 2 nửa mặt phẳng. Do đó, hàm mất mát đơn giản nhất chúng ta nghĩ đến là hàm đếm số lượng các điểm bị misclassied:\n"
   ]
  },
  {
   "cell_type": "markdown",
   "metadata": {},
   "source": [
    "<img src=\"https://machinelearningcoban.com/assets/pla/pla3.png\" style=\"position: relative; margin-top: 20px; heigh:450px;width:450px; margin-bottom:20px; left:350px\">\n"
   ]
  },
  {
   "cell_type": "markdown",
   "metadata": {},
   "source": [
    "Gọi $M$  là tập hợp các điểm bị misclassifed (tập hợp này thay đổi theo w).\n",
    "\n",
    "Với một điểm $x∈M$ bị misclassified, nhãn thực tế $y$ và nhãn dự đoán $sign(z)$ của nó sẽ nằm ở 2 mặt phẳng khác nhau. Điều đó có nghĩa là chúng sẽ trái dấu nhau. Hay nói cách khác thì $y × sign(z)=−1$"
   ]
  },
  {
   "cell_type": "markdown",
   "metadata": {},
   "source": [
    "Vậy thì, nếu xét toàn bộ trên tập M, chúng ta sẽ phải đếm số lượng các điểm bị misclassied như vậy bằng phương trình sau: $$J(w)=∑_{x_i∈M}−y_i sign(w^Tx)$$"
   ]
  },
  {
   "cell_type": "markdown",
   "metadata": {},
   "source": [
    "*Mặc dù ở trên phương trình (1) có ghi $z = w^Tx$, tôi vẫn để là $sign(w^Tx)$ thay vì $sign(z)$ vì muốn thể hiện rằng $j(w)$ chỉ phụ thuộc vào $w$ mà không phụ thuộc vào toàn bộ $z$*"
   ]
  },
  {
   "cell_type": "markdown",
   "metadata": {},
   "source": [
    "Chúng ta phải đổi dấu của $y_i.sign(w^Tx_i)$ là để hàm $J(w)$ đạt giá trị nhỏ nhất khi số điểm bị phân loại nhầm là nhỏ nhất"
   ]
  },
  {
   "cell_type": "markdown",
   "metadata": {},
   "source": [
    "Tuy nhiên ta nhận thấy rằng xét trên tập  M thì hàm $J(w)$ không liên tục mà nó rời rạc, không tính được đạo hàm theo $w$ nên rất khó tối ưu. Chúng ta cần tìm một hàm mất mát khác để việc tối ưu khả thi hơn. Ta tạm gọi hàm mới này là $J_1(w)$"
   ]
  },
  {
   "cell_type": "markdown",
   "metadata": {},
   "source": [
    "$$J_1(w)=∑_{x_i∈M}−y_i(w^Tx_i)$$"
   ]
  },
  {
   "cell_type": "markdown",
   "metadata": {
    "vscode": {
     "languageId": "plaintext"
    }
   },
   "source": [
    "Công thức này đã lược bỏ đi hàm $sign()$ khiến nó khả vi ở mọi điểm (tức là liên tục tại mọi điểm và điều này là cơ sở để tính đạo hàm cho bước tiếp theo - áp dụng gradient descent). \n",
    "\n",
    "Nếu chịu khó thử nghiệm, ta sẽ thấy rằng khi một điểm misclassified $x_i$ nằm càng xa đường linearly separable thì giá trị $−y_i(w^Tx_i)$ sẽ càng âm, nghĩa là sự sai lệch càng lớn. Điều này khiến nó tốt hơn so với hàm $J()$ vì nó trừng phạt rất nặng những điểm lấn sâu sang lãnh thổ của class kia, trong khi $J()$ sẽ đánh đồng tất cả các điểm bị phân loại nhầm bằng -1. "
   ]
  },
  {
   "cell_type": "markdown",
   "metadata": {},
   "source": [
    "Đến đây, tôi xin chính thức gọi $J_1(w)$ là hàm $J(w)$ và đây chính là loss function của PLA. Ta sẽ sang bước tiếp theo: tối thiểu loss function bằng thuật toán gradient descent."
   ]
  },
  {
   "cell_type": "markdown",
   "metadata": {},
   "source": [
    "**Áp dụng gradient descent để lặp lại việc cập nhật trọng số**"
   ]
  },
  {
   "cell_type": "markdown",
   "metadata": {},
   "source": [
    "Nếu như tìm hiểu gradient descent rồi, ta sẽ thấy rằng khi tính đạo hàm riêng cho loss function theo từng tham số $w_i$ (trừ tham số $w_0$) thì kết quả tương ứng sẽ có dạng $x_i(\\hat{y}​ −y)$. Tức là, giá trị $x_i$ luôn xuất hiện trong kết quả đó. \n",
    "\n",
    "Vậy thì, trong bài toán này, điều tương tự cũng xảy ra khi ta tiến hành đạo hàm loss function:\n",
    "$$∇_wJ(w;x_i;y_i)=−y_ix_i$$"
   ]
  },
  {
   "cell_type": "markdown",
   "metadata": {},
   "source": [
    "*Ghi chú: Ký hiệu trên có nghĩa là đạo hàm của $J(w)$  theo $w$ tại một điểm dữ liệu $(xi, yi)$ nào đó. Mặc dù chúng ta hiểu rằng $w$ không phải biến mà là một vector nên muốn tính $∇_w$ thì ứng với từng $w_i$, ta phải tính từng $∇_{w_i}$, nhưng ta nhận thấy rằng dù tính theo $w_i$ nào thì kết quả đều như nhau. Do đó, ta hoàn toàn có thể viết là $∇_w$ mà không có vấn đề gì.*"
   ]
  },
  {
   "cell_type": "markdown",
   "metadata": {},
   "source": [
    "Áp dụng gradient descent, chúng ta có quy tắc cập nhật trọng số: \n",
    "\n",
    "$$w_{t+1}=w_t-η∇_wJ(w;x_i;y_i)$$\n",
    "$$⇔ w_{t+1}=w_t+η(y_ix_i)$$\n",
    "\n",
    "Với η (eta) là learning rate được chọn bằng 1, ta có một quy tắc cập nhật rất gọn như sau: $$w_{t+1}=w_t+y_ix_i \\quad (2)$$. \n",
    "\n",
    "Nói cách khác, với mỗi điểm $x_i$ bị misclassifed, ta chỉ cần nhân điểm đó với nhãn $y_i$ của nó, lấy kết quả cộng vào $w$ ta sẽ được $w$ mới. \n"
   ]
  },
  {
   "cell_type": "markdown",
   "metadata": {},
   "source": [
    "**Kiểm tra nghiệm**"
   ]
  },
  {
   "cell_type": "markdown",
   "metadata": {},
   "source": [
    "Nhắc lại, mục đích tối thượng của bài toán là đi tìm nghiệm $w$ sao cho các điểm được classifed đúng. Ở công thức $(2)$, ta đã chạy vòng lặp để cập nhật nghiệm $w_t$ bằng gradient descent để cho ra một nghiệm mới là $w_{t+1}$. \n",
    "\n",
    "#########\n",
    "\n",
    "Ta có một quan sát nhỏ: $$w_{t+1}^T x_i = (w_{t} + y_i x_i)^T x_{i} = w_{t}^T x_i + y_i||x_i||_2^2$$"
   ]
  },
  {
   "cell_type": "markdown",
   "metadata": {},
   "source": [
    "Mặc dù không có hàm sign, tích vô hướng của vector trọng số $w$ và điểm dữ liệu $x_i$ vẫn cho biết mức độ \"gần gũi\" của điểm đó với đường phân tách (boundary). Nếu tích này dương, điểm dữ liệu nằm ở phía bên phải của đường phân tách (thuộc lớp 1), và ngược lại nếu nó âm thì điểm dữ liệu nằm ở phía bên trái (thuộc lớp -1)."
   ]
  },
  {
   "cell_type": "markdown",
   "metadata": {},
   "source": [
    "Điều đó cũng có nghĩa là, nếu tích này càng lớn thì điểm đó sẽ càng lấn sâu vào lãnh thổ được phân loại chính xác."
   ]
  },
  {
   "cell_type": "markdown",
   "metadata": {},
   "source": [
    "Khi $x_i$ bị misclassifed ở thời điểm t, nếu $y_i = 1$ thì xảy ra 2 hệ quả sau:\n",
    "- $w_{t}^T x_i <0$ (Vì đây là nhãn dự đoán, nó nằm khác mặt phẳng so với $y_i$)\n",
    "- $y_i||x_i||^2_2=||x_i||^2_2≥1 \\quad$  (mặc định bias $x_0=1$ nên giá trị nhỏ nhất của $||x_i||^2_2$ sẽ là 1 nếu các phần tử còn lại trong $X$ bằng 0).  \n",
    "\n",
    "Hai hệ quả trên dẫn tới sự kiện $w_{t}^T x_i + y_i||x_i||_2^2>w^T_{t}x_i \\quad$  (một số âm cộng với số dương nào đó luôn lớn hơn chính nó)\n",
    "\n",
    "Hay nói cách khác là $$w^T_{t+1}x_i>w^T_{t}x_i$$\n",
    "\n",
    "Điều này có nghĩa là, tích vô hướng $w_{t+1}^T$ luôn tăng lên sau mỗi lần cập nhật ở thời điểm t. Chắc chắn là nó sẽ tăng lên một mức nào đó lớn hơn 0 và khi đó nó sẽ tiến về phía làm cho $x_i$ được phân lớp đúng. Điều tương tự xảy ra nếu  $y_i=−1$"
   ]
  },
  {
   "cell_type": "markdown",
   "metadata": {},
   "source": [
    "Quay trở lại với câu hỏi vừa rồi, khi nào thì dừng lặp ?\n",
    "\n",
    "Câu trả lời chính là: Khi không còn điểm nào bị misclassified nữa. Thời điểm đó cũng lầ lúc giá trị $w_{t+1}^T$ đạt tới hạn."
   ]
  },
  {
   "cell_type": "markdown",
   "metadata": {},
   "source": [
    "Đến đây, cảm nhận của chúng ta với thuật toán này là: cứ chọn đường boundary đi. Xét từng điểm một, nếu điểm đó bị misclassified thì tiến đường boundary về phía làm cho điểm đó được classifed đúng. Có thể thấy rằng, khi di chuyển đường boundary này, các điểm trước đó được classified đúng có thể lại bị misclassified. Mặc dù vậy, PLA vẫn được đảm bảo sẽ hội tụ sau một số hữu hạn bước (tôi sẽ chứng minh việc này ở phía sau của bài viết). Tức là cuối cùng, ta sẽ tìm được đường phẳng phân chia hai lớp, miễn là hai lớp đó là linearly separable. Đây cũng chính là lý do câu đầu tiên trong bài này tôi nói với các bạn là: “Cứ làm đi, sai đâu sửa đấy, cuối cùng sẽ thành công!”."
   ]
  },
  {
   "cell_type": "markdown",
   "metadata": {},
   "source": [
    "## Nhược điểm của thuật toán\n",
    "Một nhược điểm của Perceptron là nó chỉ hoạt động thực sự tốt khi dữ liệu phân tách tuyến tính (linearly separable), tức có thể dùng đường thẳng, mặt phẳng, siêu phẳng để làm biên giới, nếu dữ liệu không thỏa điều kiện này, không những Perceptron mà bất kì thuật toán phân loại tuyến tính nào cũng sẽ fail \"nhè nhẹ\"."
   ]
  },
  {
   "cell_type": "markdown",
   "metadata": {},
   "source": [
    "## tóm tắt thuật toán PLA\n",
    "\n",
    "1. Khởi tạo trọng số: Khởi tạo vector trọng số $w = (0,0,...0)$ và bias $w_0 = 0$.\n",
    "2. Duyệt ngẫu nhiên qua từng điểm dữ liệu $x_i$:\n",
    "   - Nếu $x_i$ được phân lớp đúng, tức $sign(w^Tx_i)=y_i$, chúng ta không cần làm gì.\n",
    "   - Nếu $x_i$ bị misclassifed, cập nhật w theo công thức:$$w=w+y_ix_i$$\n",
    "3. Kiểm tra xem có bao nhiêu điểm bị misclassifed. Nếu không còn điểm nào, dừng thuật toán. Nếu còn, quay lại bước 2."
   ]
  },
  {
   "cell_type": "markdown",
   "metadata": {},
   "source": [
    "## Triển khai"
   ]
  },
  {
   "cell_type": "markdown",
   "metadata": {},
   "source": [
    "### Cách thủ công"
   ]
  },
  {
   "cell_type": "code",
   "execution_count": 170,
   "metadata": {},
   "outputs": [
    {
     "data": {
      "image/png": "[encoded data removed]",
      "text/plain": [
       "<Figure size 600x600 with 1 Axes>"
      ]
     },
     "metadata": {},
     "output_type": "display_data"
    }
   ],
   "source": [
    "import numpy as np\n",
    "import matplotlib.pyplot as plt\n",
    "\n",
    "# Dữ liệu huấn luyện\n",
    "X = np.array([[3,  1 ], \n",
    "              [1, -2 ], \n",
    "              [-4, 1 ], \n",
    "              [-9, -5]])\n",
    "y = np.array([1, 1, -1, -1])\n",
    "\n",
    "# sign\n",
    "def sign(z):\n",
    "    return 1 if z >=0 else -1\n",
    "\n",
    "# gradient-descent\n",
    "def GD(x, y, w, b):\n",
    "    z = np.dot(w, x) + b\n",
    "    if sign(z) != y:\n",
    "        w = w + y * x\n",
    "        b = b + y\n",
    "    return w, b\n",
    "\n",
    "# PLA\n",
    "def PLA(X, y, max_epochs=100):\n",
    "    w = np.zeros(X.shape[1]) # init w1 = w2 = 0\n",
    "    b = 1 # init bias  b = 1\n",
    "    for epoch in range(max_epochs):\n",
    "        misclassified = False\n",
    "        \n",
    "        for x_i, y_i in zip(X, y):\n",
    "            \n",
    "            # update weight\n",
    "            w, b = GD(x_i, y_i, w, b)\n",
    "            \n",
    "            # check weight\n",
    "            z = np.dot(w, x_i) + b\n",
    "            if sign(z) != y_i:\n",
    "                misclassified = True\n",
    "        \n",
    "        # check weight\n",
    "        if misclassified == False:\n",
    "            break\n",
    "    return w, b\n",
    "\n",
    "# run PLA\n",
    "w, b = PLA(X, y)\n",
    "\n",
    "# plot graph\n",
    "plt.figure(figsize=(6, 6))\n",
    "\n",
    "# data points\n",
    "for x, y in zip(X, y):\n",
    "    if y == 1:\n",
    "        plt.scatter(x[0], x[1], color='r', marker='o')\n",
    "    else:\n",
    "        plt.scatter(x[0], x[1], color='b', marker='x')\n",
    "\n",
    "# Vẽ đường phân cách\n",
    "x1 = np.linspace(-2, 2, 100)\n",
    "x2 = -(w[0] * x1 + b) / w[1]\n",
    "plt.plot(x1, x2, 'g-')\n",
    "\n",
    "# plt.xlim([-2.5, 2.5])\n",
    "# plt.ylim([-2.5, 2.5])\n",
    "plt.xlabel('X1')\n",
    "plt.ylabel('X2')\n",
    "plt.title('Perceptron Learning Algorithm')\n",
    "plt.show()"
   ]
  },
  {
   "cell_type": "markdown",
   "metadata": {},
   "source": [
    "### Dùng thư viện sklearn"
   ]
  },
  {
   "cell_type": "code",
   "execution_count": 1,
   "metadata": {},
   "outputs": [],
   "source": [
    "import numpy as np\n",
    "from sklearn import datasets\n",
    "from sklearn.model_selection import train_test_split\n",
    "from sklearn import metrics\n",
    "#\n",
    "# Import Keras modules\n",
    "#\n",
    "from keras import models\n",
    "from keras import layers\n",
    "from tensorflow.keras.utils import to_categorical\n",
    "from sklearn.neural_network import MLPClassifier # neural network"
   ]
  },
  {
   "cell_type": "code",
   "execution_count": 2,
   "metadata": {},
   "outputs": [],
   "source": [
    "# Load the iris dataset\n",
    "\n",
    "iris = datasets.load_iris()"
   ]
  },
  {
   "cell_type": "code",
   "execution_count": 3,
   "metadata": {},
   "outputs": [],
   "source": [
    "X = iris.data\n",
    "y = iris.target"
   ]
  },
  {
   "cell_type": "code",
   "execution_count": 4,
   "metadata": {},
   "outputs": [],
   "source": [
    "# Create training and test split\n",
    "#\n",
    "X_train, X_test, y_train, y_test = train_test_split(X, y, test_size=0.2, stratify=y, random_state=1)"
   ]
  },
  {
   "cell_type": "code",
   "execution_count": 6,
   "metadata": {},
   "outputs": [],
   "source": [
    "clf = MLPClassifier(solver='adam', alpha=1e-5, hidden_layer_sizes=(3, 3), random_state=1)"
   ]
  },
  {
   "cell_type": "code",
   "execution_count": 7,
   "metadata": {},
   "outputs": [
    {
     "name": "stderr",
     "output_type": "stream",
     "text": [
      "c:\\Users\\ASUS\\AppData\\Local\\Programs\\Python\\Python310\\lib\\site-packages\\sklearn\\neural_network\\_multilayer_perceptron.py:691: ConvergenceWarning: Stochastic Optimizer: Maximum iterations (200) reached and the optimization hasn't converged yet.\n",
      "  warnings.warn(\n"
     ]
    },
    {
     "data": {
      "text/html": [
       "<style>#sk-container-id-1 {\n",
       "  /* Definition of color scheme common for light and dark mode */\n",
       "  --sklearn-color-text: black;\n",
       "  --sklearn-color-line: gray;\n",
       "  /* Definition of color scheme for unfitted estimators */\n",
       "  --sklearn-color-unfitted-level-0: #fff5e6;\n",
       "  --sklearn-color-unfitted-level-1: #f6e4d2;\n",
       "  --sklearn-color-unfitted-level-2: #ffe0b3;\n",
       "  --sklearn-color-unfitted-level-3: chocolate;\n",
       "  /* Definition of color scheme for fitted estimators */\n",
       "  --sklearn-color-fitted-level-0: #f0f8ff;\n",
       "  --sklearn-color-fitted-level-1: #d4ebff;\n",
       "  --sklearn-color-fitted-level-2: #b3dbfd;\n",
       "  --sklearn-color-fitted-level-3: cornflowerblue;\n",
       "\n",
       "  /* Specific color for light theme */\n",
       "  --sklearn-color-text-on-default-background: var(--sg-text-color, var(--theme-code-foreground, var(--jp-content-font-color1, black)));\n",
       "  --sklearn-color-background: var(--sg-background-color, var(--theme-background, var(--jp-layout-color0, white)));\n",
       "  --sklearn-color-border-box: var(--sg-text-color, var(--theme-code-foreground, var(--jp-content-font-color1, black)));\n",
       "  --sklearn-color-icon: #696969;\n",
       "\n",
       "  @media (prefers-color-scheme: dark) {\n",
       "    /* Redefinition of color scheme for dark theme */\n",
       "    --sklearn-color-text-on-default-background: var(--sg-text-color, var(--theme-code-foreground, var(--jp-content-font-color1, white)));\n",
       "    --sklearn-color-background: var(--sg-background-color, var(--theme-background, var(--jp-layout-color0, #111)));\n",
       "    --sklearn-color-border-box: var(--sg-text-color, var(--theme-code-foreground, var(--jp-content-font-color1, white)));\n",
       "    --sklearn-color-icon: #878787;\n",
       "  }\n",
       "}\n",
       "\n",
       "#sk-container-id-1 {\n",
       "  color: var(--sklearn-color-text);\n",
       "}\n",
       "\n",
       "#sk-container-id-1 pre {\n",
       "  padding: 0;\n",
       "}\n",
       "\n",
       "#sk-container-id-1 input.sk-hidden--visually {\n",
       "  border: 0;\n",
       "  clip: rect(1px 1px 1px 1px);\n",
       "  clip: rect(1px, 1px, 1px, 1px);\n",
       "  height: 1px;\n",
       "  margin: -1px;\n",
       "  overflow: hidden;\n",
       "  padding: 0;\n",
       "  position: absolute;\n",
       "  width: 1px;\n",
       "}\n",
       "\n",
       "#sk-container-id-1 div.sk-dashed-wrapped {\n",
       "  border: 1px dashed var(--sklearn-color-line);\n",
       "  margin: 0 0.4em 0.5em 0.4em;\n",
       "  box-sizing: border-box;\n",
       "  padding-bottom: 0.4em;\n",
       "  background-color: var(--sklearn-color-background);\n",
       "}\n",
       "\n",
       "#sk-container-id-1 div.sk-container {\n",
       "  /* jupyter's `normalize.less` sets `[hidden] { display: none; }`\n",
       "     but bootstrap.min.css set `[hidden] { display: none !important; }`\n",
       "     so we also need the `!important` here to be able to override the\n",
       "     default hidden behavior on the sphinx rendered scikit-learn.org.\n",
       "     See: https://github.com/scikit-learn/scikit-learn/issues/21755 */\n",
       "  display: inline-block !important;\n",
       "  position: relative;\n",
       "}\n",
       "\n",
       "#sk-container-id-1 div.sk-text-repr-fallback {\n",
       "  display: none;\n",
       "}\n",
       "\n",
       "div.sk-parallel-item,\n",
       "div.sk-serial,\n",
       "div.sk-item {\n",
       "  /* draw centered vertical line to link estimators */\n",
       "  background-image: linear-gradient(var(--sklearn-color-text-on-default-background), var(--sklearn-color-text-on-default-background));\n",
       "  background-size: 2px 100%;\n",
       "  background-repeat: no-repeat;\n",
       "  background-position: center center;\n",
       "}\n",
       "\n",
       "/* Parallel-specific style estimator block */\n",
       "\n",
       "#sk-container-id-1 div.sk-parallel-item::after {\n",
       "  content: \"\";\n",
       "  width: 100%;\n",
       "  border-bottom: 2px solid var(--sklearn-color-text-on-default-background);\n",
       "  flex-grow: 1;\n",
       "}\n",
       "\n",
       "#sk-container-id-1 div.sk-parallel {\n",
       "  display: flex;\n",
       "  align-items: stretch;\n",
       "  justify-content: center;\n",
       "  background-color: var(--sklearn-color-background);\n",
       "  position: relative;\n",
       "}\n",
       "\n",
       "#sk-container-id-1 div.sk-parallel-item {\n",
       "  display: flex;\n",
       "  flex-direction: column;\n",
       "}\n",
       "\n",
       "#sk-container-id-1 div.sk-parallel-item:first-child::after {\n",
       "  align-self: flex-end;\n",
       "  width: 50%;\n",
       "}\n",
       "\n",
       "#sk-container-id-1 div.sk-parallel-item:last-child::after {\n",
       "  align-self: flex-start;\n",
       "  width: 50%;\n",
       "}\n",
       "\n",
       "#sk-container-id-1 div.sk-parallel-item:only-child::after {\n",
       "  width: 0;\n",
       "}\n",
       "\n",
       "/* Serial-specific style estimator block */\n",
       "\n",
       "#sk-container-id-1 div.sk-serial {\n",
       "  display: flex;\n",
       "  flex-direction: column;\n",
       "  align-items: center;\n",
       "  background-color: var(--sklearn-color-background);\n",
       "  padding-right: 1em;\n",
       "  padding-left: 1em;\n",
       "}\n",
       "\n",
       "\n",
       "/* Toggleable style: style used for estimator/Pipeline/ColumnTransformer box that is\n",
       "clickable and can be expanded/collapsed.\n",
       "- Pipeline and ColumnTransformer use this feature and define the default style\n",
       "- Estimators will overwrite some part of the style using the `sk-estimator` class\n",
       "*/\n",
       "\n",
       "/* Pipeline and ColumnTransformer style (default) */\n",
       "\n",
       "#sk-container-id-1 div.sk-toggleable {\n",
       "  /* Default theme specific background. It is overwritten whether we have a\n",
       "  specific estimator or a Pipeline/ColumnTransformer */\n",
       "  background-color: var(--sklearn-color-background);\n",
       "}\n",
       "\n",
       "/* Toggleable label */\n",
       "#sk-container-id-1 label.sk-toggleable__label {\n",
       "  cursor: pointer;\n",
       "  display: block;\n",
       "  width: 100%;\n",
       "  margin-bottom: 0;\n",
       "  padding: 0.5em;\n",
       "  box-sizing: border-box;\n",
       "  text-align: center;\n",
       "}\n",
       "\n",
       "#sk-container-id-1 label.sk-toggleable__label-arrow:before {\n",
       "  /* Arrow on the left of the label */\n",
       "  content: \"▸\";\n",
       "  float: left;\n",
       "  margin-right: 0.25em;\n",
       "  color: var(--sklearn-color-icon);\n",
       "}\n",
       "\n",
       "#sk-container-id-1 label.sk-toggleable__label-arrow:hover:before {\n",
       "  color: var(--sklearn-color-text);\n",
       "}\n",
       "\n",
       "/* Toggleable content - dropdown */\n",
       "\n",
       "#sk-container-id-1 div.sk-toggleable__content {\n",
       "  max-height: 0;\n",
       "  max-width: 0;\n",
       "  overflow: hidden;\n",
       "  text-align: left;\n",
       "  /* unfitted */\n",
       "  background-color: var(--sklearn-color-unfitted-level-0);\n",
       "}\n",
       "\n",
       "#sk-container-id-1 div.sk-toggleable__content.fitted {\n",
       "  /* fitted */\n",
       "  background-color: var(--sklearn-color-fitted-level-0);\n",
       "}\n",
       "\n",
       "#sk-container-id-1 div.sk-toggleable__content pre {\n",
       "  margin: 0.2em;\n",
       "  border-radius: 0.25em;\n",
       "  color: var(--sklearn-color-text);\n",
       "  /* unfitted */\n",
       "  background-color: var(--sklearn-color-unfitted-level-0);\n",
       "}\n",
       "\n",
       "#sk-container-id-1 div.sk-toggleable__content.fitted pre {\n",
       "  /* unfitted */\n",
       "  background-color: var(--sklearn-color-fitted-level-0);\n",
       "}\n",
       "\n",
       "#sk-container-id-1 input.sk-toggleable__control:checked~div.sk-toggleable__content {\n",
       "  /* Expand drop-down */\n",
       "  max-height: 200px;\n",
       "  max-width: 100%;\n",
       "  overflow: auto;\n",
       "}\n",
       "\n",
       "#sk-container-id-1 input.sk-toggleable__control:checked~label.sk-toggleable__label-arrow:before {\n",
       "  content: \"▾\";\n",
       "}\n",
       "\n",
       "/* Pipeline/ColumnTransformer-specific style */\n",
       "\n",
       "#sk-container-id-1 div.sk-label input.sk-toggleable__control:checked~label.sk-toggleable__label {\n",
       "  color: var(--sklearn-color-text);\n",
       "  background-color: var(--sklearn-color-unfitted-level-2);\n",
       "}\n",
       "\n",
       "#sk-container-id-1 div.sk-label.fitted input.sk-toggleable__control:checked~label.sk-toggleable__label {\n",
       "  background-color: var(--sklearn-color-fitted-level-2);\n",
       "}\n",
       "\n",
       "/* Estimator-specific style */\n",
       "\n",
       "/* Colorize estimator box */\n",
       "#sk-container-id-1 div.sk-estimator input.sk-toggleable__control:checked~label.sk-toggleable__label {\n",
       "  /* unfitted */\n",
       "  background-color: var(--sklearn-color-unfitted-level-2);\n",
       "}\n",
       "\n",
       "#sk-container-id-1 div.sk-estimator.fitted input.sk-toggleable__control:checked~label.sk-toggleable__label {\n",
       "  /* fitted */\n",
       "  background-color: var(--sklearn-color-fitted-level-2);\n",
       "}\n",
       "\n",
       "#sk-container-id-1 div.sk-label label.sk-toggleable__label,\n",
       "#sk-container-id-1 div.sk-label label {\n",
       "  /* The background is the default theme color */\n",
       "  color: var(--sklearn-color-text-on-default-background);\n",
       "}\n",
       "\n",
       "/* On hover, darken the color of the background */\n",
       "#sk-container-id-1 div.sk-label:hover label.sk-toggleable__label {\n",
       "  color: var(--sklearn-color-text);\n",
       "  background-color: var(--sklearn-color-unfitted-level-2);\n",
       "}\n",
       "\n",
       "/* Label box, darken color on hover, fitted */\n",
       "#sk-container-id-1 div.sk-label.fitted:hover label.sk-toggleable__label.fitted {\n",
       "  color: var(--sklearn-color-text);\n",
       "  background-color: var(--sklearn-color-fitted-level-2);\n",
       "}\n",
       "\n",
       "/* Estimator label */\n",
       "\n",
       "#sk-container-id-1 div.sk-label label {\n",
       "  font-family: monospace;\n",
       "  font-weight: bold;\n",
       "  display: inline-block;\n",
       "  line-height: 1.2em;\n",
       "}\n",
       "\n",
       "#sk-container-id-1 div.sk-label-container {\n",
       "  text-align: center;\n",
       "}\n",
       "\n",
       "/* Estimator-specific */\n",
       "#sk-container-id-1 div.sk-estimator {\n",
       "  font-family: monospace;\n",
       "  border: 1px dotted var(--sklearn-color-border-box);\n",
       "  border-radius: 0.25em;\n",
       "  box-sizing: border-box;\n",
       "  margin-bottom: 0.5em;\n",
       "  /* unfitted */\n",
       "  background-color: var(--sklearn-color-unfitted-level-0);\n",
       "}\n",
       "\n",
       "#sk-container-id-1 div.sk-estimator.fitted {\n",
       "  /* fitted */\n",
       "  background-color: var(--sklearn-color-fitted-level-0);\n",
       "}\n",
       "\n",
       "/* on hover */\n",
       "#sk-container-id-1 div.sk-estimator:hover {\n",
       "  /* unfitted */\n",
       "  background-color: var(--sklearn-color-unfitted-level-2);\n",
       "}\n",
       "\n",
       "#sk-container-id-1 div.sk-estimator.fitted:hover {\n",
       "  /* fitted */\n",
       "  background-color: var(--sklearn-color-fitted-level-2);\n",
       "}\n",
       "\n",
       "/* Specification for estimator info (e.g. \"i\" and \"?\") */\n",
       "\n",
       "/* Common style for \"i\" and \"?\" */\n",
       "\n",
       ".sk-estimator-doc-link,\n",
       "a:link.sk-estimator-doc-link,\n",
       "a:visited.sk-estimator-doc-link {\n",
       "  float: right;\n",
       "  font-size: smaller;\n",
       "  line-height: 1em;\n",
       "  font-family: monospace;\n",
       "  background-color: var(--sklearn-color-background);\n",
       "  border-radius: 1em;\n",
       "  height: 1em;\n",
       "  width: 1em;\n",
       "  text-decoration: none !important;\n",
       "  margin-left: 1ex;\n",
       "  /* unfitted */\n",
       "  border: var(--sklearn-color-unfitted-level-1) 1pt solid;\n",
       "  color: var(--sklearn-color-unfitted-level-1);\n",
       "}\n",
       "\n",
       ".sk-estimator-doc-link.fitted,\n",
       "a:link.sk-estimator-doc-link.fitted,\n",
       "a:visited.sk-estimator-doc-link.fitted {\n",
       "  /* fitted */\n",
       "  border: var(--sklearn-color-fitted-level-1) 1pt solid;\n",
       "  color: var(--sklearn-color-fitted-level-1);\n",
       "}\n",
       "\n",
       "/* On hover */\n",
       "div.sk-estimator:hover .sk-estimator-doc-link:hover,\n",
       ".sk-estimator-doc-link:hover,\n",
       "div.sk-label-container:hover .sk-estimator-doc-link:hover,\n",
       ".sk-estimator-doc-link:hover {\n",
       "  /* unfitted */\n",
       "  background-color: var(--sklearn-color-unfitted-level-3);\n",
       "  color: var(--sklearn-color-background);\n",
       "  text-decoration: none;\n",
       "}\n",
       "\n",
       "div.sk-estimator.fitted:hover .sk-estimator-doc-link.fitted:hover,\n",
       ".sk-estimator-doc-link.fitted:hover,\n",
       "div.sk-label-container:hover .sk-estimator-doc-link.fitted:hover,\n",
       ".sk-estimator-doc-link.fitted:hover {\n",
       "  /* fitted */\n",
       "  background-color: var(--sklearn-color-fitted-level-3);\n",
       "  color: var(--sklearn-color-background);\n",
       "  text-decoration: none;\n",
       "}\n",
       "\n",
       "/* Span, style for the box shown on hovering the info icon */\n",
       ".sk-estimator-doc-link span {\n",
       "  display: none;\n",
       "  z-index: 9999;\n",
       "  position: relative;\n",
       "  font-weight: normal;\n",
       "  right: .2ex;\n",
       "  padding: .5ex;\n",
       "  margin: .5ex;\n",
       "  width: min-content;\n",
       "  min-width: 20ex;\n",
       "  max-width: 50ex;\n",
       "  color: var(--sklearn-color-text);\n",
       "  box-shadow: 2pt 2pt 4pt #999;\n",
       "  /* unfitted */\n",
       "  background: var(--sklearn-color-unfitted-level-0);\n",
       "  border: .5pt solid var(--sklearn-color-unfitted-level-3);\n",
       "}\n",
       "\n",
       ".sk-estimator-doc-link.fitted span {\n",
       "  /* fitted */\n",
       "  background: var(--sklearn-color-fitted-level-0);\n",
       "  border: var(--sklearn-color-fitted-level-3);\n",
       "}\n",
       "\n",
       ".sk-estimator-doc-link:hover span {\n",
       "  display: block;\n",
       "}\n",
       "\n",
       "/* \"?\"-specific style due to the `<a>` HTML tag */\n",
       "\n",
       "#sk-container-id-1 a.estimator_doc_link {\n",
       "  float: right;\n",
       "  font-size: 1rem;\n",
       "  line-height: 1em;\n",
       "  font-family: monospace;\n",
       "  background-color: var(--sklearn-color-background);\n",
       "  border-radius: 1rem;\n",
       "  height: 1rem;\n",
       "  width: 1rem;\n",
       "  text-decoration: none;\n",
       "  /* unfitted */\n",
       "  color: var(--sklearn-color-unfitted-level-1);\n",
       "  border: var(--sklearn-color-unfitted-level-1) 1pt solid;\n",
       "}\n",
       "\n",
       "#sk-container-id-1 a.estimator_doc_link.fitted {\n",
       "  /* fitted */\n",
       "  border: var(--sklearn-color-fitted-level-1) 1pt solid;\n",
       "  color: var(--sklearn-color-fitted-level-1);\n",
       "}\n",
       "\n",
       "/* On hover */\n",
       "#sk-container-id-1 a.estimator_doc_link:hover {\n",
       "  /* unfitted */\n",
       "  background-color: var(--sklearn-color-unfitted-level-3);\n",
       "  color: var(--sklearn-color-background);\n",
       "  text-decoration: none;\n",
       "}\n",
       "\n",
       "#sk-container-id-1 a.estimator_doc_link.fitted:hover {\n",
       "  /* fitted */\n",
       "  background-color: var(--sklearn-color-fitted-level-3);\n",
       "}\n",
       "</style><div id=\"sk-container-id-1\" class=\"sk-top-container\"><div class=\"sk-text-repr-fallback\"><pre>MLPClassifier(alpha=1e-05, hidden_layer_sizes=(3, 3), random_state=1)</pre><b>In a Jupyter environment, please rerun this cell to show the HTML representation or trust the notebook. <br />On GitHub, the HTML representation is unable to render, please try loading this page with nbviewer.org.</b></div><div class=\"sk-container\" hidden><div class=\"sk-item\"><div class=\"sk-estimator fitted sk-toggleable\"><input class=\"sk-toggleable__control sk-hidden--visually\" id=\"sk-estimator-id-1\" type=\"checkbox\" checked><label for=\"sk-estimator-id-1\" class=\"sk-toggleable__label fitted sk-toggleable__label-arrow fitted\">&nbsp;&nbsp;MLPClassifier<a class=\"sk-estimator-doc-link fitted\" rel=\"noreferrer\" target=\"_blank\" href=\"https://scikit-learn.org/1.4/modules/generated/sklearn.neural_network.MLPClassifier.html\">?<span>Documentation for MLPClassifier</span></a><span class=\"sk-estimator-doc-link fitted\">i<span>Fitted</span></span></label><div class=\"sk-toggleable__content fitted\"><pre>MLPClassifier(alpha=1e-05, hidden_layer_sizes=(3, 3), random_state=1)</pre></div> </div></div></div></div>"
      ],
      "text/plain": [
       "MLPClassifier(alpha=1e-05, hidden_layer_sizes=(3, 3), random_state=1)"
      ]
     },
     "execution_count": 7,
     "metadata": {},
     "output_type": "execute_result"
    }
   ],
   "source": [
    "clf.fit(X_train, y_train)"
   ]
  },
  {
   "cell_type": "code",
   "execution_count": 8,
   "metadata": {},
   "outputs": [
    {
     "name": "stdout",
     "output_type": "stream",
     "text": [
      "[2 0 1 1 1 0 2 2 2 1 0 1 2 1 2 1 2 1 1 2 1 2 1 0 2 2 1 0 2 1]\n"
     ]
    }
   ],
   "source": [
    "prediction = clf.predict(X_test)\n",
    "print(prediction)"
   ]
  },
  {
   "cell_type": "code",
   "execution_count": 9,
   "metadata": {},
   "outputs": [
    {
     "name": "stdout",
     "output_type": "stream",
     "text": [
      "The accuracy of the Multi-layer Perceptron is: 0.7666666666666667\n"
     ]
    }
   ],
   "source": [
    "print('The accuracy of the Multi-layer Perceptron is:',metrics.accuracy_score(prediction,y_test))"
   ]
  },
  {
   "cell_type": "markdown",
   "metadata": {},
   "source": [
    "- [machinelearningcoban.com](https://machinelearningcoban.com/2017/01/21/perceptron/#:~:text=Thu%E1%BA%ADt%20to%C3%A1n%20Perceptron%20%28PLA%29%201%20M%E1%BB%99t%20s%E1%BB%91%20k%C3%BD,m%E1%BA%A5t%20m%C3%A1t%20...%203%20T%C3%B3m%20t%E1%BA%AFt%20PLA%20)\n",
    "- [rpubs.com](https://rpubs.com/phamdinhkhanh/393922)"
   ]
  }
 ],
 "metadata": {
  "kernelspec": {
   "display_name": "Python 3",
   "language": "python",
   "name": "python3"
  },
  "language_info": {
   "codemirror_mode": {
    "name": "ipython",
    "version": 3
   },
   "file_extension": ".py",
   "mimetype": "text/x-python",
   "name": "python",
   "nbconvert_exporter": "python",
   "pygments_lexer": "ipython3",
   "version": "3.10.0"
  }
 },
 "nbformat": 4,
 "nbformat_minor": 2
}
