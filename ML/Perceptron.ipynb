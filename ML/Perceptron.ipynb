{
 "cells": [
  {
   "cell_type": "markdown",
   "metadata": {},
   "source": [
    " Chúng ta có thể coi mô hình Perceptron như một mạng thần kinh với bốn thành phần chính là giá trị đầu vào (input), trọng số (weight), độ lệch (bias), tổng ròng (summation), và hàm kích hoạt (activation).\n",
    "\n",
    "<img src=\"https://websitehcm.com/wp-content/uploads/2022/03/image-346.png\" style=\"heigh:500px; width:500px; position:relative; margin-top:50px; left: 180px; margin-bottom:50px\">"
   ]
  },
  {
   "cell_type": "markdown",
   "metadata": {},
   "source": [
    "Hình trên là một mô hình perceptron đơn giản nhất. Nhìn vào, ta thấy rằng chỉ có Summation và Activation là hai luồng xử lý chính, do đó ta có thể gộp chúng thành một khối duy nhất gọi là một nơ-ron. Điều đó cũng có nghĩa là, sẽ có nhiều nơ-ron như vậy xuất hiện tạo thành một một lớp gọi là lớp ẩn (hidden layer). Tôi cũng sẽ gọi đầu vào là input layer và đầu ra là ouput layer.\n",
    "\n",
    "<img src=\"https://iq.opengenus.org/content/images/2020/12/multilayer-perceptron-1.png\" style=\"heigh:500px; width:500px; position:relative; margin-top:50px; left: 180px; margin-bottom:50px\">"
   ]
  },
  {
   "cell_type": "markdown",
   "metadata": {},
   "source": [
    "Chưa dừng lại ở đó, một perceptron thậm chí còn phức tạp hơn vì ta có nhiều hidden layer cùng xuất hiện. Quy luật của mô hình cũng có một chút thay đổi: đầu ra của layer này có thể là đầu vào của layer tiếp theo, hoặc là kết quả của cả mô hình."
   ]
  },
  {
   "cell_type": "markdown",
   "metadata": {},
   "source": [
    "\n",
    "\n",
    "<img src=\"https://miro.medium.com/v2/resize:fit:698/1*__VohxXH6aT7NwOdHDw9CQ.png\" style=\"heigh:500px; width:500px; position:relative; margin-top:50px; left: 180px; margin-bottom:50px\">"
   ]
  },
  {
   "cell_type": "markdown",
   "metadata": {},
   "source": [
    "Đấy là một perceptron hoàn chỉnh ứng dụng rất nhiều trong deep learning. Đây cũng chính là một mang nơ-ron đơn giản nhất. Sở dĩ ta không gọi nó là mô hình mạng nơ-ron vì thuật ngữ \"mạng nơ-ron\" thậm chí còn phức tạp hơn nhiều. Thuật ngữ này đề cập đến các kiến trúc khác như mạng nơ-ron tích chập (CNNs), mạng nơ-ron hồi quy (RNNs), và nhiều hơn nữa. Mạng nơ-ron thường được sử dụng để mô phỏng các quá trình suy nghĩ của não người với mục đích giải quyết các bài toán phức tạp hơn trong lĩnh vực nhận dạng mẫu, xử lý ngôn ngữ tự nhiên, nhận dạng hình ảnh, v.v."
   ]
  }
 ],
 "metadata": {
  "language_info": {
   "name": "python"
  }
 },
 "nbformat": 4,
 "nbformat_minor": 2
}
