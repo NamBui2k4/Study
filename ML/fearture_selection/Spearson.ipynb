{
 "cells": [
  {
   "cell_type": "markdown",
   "metadata": {},
   "source": [
    "# Phân tích tương quan Pearson "
   ]
  },
  {
   "cell_type": "markdown",
   "metadata": {},
   "source": [
    "Phân tích tương quan Pearson là một trong các phương pháp được lựa chọn khi chúng ta thực hiện feature selection trong các bài toán học máy. Phương pháp này ứng trong trường hợp dữ liệu đầu vào có tính chất tuyến tính."
   ]
  },
  {
   "cell_type": "markdown",
   "metadata": {},
   "source": [
    "##  Lý thuyết về tương quan Pearson\n",
    "\n",
    "Tương quan tuyến tính giữa hai biến là mối tương quan mà khi biểu diễn giá trị quan sát của hai biến trên mặt phẳng Oxy, các điểm dữ liệu có xu hướng tạo thành một đường thẳng. Theo Gayen (1951) , trong thống kê, các nhà nghiên cứu sử dụng hệ số tương quan Pearson (ký hiệu r) để lượng hóa mức độ chặt chẽ của mối liên hệ tuyến tính giữa hai biến định lượng. Nếu một trong hai hoặc cả hai biến không phải là biến định lượng (biến định tính, biến nhị phân,…) chúng ta sẽ không thực hiện phân tích tương quan Pearson cho các biến này. \n",
    "\n",
    "Hệ số tương quan Pearson r có giá trị dao động từ -1 đến 1:\n",
    "\n",
    "- Nếu r càng tiến về 1, -1: tương quan tuyến tính càng mạnh, càng chặt chẽ. Tiến về 1 là tương quan dương, tiến về -1 là tương quan âm.\n",
    "- Nếu r càng tiến về 0: tương quan tuyến tính càng yếu.\n",
    "- Nếu r = 1: tương quan tuyến tính tuyệt đối, khi biểu diễn trên đồ thị phân tán Scatter như hình vẽ ở trên, các điểm biểu diễn sẽ nhập lại thành 1 đường thẳng.\n",
    "- Nếu r = 0: không có mối tương quan tuyến tính. Lúc này sẽ có 2 tình huống xảy ra. Một, không có một mối liên hệ nào giữa 2 biến. Hai, giữa chúng có mối liên hệ phi tuyến."
   ]
  },
  {
   "cell_type": "markdown",
   "metadata": {},
   "source": [
    "Để tính toán hệ số tương quan Pearson, ta  có thể làm theo công thức toán học của Pearson. Công thức này được tính như sau:\n",
    "\n",
    "$$r =\\frac{Cov(X,Y)}{σ_X​ σ_Y​}$$\n",
    "\n",
    "trong đó:\n",
    "- $𝜎_𝑋$​  và $𝜎_𝑌$ là độ lệch chuẩn của $𝑋$ và $𝑌$.\n",
    "- $Cov(X,Y)$ là hiệp phương sai của $𝑋$ và $𝑌$. Bạn đọc có thể tự tìm hiểu khái niệm này trên mạng.\n",
    "\n",
    "Công thức để tính $Cov(X,Y)$ là: $$Cov(X,Y)= \\frac{∑_{i=1}{n}​ (x_i​ − \\bar{x} )(y_i​ − \\hat{y})​}{n} $$\n",
    "​\n",
    "trong đó 𝑥ˉ  và 𝑦ˉ  lần lượt là giá trị trung bình của 𝑋 và 𝑌, và 𝑛 là số lượng quan sát.\n",
    "\n",
    "Ta thấy rằng công thức trên khá lằng nhằng vì cứ trên mỗi một tập dữ liệu là ta phải tính lại giá trị 𝑥ˉ  và 𝑦ˉ cũng như $𝜎_𝑋$​  và $𝜎_𝑌$. Điều này có thể gây khó dễ trong lập trình. Do đó, ta có thể bung hết cả tử và mẫu ra và đưa về công thức sau:\n",
    "\n",
    "$$r = \\frac{n(\\sum xy) - (\\sum x)(\\sum y)}{\\sqrt{[n\\sum x^2 - (\\sum x)^2][n\\sum y^2 - (\\sum y)^2]}}\n",
    "$$\n",
    "\n",
    "Trong đó:\n",
    "- $n$ là số lượng quan sát.\n",
    "- $\\sum xy$ là tổng của tích các cặp giá trị.\n",
    "- $\\sum x$ và $\\sum y$ là tổng các giá trị của $X$ và $Y$.\n",
    "- $\\sum x^2$ và $\\sum y^2$ là tổng của bình phương các giá trị của $X$ và $Y$."
   ]
  },
  {
   "cell_type": "markdown",
   "metadata": {},
   "source": [
    "Lưu ý rằng, dữ liệu $X$ và $Y$ phải thỏa 2 điều kiện sau:\n",
    "- Dữ liệu liên tục: $X$ và $Y$ phải là các số thực hoặc số nguyên liên tục, không phải là chuỗi, nhãn, hay dữ liệu danh mục\n",
    "\n",
    "- Phân phối chuẩn: Cả hai biến cần có phân phối chuẩn hoặc gần chuẩn. Nếu phân phối dữ liệu bị lệch, hệ số Pearson có thể không phản ánh chính $x$ác mối liên hệ giữa hai biến.\n",
    "- Mối quan hệ tuyến tính: Mối quan hệ giữa hai biến cần phải tuyến tính. Nếu mối quan hệ phi tuyến tính, hệ số Pearson cũng sẽ không chính xác.\n",
    "\n",
    "Ngoài ra, cần lưu ý rằng:\n",
    "- Hệ số tương quan chỉ đo lường mối liên hệ giữa hai biến, chứ không chứng minh mối quan hệ nhân quả.\n",
    "- Việc giải thích hệ số tương quan cần được thực hiện cẩn thận, đồng thời xem xét các yếu tố khác như kích thước mẫu, giá trị ngoại lệ, v.v."
   ]
  },
  {
   "cell_type": "markdown",
   "metadata": {},
   "source": [
    "### Triển khai\n"
   ]
  },
  {
   "cell_type": "markdown",
   "metadata": {},
   "source": [
    "1. Thủ công"
   ]
  },
  {
   "cell_type": "code",
   "execution_count": 16,
   "metadata": {},
   "outputs": [],
   "source": [
    "import random\n",
    "import numpy as np\n",
    "\n",
    "x = np.linspace(1,10,50)\n",
    "y = np.linspace(3,7,50)\n",
    "\n",
    "n = len(x)"
   ]
  },
  {
   "cell_type": "code",
   "execution_count": 1,
   "metadata": {},
   "outputs": [],
   "source": [
    "import pandas as pd\n",
    "import numpy as np"
   ]
  },
  {
   "cell_type": "code",
   "execution_count": 22,
   "metadata": {},
   "outputs": [
    {
     "name": "stdout",
     "output_type": "stream",
     "text": [
      "1\n"
     ]
    }
   ],
   "source": [
    "sum_xy = np.sum(x*y)\n",
    "sum_x = np.sum(x)\n",
    "sum_y = np.sum(y)\n",
    "sum_x2= np.sum(x**2)\n",
    "sum_y2= np.sum(y**2)\n",
    "\n",
    "numerator = n*sum_xy - sum_x*sum_y\n",
    "denominator = np.sqrt((n*sum_x2 -sum_x**2)*(n*sum_y2 -sum_y**2))\n",
    "cor = numerator / denominator\n",
    "print(round(cor))"
   ]
  },
  {
   "cell_type": "markdown",
   "metadata": {},
   "source": [
    "2. Dùng cách khác"
   ]
  },
  {
   "cell_type": "code",
   "execution_count": 26,
   "metadata": {},
   "outputs": [],
   "source": [
    "# Tạo dữ liệu mẫu\n",
    "# data = {'X': [10, 20, 30, 40, 50],\n",
    "#         'Y': [15, 25, 35, 45, 55]}\n",
    "# df = pd.DataFrame(data)\n",
    "import numpy as np\n",
    "import pandas as pd\n",
    "data ={\n",
    "       'A': np.linspace(1,10,20),\n",
    "       'B' : np.linspace(5, 9, 20)\n",
    "}\n",
    "\n",
    "df = pd.DataFrame(data)"
   ]
  },
  {
   "cell_type": "code",
   "execution_count": 28,
   "metadata": {},
   "outputs": [
    {
     "name": "stdout",
     "output_type": "stream",
     "text": [
      "ma trận tương quan: \n",
      "      A    B\n",
      "A  1.0  1.0\n",
      "B  1.0  1.0\n"
     ]
    }
   ],
   "source": [
    "# Tính toán hệ số tương quan Pearson\n",
    "matrix = df.corr()\n",
    "print('ma trận tương quan: \\n', matrix)\n"
   ]
  },
  {
   "cell_type": "code",
   "execution_count": 32,
   "metadata": {},
   "outputs": [
    {
     "name": "stdout",
     "output_type": "stream",
     "text": [
      "Hệ số tương quan:  1.0\n"
     ]
    }
   ],
   "source": [
    "# Tính hệ số tương quan Pearson\n",
    "corr_coef = np.corrcoef(df['A'], df['B'])\n",
    "print('Hệ số tương quan: ', corr_coef[0,1])\n"
   ]
  },
  {
   "cell_type": "markdown",
   "metadata": {},
   "source": [
    "## Ứng dụng của hệ số spearson trong feature selection\n",
    "\n",
    "Hệ số Pearson có thể được sử dụng trong Feature Selection (lựa chọn đặc trưng) theo một số cách:\n",
    "\n",
    "1. Đánh giá mức độ liên quan giữa các đặc trưng:\n",
    "\n",
    "Hệ số Pearson có thể được sử dụng để đánh giá mức độ liên quan giữa một đặc trưng và biến mục tiêu. Các đặc trưng có hệ số Pearson cao với biến mục tiêu được coi là có liên quan cao và có thể được giữ lại trong mô hình dự đoán.\n",
    "Ngược lại, các đặc trưng có hệ số Pearson thấp với biến mục tiêu được coi là có liên quan thấp và có thể được loại bỏ.\n",
    "\n",
    "2. Loại bỏ đa cộng tuyến tính:\n",
    "\n",
    "Đa cộng tuyến tính xảy ra khi hai hoặc nhiều đặc trưng có mối tương quan cao với nhau. Điều này có thể dẫn đến các vấn đề trong việc ước tính mô hình, chẳng hạn như độ chính xác thấp hoặc sai số lớn.\n",
    "Hệ số Pearson có thể được sử dụng để xác định các cặp đặc trưng có mối tương quan cao với nhau. Một trong hai đặc trưng này có thể được loại bỏ để giảm thiểu đa cộng tuyến tính.\n",
    "\n",
    "3. Giảm kích thước của tập dữ liệu:\n",
    "\n",
    "Việc lựa chọn đặc trưng có thể giúp giảm kích thước của tập dữ liệu, làm cho việc tính toán và huấn luyện mô hình trở nên hiệu quả hơn.\n",
    "Hệ số Pearson có thể được sử dụng để loại bỏ các đặc trưng có liên quan thấp với biến mục tiêu hoặc có mối tương quan cao với nhau, giúp giảm kích thước tập dữ liệu mà không làm giảm hiệu suất của mô hình.\n",
    "\n",
    "Tuy nhiên, cần lưu ý rằng:\n",
    "\n",
    "- Hệ số Pearson chỉ đo lường mối liên hệ tuyến tính giữa hai biến. Một số mối quan hệ phi tuyến tính có thể không được phát hiện bằng hệ số Pearson.\n",
    "- Hệ số Pearson có thể bị ảnh hưởng bởi phân phối dữ liệu. Nếu phân phối dữ liệu bị lệch, hệ số Pearson có thể không phản ánh chính xác mối liên hệ giữa hai biến.\n",
    "- Việc lựa chọn đặc trưng cần được thực hiện cẩn thận, đồng thời xem xét các yếu tố khác như độ chính xác của mô hình, khả năng giải thích, v.v."
   ]
  },
  {
   "cell_type": "markdown",
   "metadata": {},
   "source": [
    "Nguồn: [phamlocblog.com](https://www.phamlocblog.com/2015/11/phan-tich-tuong-quan-pearson-trong-spss.html)"
   ]
  }
 ],
 "metadata": {
  "kernelspec": {
   "display_name": "Python 3",
   "language": "python",
   "name": "python3"
  },
  "language_info": {
   "codemirror_mode": {
    "name": "ipython",
    "version": 3
   },
   "file_extension": ".py",
   "mimetype": "text/x-python",
   "name": "python",
   "nbconvert_exporter": "python",
   "pygments_lexer": "ipython3",
   "version": "3.10.0"
  }
 },
 "nbformat": 4,
 "nbformat_minor": 2
}
