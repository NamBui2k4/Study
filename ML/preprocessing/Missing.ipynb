{
 "cells": [
  {
   "cell_type": "markdown",
   "metadata": {},
   "source": [
    "# Xử lý missing data trong Data analysis\n",
    "\n",
    "Xử lý missing value là quá trình xử lý các giá trị bị thiếu trong một tập dữ liệu. \n",
    "\n",
    "Giá trị bị thiếu có thể xảy ra do nhiều lý do, chẳng hạn như lỗi nhập dữ liệu, lỗi cảm biến hoặc dữ liệu bị mất do các sự kiện bên ngoài.\n"
   ]
  },
  {
   "cell_type": "markdown",
   "metadata": {},
   "source": [
    "## Những kiểu missing data\n",
    "Có 3 loại missing data sẽ được trình bày ở dưới đây:"
   ]
  },
  {
   "cell_type": "markdown",
   "metadata": {},
   "source": [
    "### Missing at Random - Dữ liệu bị khuyết ngẫu nhiên\n",
    "Dữ liệu bị mất ngẫu nhiên, tuy nhiên vẫn có mối quan hệ giữa dữ liệu bị mất và dữ liệu còn. \n",
    "\n",
    "Ví dụ:\n",
    "\n",
    "Những người trẻ tuổi (dưới 31t) bị khuyết dữ liệu về IQ, có nghĩa là có một mối quan hệ giữa biến IQ và biến tuổi.\n",
    "\n",
    "![](https://images.viblo.asia/a622d3a1-120c-4e3a-a789-6974b7519080.png)"
   ]
  },
  {
   "cell_type": "markdown",
   "metadata": {},
   "source": [
    "### Missing Completely at Random - Dữ liệu thiếu hoàn toàn ngẫu nhiên\n",
    "\n",
    "Dữ liệu bị mất hoàn hoàn ngẫu nhiên, không có quy luật, và không có bất kỳ một mối quan hệ hay sự liên quan nào giữa dữ liệu mất và dữ liệu còn\n",
    "\n",
    "![](https://images.viblo.asia/54c9503c-46e3-41e2-b211-97c1baf3addc.png)"
   ]
  },
  {
   "cell_type": "markdown",
   "metadata": {},
   "source": [
    "### Missing Not at Random - Dữ liệu khuyết không ngẫu nhiên\n",
    "\n",
    "Giống với Missing at random, nhưng quan hệ giữa dữ liệu mất và còn là quan hệ có xu hướng\n",
    "\n",
    "ví dụ:\n",
    "\n",
    "Những người có IQ thấp sẽ bị missing còn IQ cao thì không bị thiếu\n",
    "\n",
    "![](https://images.viblo.asia/26dd1669-7576-4ce4-875b-5004505bf8ce.png)"
   ]
  },
  {
   "cell_type": "markdown",
   "metadata": {},
   "source": [
    "## Phương pháp xử lý\n",
    "\n",
    "Có một số phương pháp khác nhau để xử lý missing value, tùy thuộc vào bản chất của dữ liệu và mục đích của phân tích.\n",
    "\n",
    "**Các phương pháp xử lý missing value**\n",
    "\n",
    "* **Xóa bỏ các trường hợp có missing value:** Phương pháp này chỉ khả thi khi số lượng missing value nhỏ và dữ liệu còn lại vẫn đại diện cho tập dữ liệu ban đầu.\n",
    "* **Thay thế missing value bằng giá trị trung bình, trung vị hoặc giá trị thường gặp nhất:** Phương pháp này có thể làm sai lệch dữ liệu nếu các missing value không được phân bố ngẫu nhiên.\n",
    "* **Nội suy:** Sử dụng các giá trị lân cận để ước tính missing value. Các phương pháp nội suy phổ biến bao gồm nội suy tuyến tính, nội suy bậc hai và nội suy spline.\n",
    "* **Mô hình hóa missing value:** Sử dụng các mô hình thống kê hoặc máy học để dự đoán missing value dựa trên các biến khác trong dữ liệu.\n",
    "\n",
    "## Ví dụ\n",
    "\n",
    "Giả sử chúng ta có một tập dữ liệu về doanh số bán hàng với một số missing value trong cột \"doanh số\".\n",
    "\n",
    "```python\n",
    "    # kiểm tra giá trị bị thiếu NaN\n",
    "    df.isna().sum()\n",
    "```\n",
    "**1. Phương pháp xóa bỏ:**\n",
    "\n",
    "Nếu chỉ có một số ít missing value và chúng được phân bố ngẫu nhiên, chúng ta có thể xóa bỏ các trường hợp có missing value.\n",
    "\n",
    "```python\n",
    "    # Xóa bỏ các trường hợp có missing value\n",
    "    df = df.dropna()\n",
    "```\n",
    "\n",
    "**2. Phương pháp thay thế:**\n",
    "\n",
    "Nếu missing value không được phân bố ngẫu nhiên, chúng ta có thể thay thế chúng bằng giá trị trung bình, trung vị hoặc giá trị thường gặp nhất.\n",
    "\n",
    "```python\n",
    "    # Thay thế missing value bằng giá trị trung bình\n",
    "    df['doanh_so'].fillna(df['doanh_so'].mean(), inplace=True)\n",
    "\n",
    "    # Thay thế missing value bằng giá trị thường gặp nhất\n",
    "    df['doanh_so'].fillna(df['doanh_so'].mode()[0], inplace=True)\n",
    "```\n",
    "\n",
    "**3. Phương pháp nội suy:**\n",
    "\n",
    "Nếu missing value nằm giữa các giá trị đã biết, chúng ta có thể sử dụng nội suy để ước tính chúng.\n",
    "\n",
    "```python\n",
    "    # Nội suy tuyến tính\n",
    "    df['doanh_so'].interpolate(method='linear', inplace=True)\n",
    "\n",
    "    # Nội suy bậc hai\n",
    "    df['doanh_so'].interpolate(method='quadratic', inplace=True)\n",
    "```\n",
    "\n",
    "**4. Phương pháp mô hình hóa:**\n",
    "\n",
    "Nếu missing value có liên quan đến các biến khác trong dữ liệu, chúng ta có thể sử dụng mô hình thống kê hoặc máy học để dự đoán chúng.\n",
    "\n",
    "```python\n",
    "    # Sử dụng mô hình hồi quy tuyến tính để dự đoán missing value\n",
    "    from sklearn.linear_model import LinearRegression\n",
    "    model = LinearRegression()\n",
    "    model.fit(df[['bien_1', 'bien_2']], df['doanh_so'])\n",
    "    df['doanh_so'].fillna(model.predict(df[['bien_1', 'bien_2']]), inplace=True)\n",
    "```\n",
    "\n",
    "Việc lựa chọn phương pháp xử lý missing value phù hợp phụ thuộc vào bản chất của dữ liệu, mục đích của phân tích và số lượng missing value."
   ]
  }
 ],
 "metadata": {
  "language_info": {
   "name": "python"
  }
 },
 "nbformat": 4,
 "nbformat_minor": 2
}
