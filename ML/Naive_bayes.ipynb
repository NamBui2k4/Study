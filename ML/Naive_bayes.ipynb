{
 "cells": [
  {
   "cell_type": "markdown",
   "metadata": {},
   "source": [
    "Bài viết này được kham khảo từ nguồn:\n",
    "- [200lab.io](https://200lab.io/blog/tim-hieu-naive-bayes-classification-phan-1/)\n",
    "- [ichi.pro](https://ichi.pro/vi/phan-loai-van-ban-bang-cach-su-dung-naive-bayes-ly-thuyet-va-mot-vi-du-lam-viec-51628592561498)"
   ]
  },
  {
   "cell_type": "markdown",
   "metadata": {},
   "source": [
    "# Naive Bayes là gì?\n",
    "\n",
    "Trước hết, Naive Bayes là một mô hình chung. Bộ phân loại Naive Bayes là một tập hợp các thuật toán phân loại dựa trên Định lý Bayes . Nó không phải là một thuật toán đơn lẻ mà là một họ các thuật toán mà tất cả chúng đều có chung một nguyên tắc.\n",
    "\n",
    "Naive Bayes đã được nghiên cứu rộng rãi từ những năm 1950. Vào đầu những năm 1960, nó đã được đưa vào lĩnh vực truy xuất thông tin văn bản dưới một tên gọi khác. Nó vẫn là một phương pháp phân loại văn bản (điểm chuẩn) phổ biến. Phân loại văn bản sử dụng tần suất từ ​​làm đặc điểm để xác định danh mục hoặc các vấn đề Khác (chẳng hạn như spam, tính hợp pháp, thể thao hoặc chính trị, v.v.). Với tiền xử lý thích hợp, nó có thể cạnh tranh với các phương pháp tiên tiến hơn trong lĩnh vực này (bao gồm cả các máy vector hỗ trợ). Nó cũng được sử dụng trong chẩn đoán y tế tự động."
   ]
  },
  {
   "cell_type": "markdown",
   "metadata": {},
   "source": [
    "## Đặt vấn đề\n",
    "Hãy tưởng tượng 2 người Alice và Bob, mỗi người có cách sử dụng khác nhau mà bạn đã quen thuộc trước đó. Để cho ví dụ đơn giản nhất có thể thì Alice thường kết hợp 3 từ sau với nhau : love, great, wonderful, trong khi đó Bob lại hay sử dụng: dog, ball, wonderful.\n",
    "\n",
    "Nếu bạn nhận được một email ẩn danh (anonymous email), người gửi ẩn danh ấy có thể là Bob hay Alice. Email có nội dung như sau: \"I love beach sand. Additionally the sunset at beach offers wonderful view\".\n",
    "\n",
    "Bạn có thể đoán được người gửi là ai không ? Đoán thử xem !\n",
    "\n",
    "Nếu bạn đoán Alice là người gửi thì bạn đúng rồi đó. Có lẽ là vì bạn thấy các từ như \"love\", \"wonderful\", Alice thường sử dụng kết hợp các từ này.\n",
    "\n",
    "Bây giờ chúng ta sẽ thêm vào tổ hợp xác suất cho các từ đó, giả sử xác suất mà Alice và Bod sử dụng các từ giống như hình minh họa bên dưới. Bạn có thể đoán ai là người gửi nếu nội dung email là \"Wonderful Love\"\n",
    "\n",
    "![](https://statics.cdn.200lab.io/2022/04/image-22.png)\n",
    "\n",
    "Bạn đoán được không ?\n",
    "\n",
    "Nếu bạn nghĩ đó là Bob, thì lại chính xác nữa rồi. Nếu bạn biết công thức toán học để tính ra được thì thật tuyệt vời. Nếu không, không sao cả, chúng ta sẽ cùng nói về nó trong phần sau đây, cách áp dụng định lý Bayes."
   ]
  },
  {
   "cell_type": "markdown",
   "metadata": {},
   "source": [
    "## Định lý Bayes\n",
    "\n",
    "Định lý Bayes phát biểu rằng đối với hai sự kiện A và B:\n",
    "\n",
    "$$ P(A|B) = \\frac{P(B|A) \\cdot P(A)}{P(B)} $$\n",
    "\n",
    "Trong đó:\n",
    "\n",
    "- $P(A∣B)$ là xác suất điều kiện của sự kiện A xảy ra khi đã biết sự kiện B đã xảy ra.\n",
    "- $P(B∣A)$ là xác suất điều kiện của sự kiện B xảy ra khi đã biết sự kiện A đã xảy ra.\n",
    "- $P(A)$ và $P(B)$ lần lượt là xác suất trước khi biết bất kỳ thông tin nào về sự kiện B và A."
   ]
  },
  {
   "cell_type": "markdown",
   "metadata": {},
   "source": [
    "Ví dụ: Nếu đám chạy nguy hiểm hiếm gặp là  1%, khói thì khá là phổ biến tỉ lệ  10% do các nhà máy gây nên, 90% những đám cháy nguy hiểm đều có khói thì:\n",
    "\n",
    "P(Smoke) = 10%, P(Fire) = 1%\n",
    "\n",
    "P(Smoke|Fire) = 90%\n",
    "\n",
    "Theo công thức ta có P(Fire|Smoke) = (0.9*0.01)/0.1 = 9%\n",
    "\n",
    "Kết luận: Khi thấy nhà máy có khỏi thì 9% trong đó là đám cháy nguy hiểm.\n",
    "\n",
    "Bây giờ bạn có thể áp dụng nguyên lý này cho Alice và Bob ? Hãy cùng mình đi đến các phần tiếp theo"
   ]
  },
  {
   "cell_type": "markdown",
   "metadata": {},
   "source": [
    "## Phân loại với Naive Bayes\n",
    "\n",
    "Chúng ta sẽ đi tính toán xác suất  bằng cách sử dụng định lý Bayes. \n",
    "\n",
    "Ví dụ khi bạn nhận được một tấm ảnh chứa một chữ số bất kì từ 0-9 , bạn sẽ đi tính toán xác suất ảnh này với 10 con số từ 0-9  P(8| Ảnh)=x, P(7| Ảnh)=y, ..., sau đó chọn ra cặp nào có xác suất cao nhất thì đấy chính là kết quả.\n",
    "\n",
    "Naive Bayes Classifier đã được áp dụng thành công trong nhiều lĩnh vực, một trong số đó là Xử lý ngôn ngữ tự nhiên (Natutal Language Processing)."
   ]
  },
  {
   "cell_type": "markdown",
   "metadata": {},
   "source": [
    "## Tại sao Naive Bayes lại hiệu quả ?\n",
    "\n",
    "Chúng ta có các thuật toán thay thế như Suppory Vector Machine (SVM) hay Neural Networks khi gặp các vấn đề liên quan đên NLP. Khi đặt NBC (Naive Bayes Classifier) bên cạnh các thuật toán phức tạp, đòi hỏi nhiều thời gian và nguồn lực thì chúng lại trở nên lợi thế với thiết kế đơn giản cho các bài toán phân loại. Hơn nữa chúng còn được nhận xét là nhanh, đáng tin cậy và chính xác trong một số trường hợp của NLP."
   ]
  },
  {
   "cell_type": "markdown",
   "metadata": {},
   "source": [
    "## Một ví dụ cụ thể\n",
    "\n",
    "Trong ví dụ này người đối diện sẽ đưa cho bạn tập dữ liệu train (huấn luyện) như bảng bên dưới, đã được đánh nhãn (label) đầy đủ, trong trường hợp này là Sports và Not Sports, sau đó người đó sẽ hỏi bạn là câu nói \"A very close game\" thuộc category nào - Sports hay Not Sports ?\n",
    "\n",
    "| Text                         | Category   |\n",
    "| ---------------------------- | ---------- |\n",
    "| The Election was over        | Not Sports |\n",
    "| Very clean match             | Sports     |\n",
    "| A clean but forgettable game | Sports     |\n",
    "| It was a close election      | Not Sports |\n",
    "\n",
    "\n",
    "Cách làm :\n",
    "- Tính toán xác suất P( Not Sports | \"a very close game\"), P(Sports | \"a very close game\"), cái nào cao hơn thì mình chọn category đó.\n",
    "\n",
    "Bước 1: Feature Engineering\n",
    "\n",
    "Ở bước này chúng ta sẽ tập trung vào chuyện trích xuất các features từ dữ liệu đầu vào (cột Text), chúng ta cần dữ liệu dạng số để truyền vào công thức xác suất Bayes như giới thiêu ở phía trên. Đơn giản nhất bạn có thể đếm tần suất xuất hiện của chúng. Ví dụ: Với category Sport ta thấy từ Game xuất hiện 2 lần\n",
    "\n",
    "Công thức tính xác suất của chúng ta sẽ là\n",
    "\n",
    "![](https://statics.cdn.200lab.io/2022/04/image-30.png)\n",
    "\n",
    "Tương tự như vậy với P(Not Sports | a very close game), các bạn sẽ để ý thấy là phần mẫu số sẽ không đổi cho cả hai category đúng không, chúng đều là P(a very close game) nên chúng ta sẽ lượt bỏ luôn.\n",
    "\n",
    "![](https://statics.cdn.200lab.io/2022/04/image-31.png)\n",
    "\n",
    "Để có được P(a very close game | Sports) chúng ta sẽ phải đếm số lượng câu nói A very close game trong Category Sports rồi chia cho tổng số dòng thuộc Category này. Và như các bạn đã thấy thì không có dòng nào đúng từng chữ như vậy được nên xác suất trả ra sẽ bằng không. Chúng ta sẽ làm gì để giải quyết vấn đề này ?\n",
    "\n",
    "Bước 2: Chỉ cần ngây thơ\n",
    "\n",
    "Theo cách không ngây thơ thì chúng ta đã thấy là xác suất bằng không, khi tìm kiếm cả câu nói trong tập train. Trong khi đó Naive Bayes giả định rằng các từ là độc lập với nhau, chúng ta sẽ câu nói như các từ riêng lẻ ghép lại."
   ]
  }
 ],
 "metadata": {
  "language_info": {
   "name": "python"
  }
 },
 "nbformat": 4,
 "nbformat_minor": 2
}
