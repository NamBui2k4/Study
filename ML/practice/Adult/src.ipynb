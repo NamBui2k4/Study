{
 "cells": [
  {
   "cell_type": "code",
   "execution_count": 52,
   "metadata": {},
   "outputs": [],
   "source": [
    "import pandas as pd"
   ]
  },
  {
   "cell_type": "code",
   "execution_count": 53,
   "metadata": {},
   "outputs": [],
   "source": [
    "# Đọc dữ liệu\n",
    "df = pd.read_csv('adult.data', sep = ', ',engine='python')"
   ]
  },
  {
   "cell_type": "code",
   "execution_count": 54,
   "metadata": {},
   "outputs": [
    {
     "name": "stdout",
     "output_type": "stream",
     "text": [
      "       age         workclass   fnlwg   education  education-num  \\\n",
      "0       50  Self-emp-not-inc   83311   Bachelors             13   \n",
      "1       38           Private  215646     HS-grad              9   \n",
      "2       53           Private  234721        11th              7   \n",
      "3       28           Private  338409   Bachelors             13   \n",
      "4       37           Private  284582     Masters             14   \n",
      "...    ...               ...     ...         ...            ...   \n",
      "32555   27           Private  257302  Assoc-acdm             12   \n",
      "32556   40           Private  154374     HS-grad              9   \n",
      "32557   58           Private  151910     HS-grad              9   \n",
      "32558   22           Private  201490     HS-grad              9   \n",
      "32559   52      Self-emp-inc  287927     HS-grad              9   \n",
      "\n",
      "           marital-status         occupation   relationship   race     sex  \\\n",
      "0      Married-civ-spouse    Exec-managerial        Husband  White    Male   \n",
      "1                Divorced  Handlers-cleaners  Not-in-family  White    Male   \n",
      "2      Married-civ-spouse  Handlers-cleaners        Husband  Black    Male   \n",
      "3      Married-civ-spouse     Prof-specialty           Wife  Black  Female   \n",
      "4      Married-civ-spouse    Exec-managerial           Wife  White  Female   \n",
      "...                   ...                ...            ...    ...     ...   \n",
      "32555  Married-civ-spouse       Tech-support           Wife  White  Female   \n",
      "32556  Married-civ-spouse  Machine-op-inspct        Husband  White    Male   \n",
      "32557             Widowed       Adm-clerical      Unmarried  White  Female   \n",
      "32558       Never-married       Adm-clerical      Own-child  White    Male   \n",
      "32559  Married-civ-spouse    Exec-managerial           Wife  White  Female   \n",
      "\n",
      "       capital-gain  capital-los  hours-per-week native-country income  \n",
      "0                 0            0              13  United-States  <=50K  \n",
      "1                 0            0              40  United-States  <=50K  \n",
      "2                 0            0              40  United-States  <=50K  \n",
      "3                 0            0              40           Cuba  <=50K  \n",
      "4                 0            0              40  United-States  <=50K  \n",
      "...             ...          ...             ...            ...    ...  \n",
      "32555             0            0              38  United-States  <=50K  \n",
      "32556             0            0              40  United-States   >50K  \n",
      "32557             0            0              40  United-States  <=50K  \n",
      "32558             0            0              20  United-States  <=50K  \n",
      "32559         15024            0              40  United-States   >50K  \n",
      "\n",
      "[32560 rows x 15 columns]\n"
     ]
    }
   ],
   "source": [
    "df.columns = ['age','workclass','fnlwg','education','education-num','marital-status','occupation','relationship','race','sex', 'capital-gain', 'capital-los', 'hours-per-week', 'native-country', 'income']\n",
    "print(df)"
   ]
  },
  {
   "cell_type": "code",
   "execution_count": 55,
   "metadata": {},
   "outputs": [
    {
     "name": "stdout",
     "output_type": "stream",
     "text": [
      "(32560, 15)\n"
     ]
    }
   ],
   "source": [
    "print(df.shape)"
   ]
  },
  {
   "cell_type": "code",
   "execution_count": 56,
   "metadata": {},
   "outputs": [
    {
     "name": "stdout",
     "output_type": "stream",
     "text": [
      "<class 'pandas.core.frame.DataFrame'>\n",
      "RangeIndex: 32560 entries, 0 to 32559\n",
      "Data columns (total 15 columns):\n",
      " #   Column          Non-Null Count  Dtype \n",
      "---  ------          --------------  ----- \n",
      " 0   age             32560 non-null  int64 \n",
      " 1   workclass       32560 non-null  object\n",
      " 2   fnlwg           32560 non-null  int64 \n",
      " 3   education       32560 non-null  object\n",
      " 4   education-num   32560 non-null  int64 \n",
      " 5   marital-status  32560 non-null  object\n",
      " 6   occupation      32560 non-null  object\n",
      " 7   relationship    32560 non-null  object\n",
      " 8   race            32560 non-null  object\n",
      " 9   sex             32560 non-null  object\n",
      " 10  capital-gain    32560 non-null  int64 \n",
      " 11  capital-los     32560 non-null  int64 \n",
      " 12  hours-per-week  32560 non-null  int64 \n",
      " 13  native-country  32560 non-null  object\n",
      " 14  income          32560 non-null  object\n",
      "dtypes: int64(6), object(9)\n",
      "memory usage: 3.7+ MB\n"
     ]
    }
   ],
   "source": [
    "df.info()"
   ]
  },
  {
   "cell_type": "code",
   "execution_count": 57,
   "metadata": {},
   "outputs": [
    {
     "data": {
      "text/html": [
       "<div>\n",
       "<style scoped>\n",
       "    .dataframe tbody tr th:only-of-type {\n",
       "        vertical-align: middle;\n",
       "    }\n",
       "\n",
       "    .dataframe tbody tr th {\n",
       "        vertical-align: top;\n",
       "    }\n",
       "\n",
       "    .dataframe thead th {\n",
       "        text-align: right;\n",
       "    }\n",
       "</style>\n",
       "<table border=\"1\" class=\"dataframe\">\n",
       "  <thead>\n",
       "    <tr style=\"text-align: right;\">\n",
       "      <th></th>\n",
       "      <th>age</th>\n",
       "      <th>fnlwg</th>\n",
       "      <th>education-num</th>\n",
       "      <th>capital-gain</th>\n",
       "      <th>capital-los</th>\n",
       "      <th>hours-per-week</th>\n",
       "    </tr>\n",
       "  </thead>\n",
       "  <tbody>\n",
       "    <tr>\n",
       "      <th>count</th>\n",
       "      <td>32560.000000</td>\n",
       "      <td>3.256000e+04</td>\n",
       "      <td>32560.000000</td>\n",
       "      <td>32560.000000</td>\n",
       "      <td>32560.000000</td>\n",
       "      <td>32560.000000</td>\n",
       "    </tr>\n",
       "    <tr>\n",
       "      <th>mean</th>\n",
       "      <td>38.581634</td>\n",
       "      <td>1.897818e+05</td>\n",
       "      <td>10.080590</td>\n",
       "      <td>1077.615172</td>\n",
       "      <td>87.306511</td>\n",
       "      <td>40.437469</td>\n",
       "    </tr>\n",
       "    <tr>\n",
       "      <th>std</th>\n",
       "      <td>13.640642</td>\n",
       "      <td>1.055498e+05</td>\n",
       "      <td>2.572709</td>\n",
       "      <td>7385.402999</td>\n",
       "      <td>402.966116</td>\n",
       "      <td>12.347618</td>\n",
       "    </tr>\n",
       "    <tr>\n",
       "      <th>min</th>\n",
       "      <td>17.000000</td>\n",
       "      <td>1.228500e+04</td>\n",
       "      <td>1.000000</td>\n",
       "      <td>0.000000</td>\n",
       "      <td>0.000000</td>\n",
       "      <td>1.000000</td>\n",
       "    </tr>\n",
       "    <tr>\n",
       "      <th>25%</th>\n",
       "      <td>28.000000</td>\n",
       "      <td>1.178315e+05</td>\n",
       "      <td>9.000000</td>\n",
       "      <td>0.000000</td>\n",
       "      <td>0.000000</td>\n",
       "      <td>40.000000</td>\n",
       "    </tr>\n",
       "    <tr>\n",
       "      <th>50%</th>\n",
       "      <td>37.000000</td>\n",
       "      <td>1.783630e+05</td>\n",
       "      <td>10.000000</td>\n",
       "      <td>0.000000</td>\n",
       "      <td>0.000000</td>\n",
       "      <td>40.000000</td>\n",
       "    </tr>\n",
       "    <tr>\n",
       "      <th>75%</th>\n",
       "      <td>48.000000</td>\n",
       "      <td>2.370545e+05</td>\n",
       "      <td>12.000000</td>\n",
       "      <td>0.000000</td>\n",
       "      <td>0.000000</td>\n",
       "      <td>45.000000</td>\n",
       "    </tr>\n",
       "    <tr>\n",
       "      <th>max</th>\n",
       "      <td>90.000000</td>\n",
       "      <td>1.484705e+06</td>\n",
       "      <td>16.000000</td>\n",
       "      <td>99999.000000</td>\n",
       "      <td>4356.000000</td>\n",
       "      <td>99.000000</td>\n",
       "    </tr>\n",
       "  </tbody>\n",
       "</table>\n",
       "</div>"
      ],
      "text/plain": [
       "                age         fnlwg  education-num  capital-gain   capital-los  \\\n",
       "count  32560.000000  3.256000e+04   32560.000000  32560.000000  32560.000000   \n",
       "mean      38.581634  1.897818e+05      10.080590   1077.615172     87.306511   \n",
       "std       13.640642  1.055498e+05       2.572709   7385.402999    402.966116   \n",
       "min       17.000000  1.228500e+04       1.000000      0.000000      0.000000   \n",
       "25%       28.000000  1.178315e+05       9.000000      0.000000      0.000000   \n",
       "50%       37.000000  1.783630e+05      10.000000      0.000000      0.000000   \n",
       "75%       48.000000  2.370545e+05      12.000000      0.000000      0.000000   \n",
       "max       90.000000  1.484705e+06      16.000000  99999.000000   4356.000000   \n",
       "\n",
       "       hours-per-week  \n",
       "count    32560.000000  \n",
       "mean        40.437469  \n",
       "std         12.347618  \n",
       "min          1.000000  \n",
       "25%         40.000000  \n",
       "50%         40.000000  \n",
       "75%         45.000000  \n",
       "max         99.000000  "
      ]
     },
     "execution_count": 57,
     "metadata": {},
     "output_type": "execute_result"
    }
   ],
   "source": [
    "df.describe()"
   ]
  },
  {
   "cell_type": "code",
   "execution_count": 58,
   "metadata": {},
   "outputs": [
    {
     "data": {
      "text/plain": [
       "age               0\n",
       "workclass         0\n",
       "fnlwg             0\n",
       "education         0\n",
       "education-num     0\n",
       "marital-status    0\n",
       "occupation        0\n",
       "relationship      0\n",
       "race              0\n",
       "sex               0\n",
       "capital-gain      0\n",
       "capital-los       0\n",
       "hours-per-week    0\n",
       "native-country    0\n",
       "income            0\n",
       "dtype: int64"
      ]
     },
     "execution_count": 58,
     "metadata": {},
     "output_type": "execute_result"
    }
   ],
   "source": [
    "df.isna().sum()"
   ]
  },
  {
   "cell_type": "code",
   "execution_count": 59,
   "metadata": {},
   "outputs": [
    {
     "data": {
      "text/plain": [
       "24"
      ]
     },
     "execution_count": 59,
     "metadata": {},
     "output_type": "execute_result"
    }
   ],
   "source": [
    "df.duplicated().sum()"
   ]
  },
  {
   "cell_type": "code",
   "execution_count": 60,
   "metadata": {},
   "outputs": [],
   "source": [
    "df = df.drop_duplicates(keep='last')\n"
   ]
  },
  {
   "cell_type": "markdown",
   "metadata": {},
   "source": []
  },
  {
   "cell_type": "code",
   "execution_count": 61,
   "metadata": {},
   "outputs": [
    {
     "data": {
      "text/plain": [
       "0"
      ]
     },
     "execution_count": 61,
     "metadata": {},
     "output_type": "execute_result"
    }
   ],
   "source": [
    "df.duplicated().sum()"
   ]
  },
  {
   "cell_type": "code",
   "execution_count": 62,
   "metadata": {},
   "outputs": [
    {
     "name": "stdout",
     "output_type": "stream",
     "text": [
      "Index(['age', 'workclass', 'fnlwg', 'education', 'education-num',\n",
      "       'marital-status', 'occupation', 'relationship', 'race', 'sex',\n",
      "       'capital-gain', 'capital-los', 'hours-per-week', 'native-country',\n",
      "       'income'],\n",
      "      dtype='object')\n",
      "age                int64\n",
      "workclass         object\n",
      "fnlwg              int64\n",
      "education         object\n",
      "education-num      int64\n",
      "marital-status    object\n",
      "occupation        object\n",
      "relationship      object\n",
      "race              object\n",
      "sex               object\n",
      "capital-gain       int64\n",
      "capital-los        int64\n",
      "hours-per-week     int64\n",
      "native-country    object\n",
      "income            object\n",
      "dtype: object\n"
     ]
    }
   ],
   "source": [
    "columns = df.columns\n",
    "types = df.dtypes\n",
    "print(columns)\n",
    "print(types)"
   ]
  },
  {
   "cell_type": "code",
   "execution_count": 63,
   "metadata": {},
   "outputs": [
    {
     "data": {
      "text/plain": [
       "<Axes: xlabel='income'>"
      ]
     },
     "execution_count": 63,
     "metadata": {},
     "output_type": "execute_result"
    },
    {
     "data": {
      "image/png": "[encoded data removed]",
      "text/plain": [
       "<Figure size 640x480 with 1 Axes>"
      ]
     },
     "metadata": {},
     "output_type": "display_data"
    }
   ],
   "source": [
    "g = df[columns[-1]].value_counts()\n",
    "g.plot.bar()"
   ]
  },
  {
   "cell_type": "code",
   "execution_count": 64,
   "metadata": {},
   "outputs": [
    {
     "name": "stdout",
     "output_type": "stream",
     "text": [
      "individuals making more than $50,000: 7839\n",
      "individuals making at most $50,000:  24697\n"
     ]
    }
   ],
   "source": [
    "print('individuals making more than $50,000:', df[df['income'] == '>50K'].shape[0])\n",
    "print('individuals making at most $50,000: ', df[df['income'] =='<=50K'].shape[0])\n"
   ]
  },
  {
   "cell_type": "code",
   "execution_count": 65,
   "metadata": {},
   "outputs": [
    {
     "name": "stderr",
     "output_type": "stream",
     "text": [
      "C:\\Users\\ASUS\\AppData\\Local\\Temp\\ipykernel_11744\\2823964782.py:4: FutureWarning: Series.__getitem__ treating keys as positions is deprecated. In a future version, integer keys will always be treated as labels (consistent with DataFrame behavior). To access a value by position, use `ser.iloc[pos]`\n",
      "  if types[i]=='object':\n",
      "C:\\Users\\ASUS\\AppData\\Local\\Temp\\ipykernel_11744\\2823964782.py:4: FutureWarning: Series.__getitem__ treating keys as positions is deprecated. In a future version, integer keys will always be treated as labels (consistent with DataFrame behavior). To access a value by position, use `ser.iloc[pos]`\n",
      "  if types[i]=='object':\n",
      "C:\\Users\\ASUS\\AppData\\Local\\Temp\\ipykernel_11744\\2823964782.py:4: FutureWarning: Series.__getitem__ treating keys as positions is deprecated. In a future version, integer keys will always be treated as labels (consistent with DataFrame behavior). To access a value by position, use `ser.iloc[pos]`\n",
      "  if types[i]=='object':\n",
      "C:\\Users\\ASUS\\AppData\\Local\\Temp\\ipykernel_11744\\2823964782.py:4: FutureWarning: Series.__getitem__ treating keys as positions is deprecated. In a future version, integer keys will always be treated as labels (consistent with DataFrame behavior). To access a value by position, use `ser.iloc[pos]`\n",
      "  if types[i]=='object':\n",
      "C:\\Users\\ASUS\\AppData\\Local\\Temp\\ipykernel_11744\\2823964782.py:4: FutureWarning: Series.__getitem__ treating keys as positions is deprecated. In a future version, integer keys will always be treated as labels (consistent with DataFrame behavior). To access a value by position, use `ser.iloc[pos]`\n",
      "  if types[i]=='object':\n",
      "C:\\Users\\ASUS\\AppData\\Local\\Temp\\ipykernel_11744\\2823964782.py:4: FutureWarning: Series.__getitem__ treating keys as positions is deprecated. In a future version, integer keys will always be treated as labels (consistent with DataFrame behavior). To access a value by position, use `ser.iloc[pos]`\n",
      "  if types[i]=='object':\n",
      "C:\\Users\\ASUS\\AppData\\Local\\Temp\\ipykernel_11744\\2823964782.py:4: FutureWarning: Series.__getitem__ treating keys as positions is deprecated. In a future version, integer keys will always be treated as labels (consistent with DataFrame behavior). To access a value by position, use `ser.iloc[pos]`\n",
      "  if types[i]=='object':\n",
      "C:\\Users\\ASUS\\AppData\\Local\\Temp\\ipykernel_11744\\2823964782.py:4: FutureWarning: Series.__getitem__ treating keys as positions is deprecated. In a future version, integer keys will always be treated as labels (consistent with DataFrame behavior). To access a value by position, use `ser.iloc[pos]`\n",
      "  if types[i]=='object':\n",
      "C:\\Users\\ASUS\\AppData\\Local\\Temp\\ipykernel_11744\\2823964782.py:4: FutureWarning: Series.__getitem__ treating keys as positions is deprecated. In a future version, integer keys will always be treated as labels (consistent with DataFrame behavior). To access a value by position, use `ser.iloc[pos]`\n",
      "  if types[i]=='object':\n"
     ]
    },
    {
     "data": {
      "text/html": [
       "<div>\n",
       "<style scoped>\n",
       "    .dataframe tbody tr th:only-of-type {\n",
       "        vertical-align: middle;\n",
       "    }\n",
       "\n",
       "    .dataframe tbody tr th {\n",
       "        vertical-align: top;\n",
       "    }\n",
       "\n",
       "    .dataframe thead th {\n",
       "        text-align: right;\n",
       "    }\n",
       "</style>\n",
       "<table border=\"1\" class=\"dataframe\">\n",
       "  <thead>\n",
       "    <tr style=\"text-align: right;\">\n",
       "      <th></th>\n",
       "      <th>age</th>\n",
       "      <th>workclass</th>\n",
       "      <th>fnlwg</th>\n",
       "      <th>education</th>\n",
       "      <th>education-num</th>\n",
       "      <th>marital-status</th>\n",
       "      <th>occupation</th>\n",
       "      <th>relationship</th>\n",
       "      <th>race</th>\n",
       "      <th>sex</th>\n",
       "      <th>capital-gain</th>\n",
       "      <th>capital-los</th>\n",
       "      <th>hours-per-week</th>\n",
       "      <th>native-country</th>\n",
       "      <th>income</th>\n",
       "    </tr>\n",
       "  </thead>\n",
       "  <tbody>\n",
       "    <tr>\n",
       "      <th>0</th>\n",
       "      <td>50</td>\n",
       "      <td>6</td>\n",
       "      <td>83311</td>\n",
       "      <td>9</td>\n",
       "      <td>13</td>\n",
       "      <td>2</td>\n",
       "      <td>4</td>\n",
       "      <td>0</td>\n",
       "      <td>4</td>\n",
       "      <td>1</td>\n",
       "      <td>0</td>\n",
       "      <td>0</td>\n",
       "      <td>13</td>\n",
       "      <td>39</td>\n",
       "      <td>0</td>\n",
       "    </tr>\n",
       "    <tr>\n",
       "      <th>1</th>\n",
       "      <td>38</td>\n",
       "      <td>4</td>\n",
       "      <td>215646</td>\n",
       "      <td>11</td>\n",
       "      <td>9</td>\n",
       "      <td>0</td>\n",
       "      <td>6</td>\n",
       "      <td>1</td>\n",
       "      <td>4</td>\n",
       "      <td>1</td>\n",
       "      <td>0</td>\n",
       "      <td>0</td>\n",
       "      <td>40</td>\n",
       "      <td>39</td>\n",
       "      <td>0</td>\n",
       "    </tr>\n",
       "    <tr>\n",
       "      <th>2</th>\n",
       "      <td>53</td>\n",
       "      <td>4</td>\n",
       "      <td>234721</td>\n",
       "      <td>1</td>\n",
       "      <td>7</td>\n",
       "      <td>2</td>\n",
       "      <td>6</td>\n",
       "      <td>0</td>\n",
       "      <td>2</td>\n",
       "      <td>1</td>\n",
       "      <td>0</td>\n",
       "      <td>0</td>\n",
       "      <td>40</td>\n",
       "      <td>39</td>\n",
       "      <td>0</td>\n",
       "    </tr>\n",
       "    <tr>\n",
       "      <th>3</th>\n",
       "      <td>28</td>\n",
       "      <td>4</td>\n",
       "      <td>338409</td>\n",
       "      <td>9</td>\n",
       "      <td>13</td>\n",
       "      <td>2</td>\n",
       "      <td>10</td>\n",
       "      <td>5</td>\n",
       "      <td>2</td>\n",
       "      <td>0</td>\n",
       "      <td>0</td>\n",
       "      <td>0</td>\n",
       "      <td>40</td>\n",
       "      <td>5</td>\n",
       "      <td>0</td>\n",
       "    </tr>\n",
       "    <tr>\n",
       "      <th>4</th>\n",
       "      <td>37</td>\n",
       "      <td>4</td>\n",
       "      <td>284582</td>\n",
       "      <td>12</td>\n",
       "      <td>14</td>\n",
       "      <td>2</td>\n",
       "      <td>4</td>\n",
       "      <td>5</td>\n",
       "      <td>4</td>\n",
       "      <td>0</td>\n",
       "      <td>0</td>\n",
       "      <td>0</td>\n",
       "      <td>40</td>\n",
       "      <td>39</td>\n",
       "      <td>0</td>\n",
       "    </tr>\n",
       "    <tr>\n",
       "      <th>...</th>\n",
       "      <td>...</td>\n",
       "      <td>...</td>\n",
       "      <td>...</td>\n",
       "      <td>...</td>\n",
       "      <td>...</td>\n",
       "      <td>...</td>\n",
       "      <td>...</td>\n",
       "      <td>...</td>\n",
       "      <td>...</td>\n",
       "      <td>...</td>\n",
       "      <td>...</td>\n",
       "      <td>...</td>\n",
       "      <td>...</td>\n",
       "      <td>...</td>\n",
       "      <td>...</td>\n",
       "    </tr>\n",
       "    <tr>\n",
       "      <th>32555</th>\n",
       "      <td>27</td>\n",
       "      <td>4</td>\n",
       "      <td>257302</td>\n",
       "      <td>7</td>\n",
       "      <td>12</td>\n",
       "      <td>2</td>\n",
       "      <td>13</td>\n",
       "      <td>5</td>\n",
       "      <td>4</td>\n",
       "      <td>0</td>\n",
       "      <td>0</td>\n",
       "      <td>0</td>\n",
       "      <td>38</td>\n",
       "      <td>39</td>\n",
       "      <td>0</td>\n",
       "    </tr>\n",
       "    <tr>\n",
       "      <th>32556</th>\n",
       "      <td>40</td>\n",
       "      <td>4</td>\n",
       "      <td>154374</td>\n",
       "      <td>11</td>\n",
       "      <td>9</td>\n",
       "      <td>2</td>\n",
       "      <td>7</td>\n",
       "      <td>0</td>\n",
       "      <td>4</td>\n",
       "      <td>1</td>\n",
       "      <td>0</td>\n",
       "      <td>0</td>\n",
       "      <td>40</td>\n",
       "      <td>39</td>\n",
       "      <td>1</td>\n",
       "    </tr>\n",
       "    <tr>\n",
       "      <th>32557</th>\n",
       "      <td>58</td>\n",
       "      <td>4</td>\n",
       "      <td>151910</td>\n",
       "      <td>11</td>\n",
       "      <td>9</td>\n",
       "      <td>6</td>\n",
       "      <td>1</td>\n",
       "      <td>4</td>\n",
       "      <td>4</td>\n",
       "      <td>0</td>\n",
       "      <td>0</td>\n",
       "      <td>0</td>\n",
       "      <td>40</td>\n",
       "      <td>39</td>\n",
       "      <td>0</td>\n",
       "    </tr>\n",
       "    <tr>\n",
       "      <th>32558</th>\n",
       "      <td>22</td>\n",
       "      <td>4</td>\n",
       "      <td>201490</td>\n",
       "      <td>11</td>\n",
       "      <td>9</td>\n",
       "      <td>4</td>\n",
       "      <td>1</td>\n",
       "      <td>3</td>\n",
       "      <td>4</td>\n",
       "      <td>1</td>\n",
       "      <td>0</td>\n",
       "      <td>0</td>\n",
       "      <td>20</td>\n",
       "      <td>39</td>\n",
       "      <td>0</td>\n",
       "    </tr>\n",
       "    <tr>\n",
       "      <th>32559</th>\n",
       "      <td>52</td>\n",
       "      <td>5</td>\n",
       "      <td>287927</td>\n",
       "      <td>11</td>\n",
       "      <td>9</td>\n",
       "      <td>2</td>\n",
       "      <td>4</td>\n",
       "      <td>5</td>\n",
       "      <td>4</td>\n",
       "      <td>0</td>\n",
       "      <td>15024</td>\n",
       "      <td>0</td>\n",
       "      <td>40</td>\n",
       "      <td>39</td>\n",
       "      <td>1</td>\n",
       "    </tr>\n",
       "  </tbody>\n",
       "</table>\n",
       "<p>32536 rows × 15 columns</p>\n",
       "</div>"
      ],
      "text/plain": [
       "       age  workclass   fnlwg  education  education-num  marital-status  \\\n",
       "0       50          6   83311          9             13               2   \n",
       "1       38          4  215646         11              9               0   \n",
       "2       53          4  234721          1              7               2   \n",
       "3       28          4  338409          9             13               2   \n",
       "4       37          4  284582         12             14               2   \n",
       "...    ...        ...     ...        ...            ...             ...   \n",
       "32555   27          4  257302          7             12               2   \n",
       "32556   40          4  154374         11              9               2   \n",
       "32557   58          4  151910         11              9               6   \n",
       "32558   22          4  201490         11              9               4   \n",
       "32559   52          5  287927         11              9               2   \n",
       "\n",
       "       occupation  relationship  race  sex  capital-gain  capital-los  \\\n",
       "0               4             0     4    1             0            0   \n",
       "1               6             1     4    1             0            0   \n",
       "2               6             0     2    1             0            0   \n",
       "3              10             5     2    0             0            0   \n",
       "4               4             5     4    0             0            0   \n",
       "...           ...           ...   ...  ...           ...          ...   \n",
       "32555          13             5     4    0             0            0   \n",
       "32556           7             0     4    1             0            0   \n",
       "32557           1             4     4    0             0            0   \n",
       "32558           1             3     4    1             0            0   \n",
       "32559           4             5     4    0         15024            0   \n",
       "\n",
       "       hours-per-week  native-country  income  \n",
       "0                  13              39       0  \n",
       "1                  40              39       0  \n",
       "2                  40              39       0  \n",
       "3                  40               5       0  \n",
       "4                  40              39       0  \n",
       "...               ...             ...     ...  \n",
       "32555              38              39       0  \n",
       "32556              40              39       1  \n",
       "32557              40              39       0  \n",
       "32558              20              39       0  \n",
       "32559              40              39       1  \n",
       "\n",
       "[32536 rows x 15 columns]"
      ]
     },
     "execution_count": 65,
     "metadata": {},
     "output_type": "execute_result"
    }
   ],
   "source": [
    "from sklearn.preprocessing import LabelEncoder \n",
    "le = LabelEncoder()\n",
    "for i in range(len(types)):\n",
    "  if types[i]=='object': \n",
    "    le.fit_transform(df[columns[i]])\n",
    "    df[columns[i]] = le.transform(df[columns[i]])\n",
    "df"
   ]
  },
  {
   "cell_type": "code",
   "execution_count": 66,
   "metadata": {},
   "outputs": [
    {
     "name": "stdout",
     "output_type": "stream",
     "text": [
      "[[    50      6  83311      9     13      2      4      0      4      1\n",
      "       0      0     13     39      0]\n",
      " [    38      4 215646     11      9      0      6      1      4      1\n",
      "       0      0     40     39      0]]\n"
     ]
    }
   ],
   "source": [
    "data = df.values\n",
    "print(data[:2])"
   ]
  },
  {
   "cell_type": "code",
   "execution_count": 67,
   "metadata": {},
   "outputs": [
    {
     "name": "stdout",
     "output_type": "stream",
     "text": [
      "(32536, 14)\n",
      "(32536,)\n"
     ]
    }
   ],
   "source": [
    "X = data[:,:-1]\n",
    "y = data[:,-1]\n",
    "print(X.shape)\n",
    "print(y.shape)"
   ]
  },
  {
   "cell_type": "code",
   "execution_count": 68,
   "metadata": {},
   "outputs": [
    {
     "name": "stdout",
     "output_type": "stream",
     "text": [
      "[0.45205479 0.75       0.0482376  0.6        0.8        0.33333333\n",
      " 0.28571429 0.         1.         1.         0.         0.\n",
      " 0.12244898 0.95121951]\n"
     ]
    }
   ],
   "source": [
    "from sklearn.preprocessing import MinMaxScaler\n",
    "scaler = MinMaxScaler()\n",
    "scaler.fit(X)\n",
    "X_scaled = scaler.transform(X)\n",
    "print(X_scaled[0])"
   ]
  }
 ],
 "metadata": {
  "kernelspec": {
   "display_name": "Python 3",
   "language": "python",
   "name": "python3"
  },
  "language_info": {
   "codemirror_mode": {
    "name": "ipython",
    "version": 3
   },
   "file_extension": ".py",
   "mimetype": "text/x-python",
   "name": "python",
   "nbconvert_exporter": "python",
   "pygments_lexer": "ipython3",
   "version": "3.10.11"
  }
 },
 "nbformat": 4,
 "nbformat_minor": 2
}
