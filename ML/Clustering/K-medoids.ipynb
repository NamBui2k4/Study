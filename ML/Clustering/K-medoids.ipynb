{
 "cells": [
  {
   "cell_type": "code",
   "execution_count": null,
   "metadata": {},
   "outputs": [],
   "source": [
    "%pip install scikit-learn-extra"
   ]
  },
  {
   "cell_type": "code",
   "execution_count": 1,
   "metadata": {},
   "outputs": [
    {
     "ename": "NameError",
     "evalue": "name 'x' is not defined",
     "output_type": "error",
     "traceback": [
      "\u001b[1;31m---------------------------------------------------------------------------\u001b[0m",
      "\u001b[1;31mNameError\u001b[0m                                 Traceback (most recent call last)",
      "Cell \u001b[1;32mIn[1], line 3\u001b[0m\n\u001b[0;32m      1\u001b[0m \u001b[38;5;28;01mfrom\u001b[39;00m \u001b[38;5;21;01msklearn_extra\u001b[39;00m\u001b[38;5;21;01m.\u001b[39;00m\u001b[38;5;21;01mcluster\u001b[39;00m \u001b[38;5;28;01mimport\u001b[39;00m KMedoids\n\u001b[0;32m      2\u001b[0m kmedoids \u001b[38;5;241m=\u001b[39m KMedoids(n_clusters\u001b[38;5;241m=\u001b[39m\u001b[38;5;241m3\u001b[39m, random_state\u001b[38;5;241m=\u001b[39m\u001b[38;5;241m0\u001b[39m)\n\u001b[1;32m----> 3\u001b[0m kmedoids\u001b[38;5;241m.\u001b[39mfit(\u001b[43mx\u001b[49m)\n\u001b[0;32m      4\u001b[0m center \u001b[38;5;241m=\u001b[39m kmedoids\u001b[38;5;241m.\u001b[39mcluster_centers_\n\u001b[0;32m      5\u001b[0m \u001b[38;5;28mprint\u001b[39m(center)\n",
      "\u001b[1;31mNameError\u001b[0m: name 'x' is not defined"
     ]
    }
   ],
   "source": [
    "from sklearn_extra.cluster import KMedoids\n",
    "kmedoids = KMedoids(n_clusters=3, random_state=0)\n",
    "kmedoids.fit(x)\n",
    "center = kmedoids.cluster_centers_\n",
    "print(center)\n",
    "labels = kmeans.predict(x)\n",
    "\n",
    "plt.plot(x.T[0]+0.01, x.T[1]+0.03, 'bx')\n",
    "plt.plot(center.T[0],center.T[1],'ro')\n",
    "plt.xlabel('X1')\n",
    "plt.ylabel('X2')\n",
    "plt.show()\n"
   ]
  }
 ],
 "metadata": {
  "kernelspec": {
   "display_name": "Python 3",
   "language": "python",
   "name": "python3"
  },
  "language_info": {
   "codemirror_mode": {
    "name": "ipython",
    "version": 3
   },
   "file_extension": ".py",
   "mimetype": "text/x-python",
   "name": "python",
   "nbconvert_exporter": "python",
   "pygments_lexer": "ipython3",
   "version": "3.10.11"
  }
 },
 "nbformat": 4,
 "nbformat_minor": 2
}
