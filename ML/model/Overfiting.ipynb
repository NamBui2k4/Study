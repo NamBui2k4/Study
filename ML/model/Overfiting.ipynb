{
 "cells": [
  {
   "cell_type": "markdown",
   "metadata": {},
   "source": [
    "Bài viết được kham khảo từ nguồn: [amazon](https://aws.amazon.com/vi/what-is/overfitting/)"
   ]
  },
  {
   "cell_type": "markdown",
   "metadata": {},
   "source": [
    "# Overfitting là gì?\n",
    "\n",
    "Overfitting là một hành vi học máy không mong muốn xảy ra khi mô hình học máy đưa ra dự đoán chính xác cho dữ liệu đào tạo nhưng không cho dữ liệu mới. \n",
    "\n",
    "Khi các nhà khoa học sử dụng các mô hình học máy để đưa ra dự đoán, trước tiên họ đào tạo mô hình trên một tập dữ liệu đã biết. Sau đó, dựa trên thông tin này, mô hình cố gắng dự đoán kết quả cho các tập dữ liệu mới. Một mô hình overfit có thể đưa ra dự đoán không chính xác và không thể thực hiện tốt cho tất cả các loại dữ liệu mới.\n",
    "\n"
   ]
  },
  {
   "cell_type": "markdown",
   "metadata": {},
   "source": [
    "# Tại sao hiện tượng quá khớp lại xảy ra?\n",
    "\n",
    "•    Kích thước dữ liệu đào tạo quá nhỏ và không chứa đủ mẫu dữ liệu để thể hiện chính xác tất cả các giá trị dữ liệu đầu vào khả thi.\n",
    "\n",
    "•    Dữ liệu đào tạo chứa một lượng lớn thông tin không liên quan, được gọi là dữ liệu nhiễu.\n",
    "\n",
    "•    Mô hình đào tạo quá lâu trên một tập dữ liệu mẫu duy nhất.\n",
    "\n",
    "•    Do có độ phức tạp cao, mô hình học cả phần nhiễu trong dữ liệu đào tạo."
   ]
  },
  {
   "cell_type": "markdown",
   "metadata": {},
   "source": [
    "# Dấu hiệu của overfitting:\n",
    "\n",
    "- Độ chính xác cao trên tập dữ liệu đào tạo, nhưng thấp trên tập dữ liệu kiểm tra\n",
    "- Mô hình học được những nhiễu và đặc điểm riêng lẻ của tập dữ liệu đào tạo, thay vì học được những mối quan hệ chính\n",
    "- Mô hình phức tạp với nhiều tham số"
   ]
  },
  {
   "cell_type": "markdown",
   "metadata": {},
   "source": [
    "# Ví dụ\n",
    "1. Phân loại ảnh mèo và chó:\n",
    "\n",
    "Giả sử bạn có 100 bức ảnh mèo và 100 bức ảnh chó. Bạn muốn xây dựng một mô hình để phân loại ảnh mèo và chó.\n",
    "\n",
    "Nếu được đào tạo trên một tập dữ liệu chứa đa số những bức ảnh về chó và mèo ở ngoài công viên, mô hình ML có thể sẽ học cách sử dụng cỏ để phân loại nhưng lại không nhận ra một chú chó ở trong phòng."
   ]
  },
  {
   "cell_type": "markdown",
   "metadata": {},
   "source": [
    "# Làm thế nào để phát hiện hiện tượng quá khớp?\n",
    "\n",
    "Phương thức tốt nhất để phát hiện mô hình quá khớp là kiểm thử các mô hình máy học bằng nhiều dữ liệu đại diện cho tất cả các giá trị và loại dữ liệu đầu vào khả thi. Thông thường, một phần dữ liệu đào tạo được sử dụng làm dữ liệu kiểm thử để kiểm tra hiện tượng quá khớp. Tỷ lệ lỗi cao trong dữ liệu kiểm thử là dấu hiệu cho thấy hiện tượng quá khớp. \n",
    "\n",
    "Phương pháp giải quyết: *Xác thực chéo K lần*\n",
    "\n",
    "Xác thực chéo là một trong những phương thức kiểm thử được sử dụng trong thực tế. Trong phương pháp này, người ta sẽ chia dataset thành K tập con hoặc tập mẫu có kích thước bằng nhau, được gọi là nhóm. Quá trình đào tạo bao gồm một chuỗi các lần lặp. Các bước trong mỗi lần lặp như sau:\n",
    "\n",
    "1.    Giữ một tập con làm dữ liệu xác thực và đào tạo mô hình máy học trên K-1 tập con còn lại.\n",
    "2.    Quan sát cách mô hình hoạt động với mẫu xác thực.\n",
    "3.    Đánh giá hiệu năng của mô hình dựa trên chất lượng dữ liệu đầu ra."
   ]
  },
  {
   "cell_type": "markdown",
   "metadata": {},
   "source": [
    "# Kết luận:\n",
    "\n",
    "Overfitting là một vấn đề phổ biến trong học máy. Để tránh overfitting, bạn nên sử dụng các kỹ thuật như:\n",
    "\n",
    "- Tăng lượng dữ liệu đào tạo\n",
    "- Giảm độ phức tạp của mô hình\n",
    "- Sử dụng các kỹ thuật regularization\n",
    "- Sử dụng cross-validation để đánh giá hiệu quả mô hình"
   ]
  },
  {
   "cell_type": "markdown",
   "metadata": {},
   "source": []
  }
 ],
 "metadata": {
  "language_info": {
   "name": "python"
  }
 },
 "nbformat": 4,
 "nbformat_minor": 2
}
