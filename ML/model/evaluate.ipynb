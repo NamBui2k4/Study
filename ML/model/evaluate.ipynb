{
 "cells": [
  {
   "cell_type": "markdown",
   "metadata": {},
   "source": [
    "Bài viết này được kham khảo từ nguồn:\n",
    "\n",
    "- [aiclub](http://tutorials.aiclub.cs.uit.edu.vn/index.php/2021/05/18/evaluation/)\n",
    "- [websitehcm](https://websitehcm.com/confusion-matrix-la-gi-cac-yeu-to-quan-trong/)"
   ]
  },
  {
   "cell_type": "markdown",
   "metadata": {},
   "source": [
    "# Evaluation - đánh giá mô hình học máy\n",
    "\n",
    "Trong machine learning, ngoài việc mô hình đã được huấn luyện xong, chúng ta thường hay đặt ra những câu hỏi sau:\n",
    "\n",
    "- Mô hình đã được huấn luyện thành công hay chưa?\n",
    "- Mức độ thành công của mô hình tốt đến đâu?\n",
    "- Khi nào nên dừng quá trình huấn luyện?\n",
    "- Khi nào nên cập nhật mô hình?\n",
    "\n",
    "   *“One algorithm isn’t the best across all data sets or for all use cases. To find the best solution, you need to conduct many experiments, evaluate machine learning algorithms, and tune their hyperparameters.” – Jerome Boyer (IBM, Distinguished Engineer)*\n",
    "\n",
    "   *Tạm dịch: “Không có thuật toán nào là tốt nhất trên tất cả các tập dữ liệu hoặc cho mọi trường hợp sử dụng. Để tìm ra giải pháp tốt nhất, hãy tiến hành nhiều thử nghiệm, đánh giá các thuật toán học máy và điều chỉnh các siêu tham số của chúng.” – Jerome Boye (một Kỹ sư xuất sắc của IBM)*"
   ]
  },
  {
   "cell_type": "markdown",
   "metadata": {},
   "source": [
    "Như vậy, không phải chỉ cần train model là đã xong việc mà còn phải đánh giá độ hiệu quả của nó\n",
    "\n",
    "Việc đánh giá mô hình thường được thực hiện trên dữ liệu mà mô hình chưa từng được học – trên validation set và test set \n",
    "\n",
    "Tùy vào những  bài toán khác nhau mà sẽ có những tiêu chí đánh giá khác nhau"
   ]
  },
  {
   "cell_type": "markdown",
   "metadata": {},
   "source": [
    "# Các khái niệm, độ đo khi đánh giá mô hình"
   ]
  },
  {
   "cell_type": "markdown",
   "metadata": {},
   "source": [
    "## Accuracy\n",
    "\n",
    "Accuracy (độ chính xác) chỉ đơn giản đánh giá mô hình thường xuyên dự đoán đúng đến mức nào. Độ chính xác là tỉ lệ giữa số điểm dữ liệu được dự đoán đúng và tổng số điểm dữ liệu.\n",
    "\n",
    "$$ accuracy = \\frac{\\text{total data points}}{\\text{correct predictions}}$$\n",
    "​\n",
    "Tuy nhiên, một mô hình có độ chính xác cao chưa hẳn đã tốt. Accuracy lộ rõ hạn chế khi được sử dụng trên bộ dữ liệu không cân bằng (imbalanced dataset). Chúng ta có một ví dụ sau:\n",
    "\n",
    "Một ngân hàng muốn phát triển hệ thống phát hiện các giao dịch bất thường. Ngân hàng có thể cung cấp cho bạn bộ dataset gồm 1.000.000 giao dịch, trong đó có 1000 giao dịch bất thường. Dễ dàng thấy rằng, chỉ cần mô hình luôn dự đoán mọi giao dịch đều bình thường thì mô hình đã có độ chính xác 99.9%. Tuy nhiên, trên thực tế mô hình của bạn không thể phát hiện được các giao dịch bất thường. Ở đây, tập dữ liệu của chúng ta đang bị mất cân bằng (imbalance), nên việc dựa vào độ chính xác để đánh giá mô hình không mang lại nhiều kết quả tích cực.\n",
    "\n",
    "## Confusion Matrix - ma trận hỗn loạn\n",
    "\n",
    "Nhược điểm của Accuracy là chỉ cho ta biết độ chính xác của mô hình, nhưng không cho biết mô hình đang dự đoán sai như thế nào, vì vậy chúng ta cần một phương pháp đánh giá khác – Confusion Matrix. \n",
    "\n",
    "Confusion Matrix là Đồ thị trực quan của 2 yếu tố Thực tế và Dự đoán. Nó đo lường hiệu suất của mô hình Classification techniques Machine Learning và trông giống như một cấu trúc giống bảng.\n",
    "\n",
    "Đối với bài toán phân loại, chúng ta thường quan tâm đối tượng cần phân loại có thuộc lớp X, hay có thuộc tính X hay không. Ví dụ, với bài toán phân loại thư rác, ta quan tâm một email có phải là thư rác hay không, tức X = spam. Chúng ta gọi lớp X là Positive class, lớp còn lại là Negative class.\n",
    "\n",
    "- True Positive (TP): đối tượng thuộc lớp Positive, mô hình dự đoán là Positive (dự đoán đúng)\n",
    "- True Negative (TN): đối tượng thuộc lớp Negative, mô hình dự đoán là Negative (dự đoán đúng)\n",
    "- False Positive (FP): đối tượng thuộc lớp Negative, mô hình đự đoán là Positive (dự đoán sai) – Type I Error\n",
    "- False Negative (FN): đối tượng thuộc lớp Positive, mô hình dự đoán Negative (dự đoán sai) \n",
    "\n",
    "![](https://websitehcm.com/wp-content/uploads/2021/12/image-6.png.webp)\n",
    "\n"
   ]
  },
  {
   "cell_type": "code",
   "execution_count": null,
   "metadata": {},
   "outputs": [],
   "source": []
  }
 ],
 "metadata": {
  "language_info": {
   "name": "python"
  }
 },
 "nbformat": 4,
 "nbformat_minor": 2
}
