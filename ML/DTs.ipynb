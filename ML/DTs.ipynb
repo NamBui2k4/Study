{
 "cells": [
  {
   "cell_type": "markdown",
   "metadata": {},
   "source": [
    "# Overview\n",
    "\n",
    "Decision Trees (DTs) are a non-parametric supervised learning method used for classification and regression. The goal is to create a model that predicts the value of a target variable by learning simple decision rules inferred from the data features. A tree can be seen as a piecewise constant approximation.\n",
    "\n",
    "Did you know that in everyday life, you are still using the Decision Tree method? For example, you go to the supermarket to buy milk for the whole family. The first question in your mind will be: How much milk do you need to buy?\n",
    "\n",
    "You will determine: If it is a weekday, your family will use 1 liter of milk, and on the weekend it will be 1.5 liters. Thus, based on the day, you will decide the amount of food to buy for your family.\n",
    "\n",
    "That is a form of binary decision tree.\n",
    "\n",
    "![](https://th.bing.com/th/id/OIP.3Pf0e9RloHsh_QkfYPTJVAHaF-?rs=1&pid=ImgDetMain)"
   ]
  },
  {
   "cell_type": "markdown",
   "metadata": {},
   "source": [
    "# Components in DTs\n",
    "\n",
    "\n",
    "• Nodes\n",
    "\n",
    "- Root Node (Age)\n",
    "- represents the starting point of the decision-making process\n",
    "- Example:\n",
    "\n",
    "    + Age is the initial factor considered.\n",
    "\n",
    "\n",
    "• Internal Nodes:\n",
    "\n",
    "- represent decision points or test conditions. Each internal node represents a question or condition to consider.\n",
    "- Example:\n",
    "\n",
    "    + there are 4 internal nodes.\n",
    "\n",
    "\n",
    "• Leaf Nodes:\n",
    "\n",
    "- the terminal nodes of the decision tree, represent the final\n",
    "outcome or decision.\n",
    "- Example:  \n",
    "  +  the leaf nodes indicate whether to approve the home loan\n",
    "\n",
    "application based on the combination of various conditions.\n",
    "\n",
    "\n",
    "\n",
    "• Branches\n",
    "\n",
    "• Branches originating from internal node represent possible\n",
    "outcomes or decisions based on the condition tested at that\n",
    "node."
   ]
  },
  {
   "cell_type": "code",
   "execution_count": null,
   "metadata": {},
   "outputs": [],
   "source": []
  },
  {
   "cell_type": "markdown",
   "metadata": {},
   "source": [
    "Reference: [trituenhantao.io](https://trituenhantao.io/kien-thuc/decision-tree/)"
   ]
  }
 ],
 "metadata": {
  "language_info": {
   "name": "python"
  }
 },
 "nbformat": 4,
 "nbformat_minor": 2
}
