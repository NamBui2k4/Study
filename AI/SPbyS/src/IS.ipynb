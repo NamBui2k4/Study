{
 "cells": [
  {
   "cell_type": "markdown",
   "metadata": {},
   "source": [
    "Source: [geeksforgeeks](https://www.geeksforgeeks.org/search-algorithms-in-ai/)"
   ]
  },
  {
   "cell_type": "markdown",
   "metadata": {},
   "source": [
    "# Informed Search Algorithms: \n",
    "\n",
    "Here, the algorithms have information on the goal state, which helps in more efficient searching. This information is obtained by something called a heuristic.\n",
    "\n",
    "In this section, we will discuss the following search algorithms. \n",
    "\n",
    "- Greedy Search\n",
    "- A* Tree Search\n",
    "- A* Graph Search"
   ]
  },
  {
   "cell_type": "markdown",
   "metadata": {},
   "source": [
    "Search Heuristics: In an informed search, a heuristic is a function that estimates how close a state is to the goal state. For example – Manhattan distance, Euclidean distance, etc. (Lesser the distance, closer the goal.) Different heuristics are used in different informed algorithms discussed below. "
   ]
  },
  {
   "cell_type": "markdown",
   "metadata": {},
   "source": [
    "## A* Tree Search\n",
    "\n",
    "A* Algorithm is basically an artificial intelligence problem used for the pathfinding (from point A to point B) and the Graph traversals. This algorithm is flexible and can be used in a wide range of contexts\n",
    "\n",
    "This algorithm was first published by Peter Hart, Nils Nilsson, and Bertram Raphael in 1968.\n",
    "\n",
    "### heuristic function\n",
    "\n",
    "In A*, if there are no answers to a problem, or the time required to find one is too great, a heuristic function is used to solve the problem.\n",
    "\n",
    "A heuristic is a function that determines how near a state is to the desired state. We can see this as the cost path from the current node to next one. However, this cost path is estimated, which means it is not accuracy in reality. The aim is to find a approximate answer, even if it is not ideal. \n",
    "\n",
    "Heuristics functions vary depending on the problem and must be tailored to match that particular challenge. \n",
    "\n",
    "### Basic concepts of A*\n",
    "\n",
    "From the current state, A* construct all paths using heuristic to find an optimal path as most as possible.\n",
    "\n",
    "A* always find that path if it exist.\n",
    "\n",
    "Consider x as the current state. The desired path with be evaluated by $f(x)$:\n",
    "\n",
    "$$  f(x) = h(x) + g(x)$$\n",
    "\n",
    "where:\n",
    "- $g(x)$: cost path from initial state to x\n",
    "- $h(x)$: heuristic of x. The less of h(x), the more priority of x\n",
    "- $f(x)$: evaluation function\n",
    "\n",
    "***p/s: Sometime, h(x) and g(x) have no mesurement unit in common. For ex, h(x) could be mesured as km, and the g(x) hours either. However, f(x) must unify them such as km/h***\n",
    "\n",
    "## The algorithm implementation\n",
    "\n",
    "Consider this graph\n",
    "\n",
    "![](https://resources.stdio.vn/content/article/5ef62e6e5ef9e26f89a5c8db/resources/res-1596863767-1596863767288.png)\n",
    "\n",
    "Data Structure:\n",
    "\n",
    "- `Open`: list of state  which is not yet explored.\n",
    "- `Close`: list of explored state\n",
    "- `Cost(x, y)`: cost path from x to next state\n",
    "- `g(p)`\n",
    "- `h(p)`\n",
    "- `f(p) = g(p) + h(p)`\n",
    "\n",
    "Step 1:\n",
    "\n",
    "Open: = {s}\n",
    "Close: = {}\n",
    "\n"
   ]
  },
  {
   "cell_type": "markdown",
   "metadata": {},
   "source": [
    "## Greedy Search:\n",
    "In greedy search, we expand the node closest to the goal node. The “closeness” is estimated by a heuristic h(x). \n",
    "\n",
    "Heuristic: A heuristic h is defined as h(x) = Estimate of distance of node x from the goal node. \n",
    "Lower the value of h(x), closer is the node from the goal. \n",
    "\n",
    "Strategy: Expand the node closest to the goal state, i.e. expand the node with a lower h value. \n",
    "\n",
    "Example: \n",
    "\n",
    "Question. Find the path from S to G using greedy search. The heuristic values h of each node below the name of the node. \n",
    "\n",
    "![](https://media.geeksforgeeks.org/wp-content/uploads/greedy-ques-e1547130916483.png)"
   ]
  },
  {
   "cell_type": "markdown",
   "metadata": {},
   "source": [
    "Solution. Starting from S, we can traverse to A(h=9) or D(h=5). We choose D, as it has the lower heuristic cost. Now from D, we can move to B(h=4) or E(h=3). We choose E with a lower heuristic cost. Finally, from E, we go to G(h=0). This entire traversal is shown in the search tree below, in blue"
   ]
  },
  {
   "cell_type": "markdown",
   "metadata": {},
   "source": [
    "![](https://media.geeksforgeeks.org/wp-content/uploads/greedy-ans-e1547132293499.png)"
   ]
  },
  {
   "cell_type": "markdown",
   "metadata": {},
   "source": [
    "Path:   S -> D -> E -> G \n",
    "\n",
    "- Advantage: Works well with informed search problems, with fewer steps to reach a goal. \n",
    "- Disadvantage: Can turn into unguided DFS in the worst case. "
   ]
  },
  {
   "cell_type": "code",
   "execution_count": null,
   "metadata": {},
   "outputs": [],
   "source": []
  }
 ],
 "metadata": {
  "language_info": {
   "name": "python"
  }
 },
 "nbformat": 4,
 "nbformat_minor": 2
}
