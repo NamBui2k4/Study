{
 "cells": [
  {
   "cell_type": "markdown",
   "metadata": {},
   "source": [
    "Source: [geeksforgeeks](https://www.geeksforgeeks.org/search-algorithms-in-ai/)"
   ]
  },
  {
   "cell_type": "markdown",
   "metadata": {},
   "source": [
    "# Informed Search Algorithms: \n",
    "\n",
    "Here, the algorithms have information on the goal state, which helps in more efficient searching. This information is obtained by something called a heuristic.\n",
    "\n",
    "In this section, we will discuss the following search algorithms. \n",
    "\n",
    "- Greedy Search\n",
    "- A* Tree Search\n",
    "- A* Graph Search"
   ]
  },
  {
   "cell_type": "markdown",
   "metadata": {},
   "source": [
    "Search Heuristics: In an informed search, a heuristic is a function that estimates how close a state is to the goal state. For example – Manhattan distance, Euclidean distance, etc. (Lesser the distance, closer the goal.) Different heuristics are used in different informed algorithms discussed below. "
   ]
  },
  {
   "cell_type": "markdown",
   "metadata": {},
   "source": [
    "## A* Search\n",
    "\n",
    "A* Algorithm is basically an artificial intelligence problem used for the pathfinding (from point A to point B) and the Graph traversals. This algorithm is flexible and can be used in a wide range of contexts\n",
    "\n",
    "This algorithm was first published by Peter Hart, Nils Nilsson, and Bertram Raphael in 1968.\n",
    "\n",
    "### heuristic function\n",
    "\n",
    "In A*, if there are no answers to a problem, or the time required to find one is too great, a heuristic function is used to solve the problem.\n",
    "\n",
    "A heuristic is a function that determines how near a state is to the desired state. We can see this as the cost path from the current node to next one. However, this cost path is estimated, which means it is not accuracy in reality. The aim is to find a approximate answer, even if it is not ideal. \n",
    "\n",
    "Consider n as the current state (not initial state). The desired path with be decided by evaluation function $f(n)$:\n",
    "\n",
    "$$  f(n) = h(n) + g(n)$$\n",
    "\n",
    "where:\n",
    "- $g(n)$: cost from initial state to n\n",
    "- $h(n)$: heuristic - the cost to get from 𝑛 to the goal. The less of h(n), the more priority of n \n",
    "- $f(n)$: evaluation function - estimated cost of the cheapest solution through 𝑛\n",
    "\n",
    "***p/s: Sometime, h(n) and g(n) have no mesurement unit in common. For ex, h(n) could be mesured as km, and the g(n) hours either. However, f(n) must unify them such as km/h***\n",
    "\n",
    "### Basic concepts of A*\n",
    "\n",
    "From the current state, A* construct all paths to others (except visited state) in graph \n",
    "with cost of infinity value \n",
    "\n",
    "In every visiting, one state will be chosen and the cost will be update. This cost will be added to heuristic function to get evaluation value.\n",
    "\n",
    "The algorithm uses this value to decide which state will be chosen in next visiting.  Heuristics functions vary depending on the problem and must be tailored to match that particular challenge. A* always find that path if it exist.\n",
    "\n",
    "Consider x as current state and . We have:\n",
    "\n",
    "- `Open`: list of states which are not yet explored.\n",
    "- `Close`: list of explored states\n",
    "\n",
    "From x, there are many states will be visited including (z, y, k). One of them will be chosen through the greatest value among f(y), f(z), f(k). If f(y) is the greates, then y is the most optimal state and will be chosen. We have:\n",
    "\n",
    "- `Cost(x, y)`: cost path from x to y\n",
    "- `g(x)`\n",
    "- `g(y) = g(x) + Cost(x, y)`\n",
    "- `h(y)`\n",
    "- `f(y) = g(y) + h(y)`\n",
    "- `parent[]`\n",
    "\n",
    "## Pseudo code\n",
    "\n",
    "**Step 1:**\n",
    "- Open = {x}\n",
    "- Close = {}\n",
    "\n",
    "**Step 2:**\n",
    "\n",
    "- `while Open !={}` :\n",
    "  +  choose the best state in Open (delete `x` in Open)\n",
    "  + if that state is output :\n",
    "    +  ⟶ Return\n",
    "  + Add that state (`x`) to Close (visited)\n",
    "  + Find its successors (including `y` )\n",
    "  + `if y in Open` : \n",
    "      + `if g(y) > g(x) + Cost(x, y)`\n",
    "          + `g(y) = g(x) + Cost(x, y)`, \n",
    "          + `f(y) = g(y) + h(y)` \n",
    "          + `parent[y] = x`\n",
    "  + `if y not in Open` :\n",
    "    + `g(y) = g(x) + Cost(x, y)`, \n",
    "    + `f(y) = g(y) + h(y)` \n",
    "    + `parent[y] = x` \n",
    "    + `Add y to Open`\n",
    "  + `if y in Close` :\n",
    "    + `if g(y) > g(x) + Cost(x, y)`, \n",
    "      + `remove y from Close`\n",
    "      + `Add y to Open`\n",
    "## Example\n",
    "\n",
    "Consider this graph\n",
    "\n",
    "![](https://resources.stdio.vn/content/article/5ef62e6e5ef9e26f89a5c8db/resources/res-1596863767-1596863767288.png)"
   ]
  },
  {
   "cell_type": "code",
   "execution_count": 29,
   "metadata": {},
   "outputs": [
    {
     "name": "stdout",
     "output_type": "stream",
     "text": [
      "Đường đi tối ưu: Không tìm được đường đi.\n"
     ]
    }
   ],
   "source": [
    "\n",
    "class Graph:\n",
    "    AL = []\n",
    "    \n",
    "    def __init__(self):\n",
    "        self.AL = []\n",
    "        \n",
    "    def add_edge(self,src, dest, cost,h):\n",
    "        self.AL.append([src, dest, cost, h])\n",
    "        \n",
    "    def __str__(self):\n",
    "        return '\\n'.join(map(str, self.AL))\n",
    "\n",
    "# initialize graph        \n",
    "graph = Graph()\n",
    "\n",
    "graph.add_edge('A', 'B', 1, 3)\n",
    "graph.add_edge('A', 'C', 2, 4)\n",
    "graph.add_edge('A', 'H', 7, 0)\n",
    "graph.add_edge('B', 'D', 4, 2)\n",
    "graph.add_edge('B', 'E', 6, 6)\n",
    "graph.add_edge('C', 'F', 3, 3)\n",
    "graph.add_edge('C', 'G', 2, 1)\n",
    "graph.add_edge('D', 'E', 7, 6)\n",
    "graph.add_edge('D', 'H', 5, 0)\n",
    "graph.add_edge('F', 'H', 1, 0)\n",
    "graph.add_edge('G', 'H', 2, 0)\n",
    "\n",
    "# # initialize start and goal\n",
    "start = 'A'\n",
    "goal = 'G'\n",
    "\n",
    "from collections import defaultdict\n",
    "\n",
    "# A*\n",
    "\n",
    "def A_star(graph, curr, goal):\n",
    "    # open and close\n",
    "    open = {curr}\n",
    "    close = {}\n",
    "    \n",
    "    # initialize cost path\n",
    "    cost = defaultdict(lambda: float('inf'))\n",
    "    cost[start] = 0\n",
    "    \n",
    "    while open !={}:\n",
    "        succesor = min(open, key= lambda x: cost[x])\n",
    "\n",
    "        if succesor == goal:\n",
    "            break\n",
    "        \n",
    "        open.remove(curr)\n",
    "        close.add(curr)\n",
    "        \n",
    "        "
   ]
  },
  {
   "cell_type": "markdown",
   "metadata": {},
   "source": [
    "## Greedy Search:\n",
    "In greedy search, we expand the node closest to the goal node. The “closeness” is estimated by a heuristic h(x). \n",
    "\n",
    "Heuristic: A heuristic h is defined as h(x) = Estimate of distance of node x from the goal node. \n",
    "Lower the value of h(x), closer is the node from the goal. \n",
    "\n",
    "Strategy: Expand the node closest to the goal state, i.e. expand the node with a lower h value. \n",
    "\n",
    "Example: \n",
    "\n",
    "Question. Find the path from S to G using greedy search. The heuristic values h of each node below the name of the node. \n",
    "\n",
    "![](https://media.geeksforgeeks.org/wp-content/uploads/greedy-ques-e1547130916483.png)"
   ]
  },
  {
   "cell_type": "markdown",
   "metadata": {},
   "source": [
    "Solution. Starting from S, we can traverse to A(h=9) or D(h=5). We choose D, as it has the lower heuristic cost. Now from D, we can move to B(h=4) or E(h=3). We choose E with a lower heuristic cost. Finally, from E, we go to G(h=0). This entire traversal is shown in the search tree below, in blue"
   ]
  },
  {
   "cell_type": "markdown",
   "metadata": {},
   "source": [
    "![](https://media.geeksforgeeks.org/wp-content/uploads/greedy-ans-e1547132293499.png)"
   ]
  },
  {
   "cell_type": "markdown",
   "metadata": {},
   "source": [
    "Path:   S -> D -> E -> G \n",
    "\n",
    "- Advantage: Works well with informed search problems, with fewer steps to reach a goal. \n",
    "- Disadvantage: Can turn into unguided DFS in the worst case. "
   ]
  },
  {
   "cell_type": "code",
   "execution_count": null,
   "metadata": {},
   "outputs": [],
   "source": []
  }
 ],
 "metadata": {
  "kernelspec": {
   "display_name": "Python 3",
   "language": "python",
   "name": "python3"
  },
  "language_info": {
   "codemirror_mode": {
    "name": "ipython",
    "version": 3
   },
   "file_extension": ".py",
   "mimetype": "text/x-python",
   "name": "python",
   "nbconvert_exporter": "python",
   "pygments_lexer": "ipython3",
   "version": "3.10.11"
  }
 },
 "nbformat": 4,
 "nbformat_minor": 2
}
