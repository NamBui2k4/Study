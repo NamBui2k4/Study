{
 "cells": [
  {
   "cell_type": "markdown",
   "metadata": {},
   "source": [
    "It is of the most common search strategies. It generally starts from the root node and examines the neighbor nodes and then moves to the next level. It uses First-in First-out (FIFO) strategy as it gives the shortest path to achieving the solution.\n",
    "\n",
    "BFS is used where the given problem is very small and space complexity is not considered.\n",
    "\n",
    "Now, consider the following tree."
   ]
  },
  {
   "cell_type": "markdown",
   "metadata": {},
   "source": [
    "![](https://editor.analyticsvidhya.com/uploads/79111e1.JPG)"
   ]
  },
  {
   "cell_type": "markdown",
   "metadata": {},
   "source": [
    "Here, let’s take node A as the start state and node F as the goal state.\n",
    "\n",
    "The BFS algorithm starts with the start state and then goes to the next level and visits the node until it reaches the goal state.\n",
    "\n",
    "In this example, it starts from A and then travel to the next level and visits B and C and then\n",
    "travel to the next level and visits D, E, F and G. Here, the goal state is defined as F. So, the traversal will stop at F."
   ]
  },
  {
   "cell_type": "markdown",
   "metadata": {},
   "source": [
    "![](https://editor.analyticsvidhya.com/uploads/54905e2.png)\n"
   ]
  },
  {
   "cell_type": "markdown",
   "metadata": {},
   "source": [
    "The path of traversal is:\n",
    "\n",
    "A —-> B —-> C —-> D —-> E —-> F\n",
    "\n",
    "Let’s implement the same in python programming."
   ]
  },
  {
   "cell_type": "code",
   "execution_count": null,
   "metadata": {},
   "outputs": [],
   "source": [
    "graph = {\n",
    " 'A' : ['B','C'],\n",
    " 'B' : ['D', 'E'],\n",
    " 'C' : ['F', 'G'],\n",
    " 'D' : [],\n",
    " 'E' : [],\n",
    " 'F' : [],\n",
    " 'G' : []\n",
    "}\n",
    "visited = [] \n",
    "queue = []\n",
    "goal = 'F'\n",
    "def bfs(visited, graph, node):\n",
    "    visited.append(node)\n",
    "    queue.append(node)\n",
    "    while queue:\n",
    "        s = queue.pop(0) \n",
    "        print (s, end = \"\\n\") \n",
    "        for neighbour in graph[s]:\n",
    "            if neighbour not in visited:\n",
    "                visited.append(neighbour)\n",
    "                queue.append(neighbour)\n",
    "                if goal in visited:\n",
    "                    break\n",
    "bfs(visited, graph, 'A')"
   ]
  }
 ],
 "metadata": {
  "kernelspec": {
   "display_name": "Python 3",
   "language": "python",
   "name": "python3"
  },
  "language_info": {
   "name": "python",
   "version": "3.10.11"
  }
 },
 "nbformat": 4,
 "nbformat_minor": 2
}
