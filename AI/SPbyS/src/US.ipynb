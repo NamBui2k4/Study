{
 "cells": [
  {
   "cell_type": "markdown",
   "metadata": {},
   "source": [
    "# Uninformed search algorithms\n",
    "\n",
    "The uninformed search algorithm does not have any domain knowledge such\n",
    "as closeness, location of the goal state, etc. it behaves in a brute-force way.\n",
    "It only knows the information about how to traverse the given tree and how to\n",
    "find the goal state. This algorithm is also known as the Blind search algorithm\n",
    "or Brute -Force algorithm.\n",
    "\n",
    "The uninformed search strategies are of six types.\n",
    "\n",
    "They are:\n",
    "\n",
    "- Breadth-first search\n",
    "- Depth-first search\n",
    "- Depth-limited search\n",
    "- Iterative deepening depth-first search\n",
    "- Bidirectional search\n",
    "- Uniform cost search\n",
    "\n",
    "Let’s discuss these six strategies one by one"
   ]
  },
  {
   "cell_type": "markdown",
   "metadata": {},
   "source": [
    "## 1. Beadth-first search (BFS)\n",
    "It is of the most common search strategies. It generally starts from the root node and examines the neighbor nodes and then moves to the next level. It uses First-in First-out (FIFO) strategy as it gives the shortest path to achieving the solution.\n",
    "\n",
    "BFS is used where the given problem is very small and space complexity is not considered.\n",
    "\n",
    "Now, consider the following tree."
   ]
  },
  {
   "cell_type": "markdown",
   "metadata": {},
   "source": [
    "![](https://editor.analyticsvidhya.com/uploads/79111e1.JPG)"
   ]
  },
  {
   "cell_type": "markdown",
   "metadata": {},
   "source": [
    "Here, let’s take node A as the start state and node F as the goal state.\n",
    "\n",
    "The BFS algorithm starts with the start state and then goes to the next level and visits the node until it reaches the goal state.\n",
    "\n",
    "In this example, it starts from A and then travel to the next level and visits B and C and then\n",
    "travel to the next level and visits D, E, F and G. Here, the goal state is defined as F. So, the traversal will stop at F."
   ]
  },
  {
   "cell_type": "markdown",
   "metadata": {},
   "source": [
    "![](https://editor.analyticsvidhya.com/uploads/54905e2.png)\n"
   ]
  },
  {
   "cell_type": "markdown",
   "metadata": {},
   "source": [
    "The path of traversal is:\n",
    "\n",
    "A —-> B —-> C —-> D —-> E —-> F\n",
    "\n",
    "Let’s implement the same in python programming."
   ]
  },
  {
   "cell_type": "code",
   "execution_count": 54,
   "metadata": {},
   "outputs": [
    {
     "name": "stdout",
     "output_type": "stream",
     "text": [
      "A\n",
      "B\n",
      "C\n",
      "D\n",
      "E\n",
      "F\n"
     ]
    }
   ],
   "source": [
    "graph = {\n",
    " 'A' : ['B','C'],\n",
    " 'B' : ['D', 'E'],\n",
    " 'C' : ['F', 'G'],\n",
    " 'D' : [],\n",
    " 'E' : [],\n",
    " 'F' : [],\n",
    " 'G' : []\n",
    "}\n",
    "\n",
    "\n",
    "def bfs(graph, node, goal):\n",
    "    visited = [] \n",
    "    queue = []\n",
    "    \n",
    "    visited.append(node)\n",
    "    queue.append(node)\n",
    "    \n",
    "    while queue:\n",
    "        s = queue.pop(0) \n",
    "        print(s)\n",
    "        \n",
    "        for neighbour in graph[s]:\n",
    "            if neighbour not in visited:\n",
    "                visited.append(neighbour)\n",
    "                queue.append(neighbour)\n",
    "                \n",
    "                if goal in visited:\n",
    "                    break\n",
    "bfs(graph, 'A', 'E')"
   ]
  },
  {
   "cell_type": "markdown",
   "metadata": {},
   "source": [
    "Advantages of BFS\n",
    "\n",
    "- BFS will never be trapped in any unwanted nodes.\n",
    "- If the graph has more than one solution, then BFS will return the optimal solution which provides the shortest path.\n",
    "\n",
    "Disadvantages of BFS\n",
    "\n",
    "- BFS stores all the nodes in the current level and then go to the next level. It requires a lot of memory to store the nodes.\n",
    "- BFS takes more time to reach the goal state which is far away.\n"
   ]
  },
  {
   "cell_type": "markdown",
   "metadata": {},
   "source": [
    "## 2. Depth-first search (DFS)\n",
    "\n",
    "Unlike BFS, DFS does not move to all neighbours of initial state but explores state one by one. Which mean, It have to execute one state before moving to the next path. This operation would be done again and again until reaching the goal state.\n",
    "\n",
    "To conduct that, DFS uses Last-in, First-out (LIFO) strategy. However, in this case, we have no need to use stack but use visited list instead\n",
    "\n",
    "Note that, DFS uses backtracking. \n",
    "\n",
    "- DFS will follow: Root node —-> Left node —-> Right node\n",
    "\n",
    "![](https://upload.wikimedia.org/wikipedia/commons/7/7f/Depth-First-Search.gif)\n",
    "\n",
    "Now, consider the same example tree mentioned above.\n",
    "\n",
    "Here, it starts from the start state A and then travels to B and then it goes to D. After reaching\n",
    "D, it backtracks to B. B is already visited, hence it goes to the next depth E and then backtracks to B. as it is already visited, it goes back to A. A is already visited. So, it goes to C and then to F. F is our goal state and it stops there.\n",
    "\n",
    "![](https://editor.analyticsvidhya.com/uploads/36406e4.png)\n",
    "\n",
    "The path of traversal is:\n",
    "\n",
    "A —-> B —-> D —-> E —-> C —-> F"
   ]
  },
  {
   "cell_type": "code",
   "execution_count": 31,
   "metadata": {},
   "outputs": [
    {
     "name": "stdout",
     "output_type": "stream",
     "text": [
      "A\n",
      "B\n",
      "D\n",
      "E\n"
     ]
    }
   ],
   "source": [
    "graph = {\n",
    " 'A' : ['B','C'],\n",
    " 'B' : ['D', 'E'],\n",
    " 'C' : ['F', 'G'],\n",
    " 'D' : [],\n",
    " 'E' : [],\n",
    " 'F' : [],\n",
    " 'G' : []\n",
    "}\n",
    "\n",
    "visited = set() \n",
    "\n",
    "def dfs(visited, graph, node, goal):\n",
    "    if node not in visited:\n",
    "        print (node)\n",
    "        visited.add(node)\n",
    "        \n",
    "    for neighbour in graph[node]:\n",
    "        if goal in visited:\n",
    "            break\n",
    "        else:\n",
    "            dfs(visited, graph, neighbour,goal)\n",
    "                \n",
    "dfs(visited, graph, 'A', 'E')"
   ]
  },
  {
   "cell_type": "markdown",
   "metadata": {},
   "source": [
    "Advantages of DFS\n",
    "\n",
    "- It takes lesser memory as compared to BFS.\n",
    "- The time complexity is lesser when compared to BFS.\n",
    "- DFS does not require much more search.\n",
    "\n",
    "Disadvantages of DFS\n",
    "\n",
    "- DFS does not always guarantee to give a solution.\n",
    "- As DFS goes deep down, it may get trapped in an infinite loop."
   ]
  },
  {
   "cell_type": "markdown",
   "metadata": {},
   "source": [
    "## 3. Depth-limited search (DLS)\n",
    "\n",
    "Depth-limited works similarly to DFS. The difference here is that DLS has a pre-defined `limit` up to which it can traverse the nodes. DLS will explore some particular nodes but not go too far from the graph.\n",
    "\n",
    "With this, DLS solves two of the drawbacks of DFS is that it does not go to an infinite path and skip unecessary nodes.\n",
    "\n",
    "DLS ends its traversal if any of the following event exits:\n",
    "\n",
    "- problem solved: find node successfully\n",
    "\n",
    "- Standard Failure: Traversing entire nodes does not possess any solutions.\n",
    "\n",
    "- Cut off Failure Value: Reaching the limit depth, but  there is no solution in this level.\n",
    "\n",
    "Now, consider the same example.\n",
    "\n",
    "Let’s take A as the start node and C as the goal state and limit as 1.\n",
    "\n",
    "1. The traversal first starts with node A \n",
    "2. Then goes to the next level 1 \n",
    "3. The goal state C is there. It stops the traversal.\n",
    "\n",
    "![](https://editor.analyticsvidhya.com/uploads/90827e6.png)"
   ]
  },
  {
   "cell_type": "markdown",
   "metadata": {},
   "source": [
    "The path of traversal is: A —-> C\n",
    "\n",
    "If we give C as the goal node and the limit as 0, the algorithm will not return any path as the goal node is not available within the given limit.\n",
    "\n",
    "If we give the goal node as F and limit as 2, the path will be A —-> C —-> F.\n",
    "\n",
    "The main point is, we use `backtracking` strategy in the process to go back the root when any explored node does not lead to a solution. This can be implemented by `pop()`  (LIFO) to get rid of the unnecessary nodes. Then, the process will try another path by starting again at root until reaching the goal."
   ]
  },
  {
   "cell_type": "code",
   "execution_count": 20,
   "metadata": {},
   "outputs": [
    {
     "name": "stdout",
     "output_type": "stream",
     "text": [
      "['A', 'C', 'F']\n"
     ]
    }
   ],
   "source": [
    "graph = {\n",
    "    'A' :['B', 'C'],\n",
    "    'B' : ['D', 'E'],\n",
    "    'C' : ['F', 'G'],\n",
    "    'D' : [],\n",
    "    'E' : [],\n",
    "    'F' : [],\n",
    "    'G' : []\n",
    "}\n",
    "\n",
    "def DLS(node, goal, limit):\n",
    "    \n",
    "    visited = []    \n",
    "    \n",
    "    def DLS(node,goal,visited,level,limit):\n",
    "        \n",
    "        visited.append(node)\n",
    "        \n",
    "        if node == goal:    \n",
    "            return visited\n",
    "        \n",
    "        if level == limit:\n",
    "            return False\n",
    "        \n",
    "        for neighbour in graph[node]:\n",
    "            if DLS(neighbour, goal, visited, level+1, limit): \n",
    "                return visited \n",
    "            else:\n",
    "                visited.pop() # go back the root\n",
    "        return False\n",
    "    \n",
    "    DLS(node,goal, visited, limit, 0)\n",
    "    return visited\n",
    "\n",
    "path = DLS('A', 'F', 2)\n",
    "\n",
    "print(path)"
   ]
  },
  {
   "cell_type": "markdown",
   "metadata": {},
   "source": [
    "Advantages of DLS\n",
    "\n",
    "- It takes lesser memory when compared to other search techniques.\n",
    "\n",
    "Disadvantages of DLS\n",
    "\n",
    "- DLS may not offer an optimal solution if the problem has more than one solution.\n",
    "- DLS also encounters incompleteness"
   ]
  },
  {
   "cell_type": "markdown",
   "metadata": {},
   "source": [
    "## Uniform cost search (UCS)\n",
    "\n",
    "Uniform-Cost Search is a variant of Dijikstra’s algorithm. \n",
    "\n",
    "Here, instead of inserting all vertices into a priority queue, we insert only the source, then one by one insert when needed. In every step, we check if the item is already in the priority queue (using the visited array). If yes, we perform the decrease key, else we insert it.\n",
    "\n",
    "This variant of Dijkstra is useful for infinite graphs and that graph which are too large to represent in memory. Uniform-Cost Search is mainly used in Artificial Intelligence.\n",
    "\n",
    "Consider the below\n",
    "graph where each node has a pre-defined cost.\n",
    "\n",
    "![](https://editor.analyticsvidhya.com/uploads/51836e13.png)\n",
    "\n",
    "Here, S is the start node and G is the goal node.\n",
    "\n",
    "From S, G can be reached in the following ways.\n",
    "\n",
    "- S, A, E, F, G -> 19\n",
    "\n",
    "- S, B, E, F, G -> 18\n",
    " \n",
    "- S, B, D, F, G -> 19\n",
    " \n",
    "- S, C, D, F, G -> 23\n",
    "\n",
    "Here, the path with the least cost is S, B, E, F, G."
   ]
  },
  {
   "cell_type": "markdown",
   "metadata": {},
   "source": [
    "![](https://editor.analyticsvidhya.com/uploads/25118e14.png)"
   ]
  },
  {
   "cell_type": "markdown",
   "metadata": {},
   "source": [
    "Source: [analyticsvidhya](https://www.analyticsvidhya.com/blog/2021/10/an-introduction-to-problem-solving-using-search-algorithms-for-beginners/)"
   ]
  },
  {
   "cell_type": "code",
   "execution_count": 1,
   "metadata": {},
   "outputs": [
    {
     "name": "stdout",
     "output_type": "stream",
     "text": [
      "Path with least cost is:  S -> C -> D -> F -> G\n"
     ]
    }
   ],
   "source": [
    "graph=[['B','A',6],\n",
    "       ['G','B',5],\n",
    "       ['S','C',10],\n",
    "       ['A','E',6],\n",
    "       ['B','E',6],\n",
    "       ['B','D',7],\n",
    "       ['C','D',6],\n",
    "       ['E','F',6],\n",
    "       ['D','F',6],\n",
    "       ['F','G',1]]\n",
    "\n",
    "src = []\n",
    "dest = []\n",
    "\n",
    "for i in graph:\n",
    "  src.append(i[0])  # source:      ['S', 'S', 'S', 'A', 'B', 'B', 'C', 'E', 'D', 'F']\n",
    "  dest.append(i[1]) # destination: ['A', 'B', 'C', 'E', 'E', 'D', 'D', 'F', 'F', 'G']\n",
    "\n",
    "nodes = set(src).union(set(dest)) # nodes: {'B', 'C', 'E', 'A', 'S', 'F', 'D', 'G'}\n",
    "\n",
    "def UCS(graph, curr):\n",
    "    \n",
    "    costs, path = {}, {}\n",
    "    \n",
    "    for i in nodes:\n",
    "        costs[i] = 999999 # {A: oo, B: oo, C: oo, D: oo, S: oo, F: oo, D: oo, G: oo}\n",
    "        path[i] = ' '   \n",
    "    \n",
    "    prio_queue = set()\n",
    "    visited = set()\n",
    "    \n",
    "    prio_queue.add(curr) # queue: [(S, 0 ),]\n",
    "\n",
    "    costs[curr] = 0 # {B: oo , C: oo, E: oo, A: oo, S: 0, F: oo, D: oo, G: oo}\n",
    "    path[curr] = curr \n",
    "    # A: []\n",
    "    # B: []\n",
    "    # .....\n",
    "    # S: [S]\n",
    "    \n",
    "    def UCS(graph, costs, prio_queue, visited, curr):\n",
    "        if curr in prio_queue:\n",
    "            prio_queue.remove(curr)\n",
    "       \n",
    "        visited.add(curr)\n",
    "        for i in graph:\n",
    "            if(i[0] == curr and costs[i[0]] + i[2] < costs[i[1]]):\n",
    "                prio_queue.add(i[1])\n",
    "                costs[i[1]] = costs[i[0]] + i[2]\n",
    "                path[i[1]] = path[i[0]] + ' -> ' + i[1]\n",
    "                \n",
    "        costs[curr] = 999999\n",
    "        small = min(costs, key=costs.get) # find the smallest cost\n",
    "        if small not in visited:\n",
    "            UCS(graph, costs, prio_queue,visited, small)\n",
    "\n",
    "    UCS(graph, costs, prio_queue, visited, curr)\n",
    "    return path\n",
    "\n",
    "\n",
    "start = 'S'\n",
    "goal = 'G'\n",
    "\n",
    "path = UCS(graph, start)\n",
    "\n",
    "print(\"Path with least cost is: \",path[goal])"
   ]
  },
  {
   "cell_type": "code",
   "execution_count": null,
   "metadata": {},
   "outputs": [],
   "source": []
  }
 ],
 "metadata": {
  "kernelspec": {
   "display_name": "Python 3",
   "language": "python",
   "name": "python3"
  },
  "language_info": {
   "codemirror_mode": {
    "name": "ipython",
    "version": 3
   },
   "file_extension": ".py",
   "mimetype": "text/x-python",
   "name": "python",
   "nbconvert_exporter": "python",
   "pygments_lexer": "ipython3",
   "version": "3.10.11"
  }
 },
 "nbformat": 4,
 "nbformat_minor": 2
}
