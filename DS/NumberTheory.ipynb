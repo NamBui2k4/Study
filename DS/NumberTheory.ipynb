{
 "cells": [
  {
   "cell_type": "markdown",
   "metadata": {},
   "source": [
    "<h1 style=\"text-align:center\"> Lý thuyết số - Number Theory </h1>\n",
    "\n",
    "-------------"
   ]
  },
  {
   "cell_type": "markdown",
   "metadata": {},
   "source": [
    "## Số nguyên"
   ]
  },
  {
   "cell_type": "markdown",
   "metadata": {},
   "source": [
    "<html> \n",
    "    <body>\n",
    "        <div style=\"justify-content: space-between; display: flex; width:60%;  align-items: center;\">\n",
    "        <div style=\"width:30%; padding-left: 170px;  font-style: italic;\">\n",
    "        <p> Chúa đã tạo ra các số nguyên. Công việc còn lại là của con người</p> \n",
    "        <footer>- Leopold Kronecker - </footer>\n",
    "        </div>\n",
    "        <img src='https://th.bing.com/th?id=ODL.08dd53d12614237842f1dd14d83e9da1&w=228&h=300&c=10&rs=1&qlt=99&o=6&dpr=1.5&pid=13.1'></img>\n",
    "    </div>\n",
    "    </body>\n",
    "</html>"
   ]
  },
  {
   "cell_type": "markdown",
   "metadata": {},
   "source": [
    "### Định lý chia hết (Divisibility)"
   ]
  },
  {
   "cell_type": "markdown",
   "metadata": {},
   "source": [
    "- b chia hết cho a, ký hiệu a $\\mid$ b\n",
    "\n",
    "    ⇔ ∃ k $\\in$ $\\mathbb{Z}$ : b = k × a\n",
    "\n",
    "Nếu n, d $\\in$ và d # 0 thì n $\\mid$ d khi và chỉ khi n bằng d nhân với một số nguyên nào đó.\n",
    "\n",
    "Thay vì “n chia hết cho d,” chúng ta có thể nói rằng\n",
    "\n",
    "- n là bội số của d, hoặc\n",
    "- d là thừa số của n, hoặc\n",
    "- d là ước của n\n"
   ]
  },
  {
   "cell_type": "markdown",
   "metadata": {},
   "source": [
    "### Định lý\n",
    " $$∀ a, b, c \\in Z : a \\mid b ,\\; a \\mid c $$\n",
    " $$⇒ ∀ x, y \\in Z : a \\mid (bx+cy) $$\n"
   ]
  },
  {
   "cell_type": "markdown",
   "metadata": {},
   "source": [
    "Nghĩa là, nếu a chia hết cho cả b và c thì a sẽ chia hết cho tổ hợp tuyến tính của chúng"
   ]
  },
  {
   "cell_type": "markdown",
   "metadata": {},
   "source": [
    "**Chứng minh:**\n",
    "\n",
    "- $ ∀ a,b,c \\in Z $:\n",
    "\n",
    "- Nếu $ a \\mid b $ và $a \\mid c$:\n",
    "\n",
    "- Gọi k $\\in$ Z : $b = ak \\quad$ ,theo định lý divisibility\n",
    "- Gọi m $\\in$ Z : $c = am \\quad$ ,theo định lý divisibility\n",
    "\n",
    "- ∀ x, y $\\in$ Z, ta có:\n",
    "\n",
    "  + $bx +cy =(ak)x +(am)y = a(kx +my) \\quad$ ,theo luật phân phối\n",
    "  + Mà $kx +my$ $\\in$ Z. \n",
    "  \n",
    "- Do đó: $a \\mid (bx +cy) $\n",
    "\n",
    "⟹ Điều phải chứng minh\n"
   ]
  },
  {
   "cell_type": "markdown",
   "metadata": {},
   "source": [
    "## Số nguyên tố (prime)"
   ]
  },
  {
   "cell_type": "markdown",
   "metadata": {},
   "source": [
    "Số nguyên tố giống như các hạt hạ nguyên tử của vật chất vậy, không thể bị phân rã nhỏ hơn.\n",
    "\n",
    "Hãy cùng tìm hiểu tính chất và ứng dụng của nó"
   ]
  },
  {
   "cell_type": "markdown",
   "metadata": {},
   "source": [
    "### Định nghĩa đơn giản \n",
    "\n",
    "Số nguyên tố là số nguyên dương lớn hơn 1, chỉ chia hết cho 1 và chính nó.\n",
    "\n",
    "### Định nghĩa trừu tượng\n",
    "\n",
    "Một số nguyên $n$ là số nguyên tố khi và chỉ khi:\n",
    "\n",
    "- $n > 1$  \n",
    "- $ ∀ r, s \\in Z : n = rs $\n",
    "- $r = n$ và $s = 1$ hoặc ngược lại. \n",
    "\n",
    "Một số nguyên $n$ là hợp số khi và chỉ khi:\n",
    "- $n > 1$ và $n= rs$ \n",
    "- $1 <r<n$\n",
    "- $1<s <n.$"
   ]
  },
  {
   "cell_type": "markdown",
   "metadata": {},
   "source": [
    "**Lưu ý:**\n",
    "- 1 không phải là nguyên tố, cũng không phải hợp số. \n",
    "- Các số nguyên tố đầu tiên là: 2, 3, 5, 7, 11, 13, 17, 19. \n",
    "- Các hợp số đầu tiên là: 4, 6, 8, 9, 10,12, 14, 15,..."
   ]
  },
  {
   "cell_type": "markdown",
   "metadata": {},
   "source": [
    "### Tính chất"
   ]
  },
  {
   "cell_type": "markdown",
   "metadata": {},
   "source": [
    "Tập số nguyên tố ký hiệu là $P$\n",
    "\n",
    "Với 2 số nguyên tố $p$ và $p'$, ta có\n",
    "$$ p \\mid p' \\quad ⇒ p = p'$$"
   ]
  },
  {
   "cell_type": "markdown",
   "metadata": {},
   "source": [
    "**Chứng minh:**\n",
    "\n",
    "Nếu $ p \\mid p':$\n",
    "  - Gọi  $ k \\in Z : p' = pk ~$, theo định nghĩa divisibility\n",
    "  - Vì $p' \\in P $ ⇒ $p=1$ và $k=p'$ hoặc ngược lại, theo định nghĩa trừu tượng\n",
    "  - Vì $p \\in P $ ⇒ $p > 1 $ \n",
    "  - ⇒  $p = p'$ và $k=1$\n",
    "\n",
    "⟹ điều phải chứng minh"
   ]
  }
 ],
 "metadata": {
  "language_info": {
   "name": "python"
  }
 },
 "nbformat": 4,
 "nbformat_minor": 2
}
