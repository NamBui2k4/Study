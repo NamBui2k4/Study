{
 "cells": [
  {
   "cell_type": "markdown",
   "metadata": {},
   "source": [
    "# RSA Algorithm\n",
    "\n",
    "The RSA algorithm is a widely used public-key encryption algorithm named after its inventors Ron Rivest, Adi Shamir, and Leonard Adleman. It is based on the mathematical concepts of prime factorization and modular arithmetic.\n",
    "\n",
    "The algorithm for RSA is as follows:\n",
    "\n",
    "1. Select 2 prime numbers, preferably large, $p$ and $q$.\n",
    "2. Calculate $n = p × q$.\n",
    "3. Calculate $\\phi = (p-1)×(q-1)$\n",
    "4. Choose a value of $e$ such that \n",
    "   - $1<e<\\phi$ \n",
    "   - $\\gcd(\\phi(n), e) = 1.$\n",
    "5. Calculate d such that $d = e^{-1} \\quad (\\mod\\phi)$\n"
   ]
  },
  {
   "cell_type": "markdown",
   "metadata": {},
   "source": [
    "Here the public key is {$e, n$} and private key is {$d, n$}. \n",
    "\n",
    "If $M$ is the plain text then the cipher text $C = M^e \\quad (\\mod n)$. This is how data is encrypted in RSA algorithm. Similarly, for decryption, the plain text $M = C^d (\\mod n)$."
   ]
  },
  {
   "cell_type": "code",
   "execution_count": 14,
   "metadata": {},
   "outputs": [
    {
     "name": "stdout",
     "output_type": "stream",
     "text": [
      "True\n",
      "True\n"
     ]
    }
   ],
   "source": [
    "import math\n",
    "def check_prime(n):\n",
    "    i = 2\n",
    "    while i**2 < n:\n",
    "        if n%i==0:\n",
    "            return False\n",
    "        i+=1\n",
    "    return True\n",
    "p = 3\n",
    "q = 11\n",
    "print(check_prime(p))\n",
    "print(check_prime(q))"
   ]
  },
  {
   "cell_type": "code",
   "execution_count": 30,
   "metadata": {},
   "outputs": [
    {
     "data": {
      "text/plain": [
       "5"
      ]
     },
     "execution_count": 30,
     "metadata": {},
     "output_type": "execute_result"
    }
   ],
   "source": [
    "# find X such that (A * X) ≡ 1 (mod M)\n",
    "def modInverse(A, M):\n",
    "    for X in range(1, M):\n",
    "        if (A*X % M==1) and (1%M == 1):\n",
    "            return X\n",
    "    return -1\n",
    "\n",
    "modInverse(10,7)"
   ]
  },
  {
   "cell_type": "code",
   "execution_count": 43,
   "metadata": {},
   "outputs": [
    {
     "name": "stdout",
     "output_type": "stream",
     "text": [
      "p: 3\n",
      "q: 11\n",
      "n: 33\n",
      "phi:  20\n",
      "e: [7, 3, 9, 11, 17, 13, 19]\n",
      "d:  [3, 7, 9, 11, 13, 17, 19]\n",
      "public key: { 7 , 33 }\n",
      "private key: { 3 , 33 }\n"
     ]
    }
   ],
   "source": [
    "n = p*q\n",
    "phi = (p-1)*(q-1)\n",
    "\n",
    "def gcd(a, b):\n",
    "    if a%b==0:\n",
    "        return b\n",
    "    return gcd(b,a%b)\n",
    "\n",
    "# def gcd(a,b):\n",
    "#     while (b != 0):\n",
    "#         r = a % b \n",
    "#         a = b\n",
    "#         b = r\n",
    "#     return a\n",
    "\n",
    "e = []\n",
    "d = []\n",
    "for i in range(2, phi+1):\n",
    "    if gcd(phi,i)==1:\n",
    "        d.append(i)\n",
    "        e.append(modInverse(i, phi))\n",
    "\n",
    "print('p:', p)\n",
    "print('q:', q)\n",
    "print('n:' ,n)\n",
    "print('phi: ', phi)\n",
    "print('e:', e)\n",
    "print('d: ', d)\n",
    "print('public key: {', e[0] ,',',n ,'}')\n",
    "print('private key: {', d[0] ,',',n ,'}')"
   ]
  }
 ],
 "metadata": {
  "kernelspec": {
   "display_name": "Python 3",
   "language": "python",
   "name": "python3"
  },
  "language_info": {
   "codemirror_mode": {
    "name": "ipython",
    "version": 3
   },
   "file_extension": ".py",
   "mimetype": "text/x-python",
   "name": "python",
   "nbconvert_exporter": "python",
   "pygments_lexer": "ipython3",
   "version": "3.10.11"
  }
 },
 "nbformat": 4,
 "nbformat_minor": 2
}
