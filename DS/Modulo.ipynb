{
 "cells": [
  {
   "cell_type": "markdown",
   "metadata": {},
   "source": [
    "<h1 style=\"text-align: center\"> Toán Modulo</h1>\n",
    "\n",
    "---------------------"
   ]
  },
  {
   "cell_type": "markdown",
   "metadata": {},
   "source": [
    "\n",
    "<div style=\"justify-content: space-between; display: flex; width:90%;  align-items: center;\">\n",
    "    <div style=\" width:30%; padding-left: 100px; padding-right:60px;  font-style: italic;\">\n",
    "        <p> Anh bạn à, trong toán học, anh không hiểu mọi thứ được đâu. Anh chỉ có làm quen với nó thôi</p>\n",
    "        <p> Người ta cứ bảo toán học khó là bởi họ chưa thấy cuộc đời phức tạp như thế nào </p>\n",
    "        <sign> - john von neumann -</sign>\n",
    "    </div>\n",
    "<img src='https://i.pinimg.com/736x/c4/21/14/c42114f5e0cf02b515fcf82f06bbe1bf--john-von-neumann-game-theory.jpg' style=\"weight:10px; heigh: 10px\"></img>\n",
    "\n",
    "</div>\n"
   ]
  },
  {
   "cell_type": "markdown",
   "metadata": {},
   "source": [
    "\n",
    "<div style=\"justify-content: space-between; display: flex; width:100%;  align-items: center;\">\n",
    "\n",
    "<div>\n",
    "    <p> Trong cuộc sống, chúng ta hay gặp phải những câu hỏi đơn giản nhưng lại khó giải quyết, kiểu như:</p>\n",
    "    <p> \" Tháng 9 năm 2015 là thứ Ba. Vậy ngày 30 tháng 9 là ngày thứ mấy ?\" </p>\n",
    "    <p>\"Đứa bạn nhắn tin cho bạn: \"tao gặp mày sau 78 giờ nữa\" . Điện thoại của bạn hiển thị bây giờ là 11h30. Vậy mấy giờ nó sẽ xuất hiện?\" </p>\n",
    "     <p> Để trả lời cho những câu hỏi này, đôi khi chúng ta sẽ sử dụng toán modulo để tính toán ra kết quả mong muốn </p>\n",
    "</div>\n",
    "\n",
    "<img src='https://www.color-meanings.com/wp-content/uploads/Colors-of-the-Week-1.png'></img>\n",
    "\n",
    "</div>\n"
   ]
  },
  {
   "cell_type": "markdown",
   "metadata": {},
   "source": [
    "# Đồng dư modulo\n",
    "\n",
    "Trước khi đi vào phần này, hãy đọc kỹ lại phần [Toán đồng dư](Congruence.ipynb) và [Lý thuyết số](NumberTheory.ipynb)\n",
    "\n",
    "**Định lý:**    Với m, n là 2 số nguyên và d là một số nguyên dương, ta có:\n",
    "    \n",
    "$$ m ≡ n \\quad \\text{(mod d)}$$\n",
    "$$ ⟺ d \\mid (m - n)\n"
   ]
  },
  {
   "cell_type": "markdown",
   "metadata": {},
   "source": [
    "**Ví dụ:**\n",
    "\n",
    "- $ 12≡7 \\quad  \\text{(mod 5)} \\quad$ ⇒ True vì $ 5 \\mid (12-7)$\n",
    "- $ 6≡ -8 \\quad \\text{(mod 4)} \\quad$ ⇒ False vì $ 4 \\nmid (6 - (-8))$ \n",
    "- $ 3≡3 \\quad   \\text{(mod 7)} \\quad$ ⇒ True vì $ 7 \\mid (3-3)$"
   ]
  },
  {
   "cell_type": "markdown",
   "metadata": {},
   "source": [
    "## Nghịch đảo modulo của một số"
   ]
  },
  {
   "cell_type": "code",
   "execution_count": null,
   "metadata": {
    "vscode": {
     "languageId": "plaintext"
    }
   },
   "outputs": [],
   "source": []
  },
  {
   "cell_type": "markdown",
   "metadata": {},
   "source": [
    "### Định nghĩa\n",
    "Như chúng ta đều biết ở chương trình Toán phổ thông, \n",
    "nghịch đảo của một số nguyên a (kí hiệu $a^{−1}$ ) là số thỏa mãn: $a.a^{−1} =1.$"
   ]
  }
 ],
 "metadata": {
  "language_info": {
   "name": "python"
  }
 },
 "nbformat": 4,
 "nbformat_minor": 2
}
