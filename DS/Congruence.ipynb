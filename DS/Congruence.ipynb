{
 "cells": [
  {
   "cell_type": "markdown",
   "metadata": {},
   "source": [
    "Bài viết được lấy từ nguồn:\n",
    "\n",
    "[vietcodes](https://vietcodes.github.io/algo/modulo)"
   ]
  },
  {
   "cell_type": "markdown",
   "metadata": {},
   "source": [
    "<h1 style=\"text-align: center\"> Toán đồng dư </h1>\n",
    "\n",
    "----------------"
   ]
  },
  {
   "cell_type": "markdown",
   "metadata": {},
   "source": [
    "## Nhắc lại kiến thức phổ thông"
   ]
  },
  {
   "cell_type": "markdown",
   "metadata": {},
   "source": [
    "**Quy tắc chia 2 số nguyên khác dấu:** Muốn chia 2 số nguyên khác dấu ta chia giá trị tuyệt đối của chúng rồi đặt dấu ‘-‘ trước kết quả tìm được. \n",
    "\n",
    "**Ví dụ** : Xét $A = -10 \\div 2$. \n",
    "\n",
    "Ta có $10 \\div 2 = 5$.\n",
    "\n",
    "Do đó $ A = -5$ \n",
    "\n",
    "Phép chia 2 số nguyên đôi khi sinh ra phần dư.\n",
    "\n",
    "**Ví dụ** : $-10 \\div 3 = -3 \\quad \\text{dư} -1 $\n",
    "\n",
    "--------"
   ]
  },
  {
   "cell_type": "markdown",
   "metadata": {},
   "source": [
    "## Phép lấy phần dư"
   ]
  },
  {
   "cell_type": "markdown",
   "metadata": {},
   "source": [
    "- Xét $a,b∈Z,b≠0$, phần dư khi chia a cho b được kí hiệu là `a mod b`.\n",
    "\n",
    "- **Ví dụ:**\n",
    "  + $30\\mod7=2$\n",
    "  + $10\\mod2=0$\n",
    "  + $−12\\mod5=3$\n",
    "\n",
    "- Ta thấy, $−12 \\mod 5$ có thể có 2 kết quả là −2 hoặc 3. Thông thường, khi làm toán thì số dương được ưu tiên, tuy nhiên khi lập trình phép $mod $ này sẽ cho kết quả âm.\n",
    "\n",
    "Định nghĩa một cách chuẩn mực, xét phép chia Euclide $a$ cho $b$:\n",
    "\n",
    "- $q∈Z$\n",
    "- $a=bq+r$\n",
    "- $|r|<|b|$ \n",
    "\n",
    "Thì ta có $a\\mod b=r$.\n",
    "\n",
    "**Ghi chú:** \n",
    "\n",
    "- Nếu $a < b$ thì $ a\\mod b = a$ \n",
    "\n",
    "  Ví dụ: $1 \\mod 3 = 1$ \n",
    "\n",
    "- Phép tính $ a \\mod b $ sẽ cho ra 2 kết quả trái dấu. Nói cách khác, khi chúng ta chia 2 số nguyên, sẽ luôn có 2 phần dư được sinh  ra.\n",
    "\n",
    "  Ví dụ 1: \n",
    "  + $12 \\mod 5 = 2$. \n",
    "  \n",
    "    hoặc\n",
    "  + $12 \\mod 5 = -3$.\n",
    "\n",
    "  Với mỗi phần dư tính được, ta có thể suy ngược lại: $12 = 5.2 + 2 ~$ hoặc $~ 12 = 5.3 - 3$\n",
    "\n",
    "  Ví dụ 2:  \n",
    "  + $-67 \\mod 5 = -2 $ \n",
    "  \n",
    "    hoặc \n",
    "  + $-67 \\mod 5 = 3$\n",
    "\n",
    "  Suy ngược lại: $-67 = 5.(-13) + (-2) ~$ hoặc $~ -67 = 5.(-14) + 3$\n",
    "\n",
    "**Cách tìm ra cả 2 phần dư đó**\n",
    "\n",
    "Từ ví dụ trên, ta nhận thấy có 2 trường hợp xảy ra khi thực hiện $a \\mod b$\n",
    "\n",
    "  - **(1)** a, b trái dấu: Khi đó, ta nhân b với hai số nguyên dương sao cho 2 kết quả tương ứng gần nhất với |a| rồi cộng nó với a\n",
    "    + VD: Tính $ -67 \\mod 5$ \n",
    "      + $5.13 = 65$ \n",
    "      + ⇒ $-67 \\mod 5 = -67 + 65 = -2$\n",
    "\n",
    "      hoặc\n",
    "      + $5.14 = 70$ \n",
    "      + ⇒ $-67 \\mod 5 = -67 + 70 = 3$\n",
    "\n",
    "  - **(2)** a, b cùng dấu: Khi đó, ta nhân b với hai số nguyên dương sao cho 2 kết quả tương ứng gần nhất với |a| rồi trừ nó cho a\n",
    "    \n",
    "    + VD: Tính $ 67 \\mod 5$ \n",
    "      + $5.13 = 65$ \n",
    "      + ⇒ $67 \\mod 5 = 67 - 65 = 2$\n",
    "      \n",
    "      hoặc\n",
    "      + $5.14 = 70$ \n",
    "      + ⇒ $67 \\mod 5 = 67 - 70 = -3$"
   ]
  },
  {
   "cell_type": "markdown",
   "metadata": {},
   "source": [
    "## Đồng dư\n",
    "\n",
    "Xét số nguyên $n>1$ và 2 số nguyên $a, b$\n",
    "\n",
    "ta kí hiệu $a≡b ~ \\text{(mod n)}$ khi a và b có cùng số dư khi chia cho n, đọc là a đồng dư với b modulo n\n",
    "\n",
    "Ví dụ:\n",
    "- $12≡7≡2 ~ \\text{(mod 5)}$\n",
    "- $−3≡2 ~ \\text{(mod 5)}$\n",
    "\n",
    "Như vậy, $ a≡b ~\\text{(mod n)} ⟺ (a \\mod n) = (b \\mod n$)\n",
    "\n",
    "--------------"
   ]
  },
  {
   "cell_type": "markdown",
   "metadata": {},
   "source": [
    "## Tính chất của phép đồng dư"
   ]
  },
  {
   "cell_type": "markdown",
   "metadata": {},
   "source": [
    "$(a+b) \\mod c =[(a \\mod c)+(b \\mod c)]\\mod c$"
   ]
  },
  {
   "cell_type": "markdown",
   "metadata": {},
   "source": [
    "$(a-b) \\mod c =[(a \\mod c)+-b \\mod c)]\\mod c$"
   ]
  },
  {
   "cell_type": "markdown",
   "metadata": {},
   "source": [
    "$(a×b) \\mod c =[(a \\mod c)×(b \\mod c)]\\mod c$"
   ]
  },
  {
   "cell_type": "markdown",
   "metadata": {},
   "source": [
    "Riêng đối với phép chia, chúng ta không có tính chất phân phối, mà phải sử dụng một lí thuyết là Nghịch đảo modulo."
   ]
  },
  {
   "cell_type": "code",
   "execution_count": null,
   "metadata": {
    "vscode": {
     "languageId": "plaintext"
    }
   },
   "outputs": [],
   "source": []
  }
 ],
 "metadata": {
  "language_info": {
   "name": "python"
  }
 },
 "nbformat": 4,
 "nbformat_minor": 2
}
