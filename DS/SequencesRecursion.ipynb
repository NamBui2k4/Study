{
 "cells": [
  {
   "cell_type": "markdown",
   "metadata": {},
   "source": []
  },
  {
   "cell_type": "markdown",
   "metadata": {},
   "source": [
    "<html> \n",
    "    <body>\n",
    "        <div style=\"justify-content: space-between; display: flex; width:80%;  align-items: center;\">\n",
    "        <div style=\"width:30%; padding-left: 170px;  font-style: italic;\">\n",
    "        <p> Một nhà toán học cũng giống như họa sỹ hay thi sĩ, họ đều tạo ra quy luật</p> \n",
    "        <footer>-  Godfrey Harold Hardy - </footer>\n",
    "        </div>\n",
    "        <img src='https://th.bing.com/th/id/OIP.PJldoBouiZa9eXzwQlUvMgHaKZ?rs=1&pid=ImgDetMain'></img>\n",
    "    </div>\n",
    "    </body>\n",
    "</html>"
   ]
  }
 ],
 "metadata": {
  "language_info": {
   "name": "python"
  }
 },
 "nbformat": 4,
 "nbformat_minor": 2
}
